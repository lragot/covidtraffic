{
  "cells": [
    {
      "cell_type": "markdown",
      "source": [
        "# Patient Counseling"
      ],
      "metadata": {
        "id": "7b4qcoh60ULb"
      },
      "id": "7b4qcoh60ULb"
    },
    {
      "cell_type": "markdown",
      "source": [
        "### Importing my drive"
      ],
      "metadata": {
        "id": "-TyX0hHq0ZBq"
      },
      "id": "-TyX0hHq0ZBq"
    },
    {
      "cell_type": "code",
      "source": [
        "from google.colab import drive\n",
        "drive.mount('/content/drive')"
      ],
      "metadata": {
        "colab": {
          "base_uri": "https://localhost:8080/"
        },
        "id": "3WiJ5ip00cs8",
        "outputId": "fb57a072-0fd5-43cf-a4bc-7271f06df09c"
      },
      "id": "3WiJ5ip00cs8",
      "execution_count": null,
      "outputs": [
        {
          "output_type": "stream",
          "name": "stdout",
          "text": [
            "Mounted at /content/drive\n"
          ]
        }
      ]
    },
    {
      "cell_type": "markdown",
      "source": [
        "This data set is a collection of survey responses taken post therapy session. The goal of this data set is to predict whether or not a patient will be attending 30 or more therapy sessions. The purpose of identifying these patients is because if they are predicted to need this long term care it may be necessary to reevaluate the care that the patient is receiving. The earlier we can predict whether or not the patient is going to need this care the better, in this data set we try & use the first 6 sessions to predict the duration of care.\n",
        "\n",
        "The survey the patients are taking is based on DASS-21 evaluation which gives a numerical value to the level of depression, anxiety, & stress. The functions declared on the notebook takes the individual scores & evaluates the Depression, anxiety, & stress levels on a scale of 0 - 4 for each category."
      ],
      "metadata": {
        "id": "LcQDUAgqYhdR"
      },
      "id": "LcQDUAgqYhdR"
    },
    {
      "cell_type": "code",
      "execution_count": null,
      "id": "4de197dd",
      "metadata": {
        "id": "4de197dd"
      },
      "outputs": [],
      "source": [
        "import numpy as np\n",
        "import pandas as pd\n",
        "from ipywidgets import Layout\n",
        "import ipywidgets as widgets"
      ]
    },
    {
      "cell_type": "markdown",
      "source": [
        "# Data Cleaning & Feature Engineering"
      ],
      "metadata": {
        "id": "HlhDfmr_ZpMQ"
      },
      "id": "HlhDfmr_ZpMQ"
    },
    {
      "cell_type": "markdown",
      "source": [
        "### Cleaning"
      ],
      "metadata": {
        "id": "v7YXttxoayGn"
      },
      "id": "v7YXttxoayGn"
    },
    {
      "cell_type": "code",
      "execution_count": null,
      "id": "0f3d6529",
      "metadata": {
        "id": "0f3d6529"
      },
      "outputs": [],
      "source": [
        "#edit to make this fit wherever the data is in your files, it's currently coming from my drive\n",
        "data = pd.read_csv('/content/drive/MyDrive/DASS-21 (Responses) - Form Responses 1.csv')\n",
        "\n",
        "#ALEX:\n",
        "#data = pd.read_csv('/content/DASS-21 (Responses) - Form Responses 1.csv')"
      ]
    },
    {
      "cell_type": "code",
      "execution_count": null,
      "id": "ec97d6d5",
      "metadata": {
        "id": "ec97d6d5"
      },
      "outputs": [],
      "source": [
        "data['First/Last Initials (e.g. LP or JTH)'] = data['First/Last Initials (e.g. LP or JTH)'].str.replace('\\.', '', regex = True)\n",
        "data['First/Last Initials (e.g. LP or JTH)'] = data['First/Last Initials (e.g. LP or JTH)'].str.replace('\\\\', '', regex = True)\n",
        "data['First/Last Initials (e.g. LP or JTH)'] = data['First/Last Initials (e.g. LP or JTH)'].str.upper()\n",
        "data['First/Last Initials (e.g. LP or JTH)'] = data['First/Last Initials (e.g. LP or JTH)'].str.replace('\\/', '', regex = True)\n",
        "data['First/Last Initials (e.g. LP or JTH)'] = data['First/Last Initials (e.g. LP or JTH)'].str.replace(' ', '', regex = True)"
      ]
    },
    {
      "cell_type": "code",
      "execution_count": null,
      "id": "278b39ba",
      "metadata": {
        "id": "278b39ba"
      },
      "outputs": [],
      "source": [
        "data['21-30'] = data['Session #'] == '21-30'\n",
        "data['30+'] = data['Session #'] == '30+'\n",
        "data['13-20'] = data['Session #'] == '13-20'\n",
        "data['3 Month Follow Up'] = data['Session #'] == '3 Month Follow Up'\n",
        "data['6 Month Follow Up'] = data['Session #'] == '6 Month Follow Up'\n",
        "data['12 Month Follow Up'] = data['Session #'] == '12 Month Follow Up'\n",
        "data['Session #'] = data['Session #'].str.replace('3 Month Follow Up', '0', regex = True)\n",
        "data['Session #'] = data['Session #'].str.replace('6 Month Follow Up', '0', regex = True)\n",
        "data['Session #'] = data['Session #'].str.replace('12 Month Follow Up', '0', regex = True)\n",
        "data['Session #'] = data['Session #'].str.replace('13-20', '17', regex = True)\n",
        "data['Session #'] = data['Session #'].str.replace('21-30', '25', regex = True)\n",
        "data['Session #'] = data['Session #'].str.replace('30+', '31', regex = False)\n",
        "data['Session #'] = data['Session #'].astype(int)"
      ]
    },
    {
      "cell_type": "code",
      "execution_count": null,
      "id": "92abc5dc",
      "metadata": {
        "id": "92abc5dc"
      },
      "outputs": [],
      "source": [
        "data = data.rename(columns={' ': \"date\"})"
      ]
    },
    {
      "cell_type": "code",
      "execution_count": null,
      "id": "c7dd528b",
      "metadata": {
        "id": "c7dd528b"
      },
      "outputs": [],
      "source": [
        "data['The rating scale is as follows- [I experienced breathing difficulty (e.g., excessively rapid breathing, breathlessness in the absence of physical exertion)]'] = data['The rating scale is as follows- [I experienced breathing difficulty (e.g., excessively rapid breathing, breathlessness in the absence of physical exertion)]'].replace(' ', 0).astype(int)"
      ]
    },
    {
      "cell_type": "markdown",
      "source": [
        "## DAS Scoring\n",
        "these functions take the given responses and score the patient on a scale of 0-4 for depression, anxiety, and stress"
      ],
      "metadata": {
        "id": "bX5Vu3pya785"
      },
      "id": "bX5Vu3pya785"
    },
    {
      "cell_type": "code",
      "execution_count": null,
      "id": "7ca8c446",
      "metadata": {
        "id": "7ca8c446"
      },
      "outputs": [],
      "source": [
        "def depression(row):\n",
        "    score = 2*sum([row[\"The rating scale is as follows- [I couldn't seem to experience any positive feeling at all]\"],\n",
        "                row[\"The rating scale is as follows- [I found it difficult to work up the initiative to do things]\"],\n",
        "                row[\"The rating scale is as follows- [I felt that I had nothing to look forward to]\"],\n",
        "                row[\"The rating scale is as follows- [I felt down-hearted and blue]\"],\n",
        "                row[\"The rating scale is as follows- [I was unable to become enthusiastic about anything]\"],\n",
        "                row[\"The rating scale is as follows- [I felt I wasn't worth much as a person]\"],\n",
        "                row[\"The rating scale is as follows- [I felt that life was meaningless]\"]])\n",
        "    if 0 <= score <= 9:\n",
        "        return 0\n",
        "    elif 10 <= score <= 13:\n",
        "        return 1\n",
        "    elif 14 <= score <= 20:\n",
        "        return 2\n",
        "    elif 21 <= score <= 27:\n",
        "        return 3\n",
        "    elif 28 <= score:\n",
        "        return 4\n",
        "\n",
        "def anxiety(row):\n",
        "    score = 2*sum([row['The rating scale is as follows- [I was aware of dryness of my mouth]'],\n",
        "                row['The rating scale is as follows- [I experienced breathing difficulty (e.g., excessively rapid breathing, breathlessness in the absence of physical exertion)]'],\n",
        "                row['The rating scale is as follows- [I experienced trembling (e.g., in the hands)]'],\n",
        "                row['The rating scale is as follows- [I was worried about situations in which I might panic and make a fool of myself]'],\n",
        "                row['The rating scale is as follows- [I felt I was close to panic]'],\n",
        "                row['The rating scale is as follows- [I was aware of the action of my heart in the absence of physical exertion (e.g., sense of heart rate increase, heart missing a beat)]'],\n",
        "                row['The rating scale is as follows- [I felt scared without any good reason]']]\n",
        "               )\n",
        "    if 0 <= score <= 7:\n",
        "        return 0\n",
        "    elif 8 <= score <= 9:\n",
        "        return 1\n",
        "    elif 10 <= score <= 14:\n",
        "        return 2\n",
        "    elif 15 <= score <= 19:\n",
        "        return 3\n",
        "    elif 20 <= score:\n",
        "        return 4\n",
        "\n",
        "def stress(row):\n",
        "    score = 2*sum([row['The rating scale is as follows- [I found it hard to wind down]'],\n",
        "                row['The rating scale is as follows- [I tended to over-react to situations]'],\n",
        "                row['The rating scale is as follows- [I felt that I was using a lot of nervous energy]'],\n",
        "                row['The rating scale is as follows- [I found myself getting agitated]'],\n",
        "                row['The rating scale is as follows- [I found it difficult to relax]'],\n",
        "                row['The rating scale is as follows- [I was intolerant of anything that kept me from getting on with what I was doing]'],\n",
        "                row['The rating scale is as follows- [I felt that I was rather touchy]']])\n",
        "    if 0 <= score <= 14:\n",
        "        return 0\n",
        "    elif 15 <= score <= 18:\n",
        "        return 1\n",
        "    elif 19 <= score <= 25:\n",
        "        return 2\n",
        "    elif 26 <= score <= 33:\n",
        "        return 3\n",
        "    elif 34 <= score:\n",
        "        return 4\n"
      ]
    },
    {
      "cell_type": "code",
      "source": [
        "data.head(5)"
      ],
      "metadata": {
        "id": "XUpTNO0B5O2U",
        "colab": {
          "base_uri": "https://localhost:8080/",
          "height": 855
        },
        "outputId": "6fdb7a46-f9fd-4b11-c71f-ff5de0ad5fe0"
      },
      "id": "XUpTNO0B5O2U",
      "execution_count": null,
      "outputs": [
        {
          "output_type": "execute_result",
          "data": {
            "text/plain": [
              "                 date First/Last Initials (e.g. LP or JTH)  \\\n",
              "0  8/18/2020 14:02:03                                   OR   \n",
              "1  8/17/2020 18:00:02                                  MCD   \n",
              "2  8/17/2020 16:58:38                                   LC   \n",
              "3   8/16/2020 9:19:29                                   SO   \n",
              "4   8/16/2020 8:58:36                                   SO   \n",
              "\n",
              "  Last 4 Digits of Cell Phone         Your therapist is...  Session #  \\\n",
              "0                        4251  Michelle Wright, AMFT110382          1   \n",
              "1                        4458  Michelle Wright, AMFT110382          7   \n",
              "2                        9185    Kenneth McNeill, APCC6865         25   \n",
              "3                        7813       Jade Sustacek, APC5626          2   \n",
              "4                        7813       Jade Sustacek, APC5626          2   \n",
              "\n",
              "   The rating scale is as follows- [I found it hard to wind down]  \\\n",
              "0                                                  3                \n",
              "1                                                  2                \n",
              "2                                                  0                \n",
              "3                                                  1                \n",
              "4                                                  1                \n",
              "\n",
              "   The rating scale is as follows- [I was aware of dryness of my mouth]  \\\n",
              "0                                                  2                      \n",
              "1                                                  3                      \n",
              "2                                                  0                      \n",
              "3                                                  1                      \n",
              "4                                                  1                      \n",
              "\n",
              "   The rating scale is as follows- [I couldn't seem to experience any positive feeling at all]  \\\n",
              "0                                                  1                                             \n",
              "1                                                  1                                             \n",
              "2                                                  0                                             \n",
              "3                                                  1                                             \n",
              "4                                                  1                                             \n",
              "\n",
              "   The rating scale is as follows- [I experienced breathing difficulty (e.g., excessively rapid breathing, breathlessness in the absence of physical exertion)]  \\\n",
              "0                                                  0                                                                                                              \n",
              "1                                                  0                                                                                                              \n",
              "2                                                  0                                                                                                              \n",
              "3                                                  0                                                                                                              \n",
              "4                                                  0                                                                                                              \n",
              "\n",
              "   The rating scale is as follows- [I found it difficult to work up the initiative to do things]  \\\n",
              "0                                                  0                                               \n",
              "1                                                  3                                               \n",
              "2                                                  0                                               \n",
              "3                                                  2                                               \n",
              "4                                                  2                                               \n",
              "\n",
              "   ...  The rating scale is as follows- [I felt that I was rather touchy]  \\\n",
              "0  ...                                                  0                   \n",
              "1  ...                                                  1                   \n",
              "2  ...                                                  0                   \n",
              "3  ...                                                  2                   \n",
              "4  ...                                                  2                   \n",
              "\n",
              "   The rating scale is as follows- [I was aware of the action of my heart in the absence of physical exertion (e.g., sense of heart rate increase, heart missing a beat)]  \\\n",
              "0                                                  0                                                                                                                        \n",
              "1                                                  0                                                                                                                        \n",
              "2                                                  0                                                                                                                        \n",
              "3                                                  0                                                                                                                        \n",
              "4                                                  0                                                                                                                        \n",
              "\n",
              "   The rating scale is as follows- [I felt scared without any good reason]  \\\n",
              "0                                                  1                         \n",
              "1                                                  1                         \n",
              "2                                                  0                         \n",
              "3                                                  1                         \n",
              "4                                                  1                         \n",
              "\n",
              "   The rating scale is as follows- [I felt that life was meaningless]  21-30  \\\n",
              "0                                                  0                   False   \n",
              "1                                                  1                   False   \n",
              "2                                                  0                    True   \n",
              "3                                                  1                   False   \n",
              "4                                                  1                   False   \n",
              "\n",
              "     30+  13-20  3 Month Follow Up  6 Month Follow Up  12 Month Follow Up  \n",
              "0  False  False              False              False               False  \n",
              "1  False  False              False              False               False  \n",
              "2  False  False              False              False               False  \n",
              "3  False  False              False              False               False  \n",
              "4  False  False              False              False               False  \n",
              "\n",
              "[5 rows x 32 columns]"
            ],
            "text/html": [
              "\n",
              "  <div id=\"df-a9acd85b-6b7d-4c41-a9b7-682e775a8452\">\n",
              "    <div class=\"colab-df-container\">\n",
              "      <div>\n",
              "<style scoped>\n",
              "    .dataframe tbody tr th:only-of-type {\n",
              "        vertical-align: middle;\n",
              "    }\n",
              "\n",
              "    .dataframe tbody tr th {\n",
              "        vertical-align: top;\n",
              "    }\n",
              "\n",
              "    .dataframe thead th {\n",
              "        text-align: right;\n",
              "    }\n",
              "</style>\n",
              "<table border=\"1\" class=\"dataframe\">\n",
              "  <thead>\n",
              "    <tr style=\"text-align: right;\">\n",
              "      <th></th>\n",
              "      <th>date</th>\n",
              "      <th>First/Last Initials (e.g. LP or JTH)</th>\n",
              "      <th>Last 4 Digits of Cell Phone</th>\n",
              "      <th>Your therapist is...</th>\n",
              "      <th>Session #</th>\n",
              "      <th>The rating scale is as follows- [I found it hard to wind down]</th>\n",
              "      <th>The rating scale is as follows- [I was aware of dryness of my mouth]</th>\n",
              "      <th>The rating scale is as follows- [I couldn't seem to experience any positive feeling at all]</th>\n",
              "      <th>The rating scale is as follows- [I experienced breathing difficulty (e.g., excessively rapid breathing, breathlessness in the absence of physical exertion)]</th>\n",
              "      <th>The rating scale is as follows- [I found it difficult to work up the initiative to do things]</th>\n",
              "      <th>...</th>\n",
              "      <th>The rating scale is as follows- [I felt that I was rather touchy]</th>\n",
              "      <th>The rating scale is as follows- [I was aware of the action of my heart in the absence of physical exertion (e.g., sense of heart rate increase, heart missing a beat)]</th>\n",
              "      <th>The rating scale is as follows- [I felt scared without any good reason]</th>\n",
              "      <th>The rating scale is as follows- [I felt that life was meaningless]</th>\n",
              "      <th>21-30</th>\n",
              "      <th>30+</th>\n",
              "      <th>13-20</th>\n",
              "      <th>3 Month Follow Up</th>\n",
              "      <th>6 Month Follow Up</th>\n",
              "      <th>12 Month Follow Up</th>\n",
              "    </tr>\n",
              "  </thead>\n",
              "  <tbody>\n",
              "    <tr>\n",
              "      <th>0</th>\n",
              "      <td>8/18/2020 14:02:03</td>\n",
              "      <td>OR</td>\n",
              "      <td>4251</td>\n",
              "      <td>Michelle Wright, AMFT110382</td>\n",
              "      <td>1</td>\n",
              "      <td>3</td>\n",
              "      <td>2</td>\n",
              "      <td>1</td>\n",
              "      <td>0</td>\n",
              "      <td>0</td>\n",
              "      <td>...</td>\n",
              "      <td>0</td>\n",
              "      <td>0</td>\n",
              "      <td>1</td>\n",
              "      <td>0</td>\n",
              "      <td>False</td>\n",
              "      <td>False</td>\n",
              "      <td>False</td>\n",
              "      <td>False</td>\n",
              "      <td>False</td>\n",
              "      <td>False</td>\n",
              "    </tr>\n",
              "    <tr>\n",
              "      <th>1</th>\n",
              "      <td>8/17/2020 18:00:02</td>\n",
              "      <td>MCD</td>\n",
              "      <td>4458</td>\n",
              "      <td>Michelle Wright, AMFT110382</td>\n",
              "      <td>7</td>\n",
              "      <td>2</td>\n",
              "      <td>3</td>\n",
              "      <td>1</td>\n",
              "      <td>0</td>\n",
              "      <td>3</td>\n",
              "      <td>...</td>\n",
              "      <td>1</td>\n",
              "      <td>0</td>\n",
              "      <td>1</td>\n",
              "      <td>1</td>\n",
              "      <td>False</td>\n",
              "      <td>False</td>\n",
              "      <td>False</td>\n",
              "      <td>False</td>\n",
              "      <td>False</td>\n",
              "      <td>False</td>\n",
              "    </tr>\n",
              "    <tr>\n",
              "      <th>2</th>\n",
              "      <td>8/17/2020 16:58:38</td>\n",
              "      <td>LC</td>\n",
              "      <td>9185</td>\n",
              "      <td>Kenneth McNeill, APCC6865</td>\n",
              "      <td>25</td>\n",
              "      <td>0</td>\n",
              "      <td>0</td>\n",
              "      <td>0</td>\n",
              "      <td>0</td>\n",
              "      <td>0</td>\n",
              "      <td>...</td>\n",
              "      <td>0</td>\n",
              "      <td>0</td>\n",
              "      <td>0</td>\n",
              "      <td>0</td>\n",
              "      <td>True</td>\n",
              "      <td>False</td>\n",
              "      <td>False</td>\n",
              "      <td>False</td>\n",
              "      <td>False</td>\n",
              "      <td>False</td>\n",
              "    </tr>\n",
              "    <tr>\n",
              "      <th>3</th>\n",
              "      <td>8/16/2020 9:19:29</td>\n",
              "      <td>SO</td>\n",
              "      <td>7813</td>\n",
              "      <td>Jade Sustacek, APC5626</td>\n",
              "      <td>2</td>\n",
              "      <td>1</td>\n",
              "      <td>1</td>\n",
              "      <td>1</td>\n",
              "      <td>0</td>\n",
              "      <td>2</td>\n",
              "      <td>...</td>\n",
              "      <td>2</td>\n",
              "      <td>0</td>\n",
              "      <td>1</td>\n",
              "      <td>1</td>\n",
              "      <td>False</td>\n",
              "      <td>False</td>\n",
              "      <td>False</td>\n",
              "      <td>False</td>\n",
              "      <td>False</td>\n",
              "      <td>False</td>\n",
              "    </tr>\n",
              "    <tr>\n",
              "      <th>4</th>\n",
              "      <td>8/16/2020 8:58:36</td>\n",
              "      <td>SO</td>\n",
              "      <td>7813</td>\n",
              "      <td>Jade Sustacek, APC5626</td>\n",
              "      <td>2</td>\n",
              "      <td>1</td>\n",
              "      <td>1</td>\n",
              "      <td>1</td>\n",
              "      <td>0</td>\n",
              "      <td>2</td>\n",
              "      <td>...</td>\n",
              "      <td>2</td>\n",
              "      <td>0</td>\n",
              "      <td>1</td>\n",
              "      <td>1</td>\n",
              "      <td>False</td>\n",
              "      <td>False</td>\n",
              "      <td>False</td>\n",
              "      <td>False</td>\n",
              "      <td>False</td>\n",
              "      <td>False</td>\n",
              "    </tr>\n",
              "  </tbody>\n",
              "</table>\n",
              "<p>5 rows × 32 columns</p>\n",
              "</div>\n",
              "      <button class=\"colab-df-convert\" onclick=\"convertToInteractive('df-a9acd85b-6b7d-4c41-a9b7-682e775a8452')\"\n",
              "              title=\"Convert this dataframe to an interactive table.\"\n",
              "              style=\"display:none;\">\n",
              "        \n",
              "  <svg xmlns=\"http://www.w3.org/2000/svg\" height=\"24px\"viewBox=\"0 0 24 24\"\n",
              "       width=\"24px\">\n",
              "    <path d=\"M0 0h24v24H0V0z\" fill=\"none\"/>\n",
              "    <path d=\"M18.56 5.44l.94 2.06.94-2.06 2.06-.94-2.06-.94-.94-2.06-.94 2.06-2.06.94zm-11 1L8.5 8.5l.94-2.06 2.06-.94-2.06-.94L8.5 2.5l-.94 2.06-2.06.94zm10 10l.94 2.06.94-2.06 2.06-.94-2.06-.94-.94-2.06-.94 2.06-2.06.94z\"/><path d=\"M17.41 7.96l-1.37-1.37c-.4-.4-.92-.59-1.43-.59-.52 0-1.04.2-1.43.59L10.3 9.45l-7.72 7.72c-.78.78-.78 2.05 0 2.83L4 21.41c.39.39.9.59 1.41.59.51 0 1.02-.2 1.41-.59l7.78-7.78 2.81-2.81c.8-.78.8-2.07 0-2.86zM5.41 20L4 18.59l7.72-7.72 1.47 1.35L5.41 20z\"/>\n",
              "  </svg>\n",
              "      </button>\n",
              "      \n",
              "  <style>\n",
              "    .colab-df-container {\n",
              "      display:flex;\n",
              "      flex-wrap:wrap;\n",
              "      gap: 12px;\n",
              "    }\n",
              "\n",
              "    .colab-df-convert {\n",
              "      background-color: #E8F0FE;\n",
              "      border: none;\n",
              "      border-radius: 50%;\n",
              "      cursor: pointer;\n",
              "      display: none;\n",
              "      fill: #1967D2;\n",
              "      height: 32px;\n",
              "      padding: 0 0 0 0;\n",
              "      width: 32px;\n",
              "    }\n",
              "\n",
              "    .colab-df-convert:hover {\n",
              "      background-color: #E2EBFA;\n",
              "      box-shadow: 0px 1px 2px rgba(60, 64, 67, 0.3), 0px 1px 3px 1px rgba(60, 64, 67, 0.15);\n",
              "      fill: #174EA6;\n",
              "    }\n",
              "\n",
              "    [theme=dark] .colab-df-convert {\n",
              "      background-color: #3B4455;\n",
              "      fill: #D2E3FC;\n",
              "    }\n",
              "\n",
              "    [theme=dark] .colab-df-convert:hover {\n",
              "      background-color: #434B5C;\n",
              "      box-shadow: 0px 1px 3px 1px rgba(0, 0, 0, 0.15);\n",
              "      filter: drop-shadow(0px 1px 2px rgba(0, 0, 0, 0.3));\n",
              "      fill: #FFFFFF;\n",
              "    }\n",
              "  </style>\n",
              "\n",
              "      <script>\n",
              "        const buttonEl =\n",
              "          document.querySelector('#df-a9acd85b-6b7d-4c41-a9b7-682e775a8452 button.colab-df-convert');\n",
              "        buttonEl.style.display =\n",
              "          google.colab.kernel.accessAllowed ? 'block' : 'none';\n",
              "\n",
              "        async function convertToInteractive(key) {\n",
              "          const element = document.querySelector('#df-a9acd85b-6b7d-4c41-a9b7-682e775a8452');\n",
              "          const dataTable =\n",
              "            await google.colab.kernel.invokeFunction('convertToInteractive',\n",
              "                                                     [key], {});\n",
              "          if (!dataTable) return;\n",
              "\n",
              "          const docLinkHtml = 'Like what you see? Visit the ' +\n",
              "            '<a target=\"_blank\" href=https://colab.research.google.com/notebooks/data_table.ipynb>data table notebook</a>'\n",
              "            + ' to learn more about interactive tables.';\n",
              "          element.innerHTML = '';\n",
              "          dataTable['output_type'] = 'display_data';\n",
              "          await google.colab.output.renderOutput(dataTable, element);\n",
              "          const docLink = document.createElement('div');\n",
              "          docLink.innerHTML = docLinkHtml;\n",
              "          element.appendChild(docLink);\n",
              "        }\n",
              "      </script>\n",
              "    </div>\n",
              "  </div>\n",
              "  "
            ]
          },
          "metadata": {},
          "execution_count": 9
        }
      ]
    },
    {
      "cell_type": "markdown",
      "source": [
        "### Applying the functions to the entire dataset"
      ],
      "metadata": {
        "id": "f6fg1uJobUm-"
      },
      "id": "f6fg1uJobUm-"
    },
    {
      "cell_type": "code",
      "execution_count": null,
      "id": "14530ab1",
      "metadata": {
        "id": "14530ab1"
      },
      "outputs": [],
      "source": [
        "def dass21(df):\n",
        "    df['Stress'] = df.apply(stress, axis = 1)\n",
        "    df['Anxiety'] = df.apply(anxiety, axis = 1)\n",
        "    df['Depression'] = df.apply(depression, axis = 1)\n",
        "    return df"
      ]
    },
    {
      "cell_type": "code",
      "execution_count": null,
      "id": "dce53e3e",
      "metadata": {
        "id": "dce53e3e"
      },
      "outputs": [],
      "source": [
        "data = dass21(data)"
      ]
    },
    {
      "cell_type": "markdown",
      "source": [
        "## Editing column names for readability"
      ],
      "metadata": {
        "id": "tOWQt9G1yUT4"
      },
      "id": "tOWQt9G1yUT4"
    },
    {
      "cell_type": "code",
      "source": [
        "import re\n",
        "\n",
        "for column in data.columns:\n",
        "  if \"The rating scale is as follows-\" in column:\n",
        "    data = data.rename(columns = {column : re.findall(r\"\\[.*]\", column)[0]})\n",
        "\n",
        "data.columns"
      ],
      "metadata": {
        "id": "m8UuN4S2y12p",
        "colab": {
          "base_uri": "https://localhost:8080/"
        },
        "outputId": "e7ee686e-a6c1-4674-fe8e-c0506360d61a"
      },
      "id": "m8UuN4S2y12p",
      "execution_count": null,
      "outputs": [
        {
          "output_type": "execute_result",
          "data": {
            "text/plain": [
              "Index(['date', 'First/Last Initials (e.g. LP or JTH)',\n",
              "       'Last 4 Digits of Cell Phone', 'Your therapist is...', 'Session #',\n",
              "       '[I found it hard to wind down]',\n",
              "       '[I was aware of dryness of my mouth]',\n",
              "       '[I couldn't seem to experience any positive feeling at all]',\n",
              "       '[I experienced breathing difficulty (e.g., excessively rapid breathing, breathlessness in the absence of physical exertion)]',\n",
              "       '[I found it difficult to work up the initiative to do things]',\n",
              "       '[I tended to over-react to situations]',\n",
              "       '[I experienced trembling (e.g., in the hands)]',\n",
              "       '[I felt that I was using a lot of nervous energy]',\n",
              "       '[I was worried about situations in which I might panic and make a fool of myself]',\n",
              "       '[I felt that I had nothing to look forward to]',\n",
              "       '[I found myself getting agitated]', '[I found it difficult to relax]',\n",
              "       '[I felt down-hearted and blue]',\n",
              "       '[I was intolerant of anything that kept me from getting on with what I was doing]',\n",
              "       '[I felt I was close to panic]',\n",
              "       '[I was unable to become enthusiastic about anything]',\n",
              "       '[I felt I wasn't worth much as a person]',\n",
              "       '[I felt that I was rather touchy]',\n",
              "       '[I was aware of the action of my heart in the absence of physical exertion (e.g., sense of heart rate increase, heart missing a beat)]',\n",
              "       '[I felt scared without any good reason]',\n",
              "       '[I felt that life was meaningless]', '21-30', '30+', '13-20',\n",
              "       '3 Month Follow Up', '6 Month Follow Up', '12 Month Follow Up',\n",
              "       'Stress', 'Anxiety', 'Depression'],\n",
              "      dtype='object')"
            ]
          },
          "metadata": {},
          "execution_count": 12
        }
      ]
    },
    {
      "cell_type": "code",
      "source": [
        "data.Stress.value_counts()"
      ],
      "metadata": {
        "id": "bd08VvaVQ2Y0",
        "colab": {
          "base_uri": "https://localhost:8080/"
        },
        "outputId": "d1810a73-d502-4333-b897-bf4c6398a1fa"
      },
      "id": "bd08VvaVQ2Y0",
      "execution_count": null,
      "outputs": [
        {
          "output_type": "execute_result",
          "data": {
            "text/plain": [
              "0    1809\n",
              "2     647\n",
              "1     539\n",
              "3     513\n",
              "4     181\n",
              "Name: Stress, dtype: int64"
            ]
          },
          "metadata": {},
          "execution_count": 13
        }
      ]
    },
    {
      "cell_type": "markdown",
      "source": [
        "# Visualizing the Data"
      ],
      "metadata": {
        "id": "ITg16_xJz7Xs"
      },
      "id": "ITg16_xJz7Xs"
    },
    {
      "cell_type": "markdown",
      "source": [
        "### Percentage of patients for each therapist that needs 30+ sessions"
      ],
      "metadata": {
        "id": "crudlwWa3QCh"
      },
      "id": "crudlwWa3QCh"
    },
    {
      "cell_type": "code",
      "source": [
        "import seaborn as sns\n",
        "import matplotlib.pyplot as plt\n",
        "\n",
        "data_30 = data[data[\"30+\"] == True]\n",
        "\n",
        "therapists = data.groupby(\"Your therapist is...\").size()\n",
        "therapists_30 = data[data[\"30+\"] == True].groupby(\"Your therapist is...\").size()\n",
        "therapists_30 = pd.DataFrame(therapists_30)\n",
        "therapists_30.columns = [\"total 30+\"]\n",
        "\n",
        "arr = []\n",
        "for therapist in therapists_30.index:\n",
        "  arr.append(therapists_30.loc[therapist, \"total 30+\"] / therapists[therapist])\n",
        "\n",
        "therapists_30 = therapists_30.reset_index(level=0)\n",
        "\n",
        "therapists_30[\"30+ Percentage of Total Patients\"] = arr\n",
        "sns.catplot(data=therapists_30, y=\"Your therapist is...\", x=\"30+ Percentage of Total Patients\",  kind=\"bar\", aspect=1.5);\n",
        "plt.title(\"Percentage of 30+ Patients for Therapists\");\n",
        "# type(therapists_30)"
      ],
      "metadata": {
        "id": "O2JTQ6Nv2UTM",
        "colab": {
          "base_uri": "https://localhost:8080/"
        },
        "outputId": "40e0b1b8-91f9-443e-f535-f23d9cc0732b"
      },
      "id": "O2JTQ6Nv2UTM",
      "execution_count": null,
      "outputs": [
        {
          "output_type": "display_data",
          "data": {
            "text/plain": [
              "<Figure size 540x360 with 1 Axes>"
            ],
            "image/png": "[encoded data removed]"
          },
          "metadata": {
            "needs_background": "light"
          }
        }
      ]
    },
    {
      "cell_type": "markdown",
      "source": [
        "The goal presented by the professional therapists was to have fewer patients that would need 30+ visits as it is an indication that patients are not getting the care and therapy that they require. However, it should also be recognized that there are multiple factors involving why a patient may want to spend more session with a specific therapist, that may not simply indicate their treatment is not working. It could be the case that certain therapists take on more challenging patients or these therapists are very well liked."
      ],
      "metadata": {
        "id": "FenzzXgMfOqq"
      },
      "id": "FenzzXgMfOqq"
    },
    {
      "cell_type": "markdown",
      "source": [
        "## One hot encoding therapist names and dropping non important columns"
      ],
      "metadata": {
        "id": "ZUDfWFJcTPIh"
      },
      "id": "ZUDfWFJcTPIh"
    },
    {
      "cell_type": "code",
      "source": [
        "data = pd.get_dummies(data, columns=[\"Your therapist is...\"])\n",
        "data.head()"
      ],
      "metadata": {
        "id": "DyikgFqkTePq",
        "colab": {
          "base_uri": "https://localhost:8080/"
        },
        "outputId": "27a2dbab-af1c-49ae-f077-26d3f8143b26"
      },
      "id": "DyikgFqkTePq",
      "execution_count": null,
      "outputs": [
        {
          "output_type": "execute_result",
          "data": {
            "text/plain": [
              "                 date First/Last Initials (e.g. LP or JTH)  \\\n",
              "0  8/18/2020 14:02:03                                   OR   \n",
              "1  8/17/2020 18:00:02                                  MCD   \n",
              "2  8/17/2020 16:58:38                                   LC   \n",
              "3   8/16/2020 9:19:29                                   SO   \n",
              "4   8/16/2020 8:58:36                                   SO   \n",
              "\n",
              "  Last 4 Digits of Cell Phone  Session #  [I found it hard to wind down]  \\\n",
              "0                        4251          1                               3   \n",
              "1                        4458          7                               2   \n",
              "2                        9185         25                               0   \n",
              "3                        7813          2                               1   \n",
              "4                        7813          2                               1   \n",
              "\n",
              "   [I was aware of dryness of my mouth]  \\\n",
              "0                                     2   \n",
              "1                                     3   \n",
              "2                                     0   \n",
              "3                                     1   \n",
              "4                                     1   \n",
              "\n",
              "   [I couldn't seem to experience any positive feeling at all]  \\\n",
              "0                                                  1             \n",
              "1                                                  1             \n",
              "2                                                  0             \n",
              "3                                                  1             \n",
              "4                                                  1             \n",
              "\n",
              "   [I experienced breathing difficulty (e.g., excessively rapid breathing, breathlessness in the absence of physical exertion)]  \\\n",
              "0                                                  0                                                                              \n",
              "1                                                  0                                                                              \n",
              "2                                                  0                                                                              \n",
              "3                                                  0                                                                              \n",
              "4                                                  0                                                                              \n",
              "\n",
              "   [I found it difficult to work up the initiative to do things]  \\\n",
              "0                                                  0               \n",
              "1                                                  3               \n",
              "2                                                  0               \n",
              "3                                                  2               \n",
              "4                                                  2               \n",
              "\n",
              "   [I tended to over-react to situations]  ...  \\\n",
              "0                                       1  ...   \n",
              "1                                       3  ...   \n",
              "2                                       0  ...   \n",
              "3                                       0  ...   \n",
              "4                                       0  ...   \n",
              "\n",
              "   Your therapist is..._Dr. Lindsey Ayala  \\\n",
              "0                                       0   \n",
              "1                                       0   \n",
              "2                                       0   \n",
              "3                                       0   \n",
              "4                                       0   \n",
              "\n",
              "   Your therapist is..._Dr. Lourdes Mejia, PSY31830  \\\n",
              "0                                                 0   \n",
              "1                                                 0   \n",
              "2                                                 0   \n",
              "3                                                 0   \n",
              "4                                                 0   \n",
              "\n",
              "   Your therapist is..._Edward Babayan, LMFT119969  \\\n",
              "0                                                0   \n",
              "1                                                0   \n",
              "2                                                0   \n",
              "3                                                0   \n",
              "4                                                0   \n",
              "\n",
              "   Your therapist is..._Erica Villarreal-Kone, MFT123574  \\\n",
              "0                                                  0       \n",
              "1                                                  0       \n",
              "2                                                  0       \n",
              "3                                                  0       \n",
              "4                                                  0       \n",
              "\n",
              "   Your therapist is..._Jade Sustacek, APC5626  \\\n",
              "0                                            0   \n",
              "1                                            0   \n",
              "2                                            0   \n",
              "3                                            1   \n",
              "4                                            1   \n",
              "\n",
              "   Your therapist is..._Kenneth McNeill, APCC6865  \\\n",
              "0                                               0   \n",
              "1                                               0   \n",
              "2                                               1   \n",
              "3                                               0   \n",
              "4                                               0   \n",
              "\n",
              "   Your therapist is..._Michelle Wright, AMFT110382  \\\n",
              "0                                                 1   \n",
              "1                                                 1   \n",
              "2                                                 0   \n",
              "3                                                 0   \n",
              "4                                                 0   \n",
              "\n",
              "   Your therapist is..._Sarah Boro, Social Work Intern  \\\n",
              "0                                                  0     \n",
              "1                                                  0     \n",
              "2                                                  0     \n",
              "3                                                  0     \n",
              "4                                                  0     \n",
              "\n",
              "   Your therapist is..._Sumit Sen, MFT Intern  \\\n",
              "0                                           0   \n",
              "1                                           0   \n",
              "2                                           0   \n",
              "3                                           0   \n",
              "4                                           0   \n",
              "\n",
              "   Your therapist is..._Timothy Masterson, LCSW25456  \n",
              "0                                                  0  \n",
              "1                                                  0  \n",
              "2                                                  0  \n",
              "3                                                  0  \n",
              "4                                                  0  \n",
              "\n",
              "[5 rows x 50 columns]"
            ],
            "text/html": [
              "\n",
              "  <div id=\"df-57c97239-24fc-4190-b3dd-f7aeffc7b45d\">\n",
              "    <div class=\"colab-df-container\">\n",
              "      <div>\n",
              "<style scoped>\n",
              "    .dataframe tbody tr th:only-of-type {\n",
              "        vertical-align: middle;\n",
              "    }\n",
              "\n",
              "    .dataframe tbody tr th {\n",
              "        vertical-align: top;\n",
              "    }\n",
              "\n",
              "    .dataframe thead th {\n",
              "        text-align: right;\n",
              "    }\n",
              "</style>\n",
              "<table border=\"1\" class=\"dataframe\">\n",
              "  <thead>\n",
              "    <tr style=\"text-align: right;\">\n",
              "      <th></th>\n",
              "      <th>date</th>\n",
              "      <th>First/Last Initials (e.g. LP or JTH)</th>\n",
              "      <th>Last 4 Digits of Cell Phone</th>\n",
              "      <th>Session #</th>\n",
              "      <th>[I found it hard to wind down]</th>\n",
              "      <th>[I was aware of dryness of my mouth]</th>\n",
              "      <th>[I couldn't seem to experience any positive feeling at all]</th>\n",
              "      <th>[I experienced breathing difficulty (e.g., excessively rapid breathing, breathlessness in the absence of physical exertion)]</th>\n",
              "      <th>[I found it difficult to work up the initiative to do things]</th>\n",
              "      <th>[I tended to over-react to situations]</th>\n",
              "      <th>...</th>\n",
              "      <th>Your therapist is..._Dr. Lindsey Ayala</th>\n",
              "      <th>Your therapist is..._Dr. Lourdes Mejia, PSY31830</th>\n",
              "      <th>Your therapist is..._Edward Babayan, LMFT119969</th>\n",
              "      <th>Your therapist is..._Erica Villarreal-Kone, MFT123574</th>\n",
              "      <th>Your therapist is..._Jade Sustacek, APC5626</th>\n",
              "      <th>Your therapist is..._Kenneth McNeill, APCC6865</th>\n",
              "      <th>Your therapist is..._Michelle Wright, AMFT110382</th>\n",
              "      <th>Your therapist is..._Sarah Boro, Social Work Intern</th>\n",
              "      <th>Your therapist is..._Sumit Sen, MFT Intern</th>\n",
              "      <th>Your therapist is..._Timothy Masterson, LCSW25456</th>\n",
              "    </tr>\n",
              "  </thead>\n",
              "  <tbody>\n",
              "    <tr>\n",
              "      <th>0</th>\n",
              "      <td>8/18/2020 14:02:03</td>\n",
              "      <td>OR</td>\n",
              "      <td>4251</td>\n",
              "      <td>1</td>\n",
              "      <td>3</td>\n",
              "      <td>2</td>\n",
              "      <td>1</td>\n",
              "      <td>0</td>\n",
              "      <td>0</td>\n",
              "      <td>1</td>\n",
              "      <td>...</td>\n",
              "      <td>0</td>\n",
              "      <td>0</td>\n",
              "      <td>0</td>\n",
              "      <td>0</td>\n",
              "      <td>0</td>\n",
              "      <td>0</td>\n",
              "      <td>1</td>\n",
              "      <td>0</td>\n",
              "      <td>0</td>\n",
              "      <td>0</td>\n",
              "    </tr>\n",
              "    <tr>\n",
              "      <th>1</th>\n",
              "      <td>8/17/2020 18:00:02</td>\n",
              "      <td>MCD</td>\n",
              "      <td>4458</td>\n",
              "      <td>7</td>\n",
              "      <td>2</td>\n",
              "      <td>3</td>\n",
              "      <td>1</td>\n",
              "      <td>0</td>\n",
              "      <td>3</td>\n",
              "      <td>3</td>\n",
              "      <td>...</td>\n",
              "      <td>0</td>\n",
              "      <td>0</td>\n",
              "      <td>0</td>\n",
              "      <td>0</td>\n",
              "      <td>0</td>\n",
              "      <td>0</td>\n",
              "      <td>1</td>\n",
              "      <td>0</td>\n",
              "      <td>0</td>\n",
              "      <td>0</td>\n",
              "    </tr>\n",
              "    <tr>\n",
              "      <th>2</th>\n",
              "      <td>8/17/2020 16:58:38</td>\n",
              "      <td>LC</td>\n",
              "      <td>9185</td>\n",
              "      <td>25</td>\n",
              "      <td>0</td>\n",
              "      <td>0</td>\n",
              "      <td>0</td>\n",
              "      <td>0</td>\n",
              "      <td>0</td>\n",
              "      <td>0</td>\n",
              "      <td>...</td>\n",
              "      <td>0</td>\n",
              "      <td>0</td>\n",
              "      <td>0</td>\n",
              "      <td>0</td>\n",
              "      <td>0</td>\n",
              "      <td>1</td>\n",
              "      <td>0</td>\n",
              "      <td>0</td>\n",
              "      <td>0</td>\n",
              "      <td>0</td>\n",
              "    </tr>\n",
              "    <tr>\n",
              "      <th>3</th>\n",
              "      <td>8/16/2020 9:19:29</td>\n",
              "      <td>SO</td>\n",
              "      <td>7813</td>\n",
              "      <td>2</td>\n",
              "      <td>1</td>\n",
              "      <td>1</td>\n",
              "      <td>1</td>\n",
              "      <td>0</td>\n",
              "      <td>2</td>\n",
              "      <td>0</td>\n",
              "      <td>...</td>\n",
              "      <td>0</td>\n",
              "      <td>0</td>\n",
              "      <td>0</td>\n",
              "      <td>0</td>\n",
              "      <td>1</td>\n",
              "      <td>0</td>\n",
              "      <td>0</td>\n",
              "      <td>0</td>\n",
              "      <td>0</td>\n",
              "      <td>0</td>\n",
              "    </tr>\n",
              "    <tr>\n",
              "      <th>4</th>\n",
              "      <td>8/16/2020 8:58:36</td>\n",
              "      <td>SO</td>\n",
              "      <td>7813</td>\n",
              "      <td>2</td>\n",
              "      <td>1</td>\n",
              "      <td>1</td>\n",
              "      <td>1</td>\n",
              "      <td>0</td>\n",
              "      <td>2</td>\n",
              "      <td>0</td>\n",
              "      <td>...</td>\n",
              "      <td>0</td>\n",
              "      <td>0</td>\n",
              "      <td>0</td>\n",
              "      <td>0</td>\n",
              "      <td>1</td>\n",
              "      <td>0</td>\n",
              "      <td>0</td>\n",
              "      <td>0</td>\n",
              "      <td>0</td>\n",
              "      <td>0</td>\n",
              "    </tr>\n",
              "  </tbody>\n",
              "</table>\n",
              "<p>5 rows × 50 columns</p>\n",
              "</div>\n",
              "      <button class=\"colab-df-convert\" onclick=\"convertToInteractive('df-57c97239-24fc-4190-b3dd-f7aeffc7b45d')\"\n",
              "              title=\"Convert this dataframe to an interactive table.\"\n",
              "              style=\"display:none;\">\n",
              "        \n",
              "  <svg xmlns=\"http://www.w3.org/2000/svg\" height=\"24px\"viewBox=\"0 0 24 24\"\n",
              "       width=\"24px\">\n",
              "    <path d=\"M0 0h24v24H0V0z\" fill=\"none\"/>\n",
              "    <path d=\"M18.56 5.44l.94 2.06.94-2.06 2.06-.94-2.06-.94-.94-2.06-.94 2.06-2.06.94zm-11 1L8.5 8.5l.94-2.06 2.06-.94-2.06-.94L8.5 2.5l-.94 2.06-2.06.94zm10 10l.94 2.06.94-2.06 2.06-.94-2.06-.94-.94-2.06-.94 2.06-2.06.94z\"/><path d=\"M17.41 7.96l-1.37-1.37c-.4-.4-.92-.59-1.43-.59-.52 0-1.04.2-1.43.59L10.3 9.45l-7.72 7.72c-.78.78-.78 2.05 0 2.83L4 21.41c.39.39.9.59 1.41.59.51 0 1.02-.2 1.41-.59l7.78-7.78 2.81-2.81c.8-.78.8-2.07 0-2.86zM5.41 20L4 18.59l7.72-7.72 1.47 1.35L5.41 20z\"/>\n",
              "  </svg>\n",
              "      </button>\n",
              "      \n",
              "  <style>\n",
              "    .colab-df-container {\n",
              "      display:flex;\n",
              "      flex-wrap:wrap;\n",
              "      gap: 12px;\n",
              "    }\n",
              "\n",
              "    .colab-df-convert {\n",
              "      background-color: #E8F0FE;\n",
              "      border: none;\n",
              "      border-radius: 50%;\n",
              "      cursor: pointer;\n",
              "      display: none;\n",
              "      fill: #1967D2;\n",
              "      height: 32px;\n",
              "      padding: 0 0 0 0;\n",
              "      width: 32px;\n",
              "    }\n",
              "\n",
              "    .colab-df-convert:hover {\n",
              "      background-color: #E2EBFA;\n",
              "      box-shadow: 0px 1px 2px rgba(60, 64, 67, 0.3), 0px 1px 3px 1px rgba(60, 64, 67, 0.15);\n",
              "      fill: #174EA6;\n",
              "    }\n",
              "\n",
              "    [theme=dark] .colab-df-convert {\n",
              "      background-color: #3B4455;\n",
              "      fill: #D2E3FC;\n",
              "    }\n",
              "\n",
              "    [theme=dark] .colab-df-convert:hover {\n",
              "      background-color: #434B5C;\n",
              "      box-shadow: 0px 1px 3px 1px rgba(0, 0, 0, 0.15);\n",
              "      filter: drop-shadow(0px 1px 2px rgba(0, 0, 0, 0.3));\n",
              "      fill: #FFFFFF;\n",
              "    }\n",
              "  </style>\n",
              "\n",
              "      <script>\n",
              "        const buttonEl =\n",
              "          document.querySelector('#df-57c97239-24fc-4190-b3dd-f7aeffc7b45d button.colab-df-convert');\n",
              "        buttonEl.style.display =\n",
              "          google.colab.kernel.accessAllowed ? 'block' : 'none';\n",
              "\n",
              "        async function convertToInteractive(key) {\n",
              "          const element = document.querySelector('#df-57c97239-24fc-4190-b3dd-f7aeffc7b45d');\n",
              "          const dataTable =\n",
              "            await google.colab.kernel.invokeFunction('convertToInteractive',\n",
              "                                                     [key], {});\n",
              "          if (!dataTable) return;\n",
              "\n",
              "          const docLinkHtml = 'Like what you see? Visit the ' +\n",
              "            '<a target=\"_blank\" href=https://colab.research.google.com/notebooks/data_table.ipynb>data table notebook</a>'\n",
              "            + ' to learn more about interactive tables.';\n",
              "          element.innerHTML = '';\n",
              "          dataTable['output_type'] = 'display_data';\n",
              "          await google.colab.output.renderOutput(dataTable, element);\n",
              "          const docLink = document.createElement('div');\n",
              "          docLink.innerHTML = docLinkHtml;\n",
              "          element.appendChild(docLink);\n",
              "        }\n",
              "      </script>\n",
              "    </div>\n",
              "  </div>\n",
              "  "
            ]
          },
          "metadata": {},
          "execution_count": 15
        }
      ]
    },
    {
      "cell_type": "markdown",
      "source": [
        "## Visualizing the imbalance"
      ],
      "metadata": {
        "id": "8dlZg7Uf3cPt"
      },
      "id": "8dlZg7Uf3cPt"
    },
    {
      "cell_type": "code",
      "source": [
        "sns.countplot(data=data, x=\"30+\")\n",
        "plt.title(\"Counting the reports that are from patients who have had 30+ sessions\");"
      ],
      "metadata": {
        "id": "kAa2t8Ot2wT0",
        "colab": {
          "base_uri": "https://localhost:8080/"
        },
        "outputId": "50805ff6-f0fd-4846-d582-5327324ab23e"
      },
      "id": "kAa2t8Ot2wT0",
      "execution_count": null,
      "outputs": [
        {
          "output_type": "display_data",
          "data": {
            "text/plain": [
              "<Figure size 432x288 with 1 Axes>"
            ],
            "image/png": "[encoded data removed]"
          },
          "metadata": {
            "needs_background": "light"
          }
        }
      ]
    },
    {
      "cell_type": "markdown",
      "source": [
        "We noticed that this data was pretty imbalanced as most patients do not tend to stay 30+ sessions, this also was part of the reason that we chose to evaluate our model using a confusion matrix (F1 score in particular) and AUC as the baseline accuracy (just predicting everything as a False) was already pretty high. This also aided our decision to resample using crossvalidating and bootstrapping to even out the data a little more."
      ],
      "metadata": {
        "id": "BV3KUrBd2vmh"
      },
      "id": "BV3KUrBd2vmh"
    },
    {
      "cell_type": "markdown",
      "source": [
        "## Visualizing the scores for 30+ Patients"
      ],
      "metadata": {
        "id": "GFtryERFNuw_"
      },
      "id": "GFtryERFNuw_"
    },
    {
      "cell_type": "markdown",
      "source": [
        "Based on prior knowledge from this dataset it would probably make sense for the patients with higher scores for depression/anxiety/stress to stay longer in therapy. Lets verify this"
      ],
      "metadata": {
        "id": "27VSk-IbN1cm"
      },
      "id": "27VSk-IbN1cm"
    },
    {
      "cell_type": "code",
      "source": [
        "data.iloc[:, 25:50].corr().style.background_gradient()"
      ],
      "metadata": {
        "id": "TBf36kFDSLJx",
        "colab": {
          "base_uri": "https://localhost:8080/"
        },
        "outputId": "f777c528-7fe0-4066-da0d-c10bf42a2d77"
      },
      "id": "TBf36kFDSLJx",
      "execution_count": null,
      "outputs": [
        {
          "output_type": "execute_result",
          "data": {
            "text/plain": [
              "<pandas.io.formats.style.Styler at 0x7f7956585f40>"
            ],
            "text/html": [
              "<style type=\"text/css\">\n",
              "#T_2172d_row0_col0, #T_2172d_row1_col1, #T_2172d_row2_col2, #T_2172d_row3_col3, #T_2172d_row4_col4, #T_2172d_row5_col5, #T_2172d_row6_col6, #T_2172d_row7_col7, #T_2172d_row8_col8, #T_2172d_row9_col9, #T_2172d_row10_col10, #T_2172d_row11_col11, #T_2172d_row12_col12, #T_2172d_row13_col13, #T_2172d_row14_col14, #T_2172d_row15_col15, #T_2172d_row16_col16, #T_2172d_row17_col17, #T_2172d_row18_col18, #T_2172d_row19_col19, #T_2172d_row20_col20, #T_2172d_row21_col21, #T_2172d_row22_col22, #T_2172d_row23_col23, #T_2172d_row24_col24 {\n",
              "  background-color: #023858;\n",
              "  color: #f1f1f1;\n",
              "}\n",
              "#T_2172d_row0_col1, #T_2172d_row0_col22, #T_2172d_row1_col13, #T_2172d_row3_col22, #T_2172d_row5_col22, #T_2172d_row6_col0, #T_2172d_row7_col5, #T_2172d_row12_col22, #T_2172d_row14_col11, #T_2172d_row15_col6, #T_2172d_row18_col21, #T_2172d_row22_col16 {\n",
              "  background-color: #faf2f8;\n",
              "  color: #000000;\n",
              "}\n",
              "#T_2172d_row0_col2, #T_2172d_row0_col3, #T_2172d_row0_col4, #T_2172d_row0_col9, #T_2172d_row0_col16, #T_2172d_row1_col3, #T_2172d_row1_col4, #T_2172d_row1_col9, #T_2172d_row1_col16, #T_2172d_row2_col4, #T_2172d_row3_col9, #T_2172d_row3_col23, #T_2172d_row4_col9, #T_2172d_row4_col23, #T_2172d_row5_col9, #T_2172d_row5_col23, #T_2172d_row7_col18, #T_2172d_row9_col23, #T_2172d_row10_col4, #T_2172d_row10_col13, #T_2172d_row10_col14, #T_2172d_row10_col17, #T_2172d_row10_col24, #T_2172d_row11_col4, #T_2172d_row12_col5, #T_2172d_row12_col9, #T_2172d_row12_col23, #T_2172d_row13_col3, #T_2172d_row13_col9, #T_2172d_row13_col16, #T_2172d_row13_col22, #T_2172d_row14_col4, #T_2172d_row14_col7, #T_2172d_row14_col9, #T_2172d_row14_col16, #T_2172d_row14_col21, #T_2172d_row14_col22, #T_2172d_row16_col5, #T_2172d_row16_col9, #T_2172d_row16_col12, #T_2172d_row16_col23, #T_2172d_row17_col3, #T_2172d_row17_col4, #T_2172d_row17_col9, #T_2172d_row17_col16, #T_2172d_row17_col22, #T_2172d_row18_col3, #T_2172d_row18_col5, #T_2172d_row18_col7, #T_2172d_row18_col9, #T_2172d_row18_col12, #T_2172d_row19_col3, #T_2172d_row19_col5, #T_2172d_row19_col9, #T_2172d_row19_col12, #T_2172d_row20_col3, #T_2172d_row20_col5, #T_2172d_row20_col9, #T_2172d_row20_col12, #T_2172d_row21_col5, #T_2172d_row21_col9, #T_2172d_row21_col12, #T_2172d_row22_col5, #T_2172d_row22_col9, #T_2172d_row22_col12, #T_2172d_row22_col23, #T_2172d_row23_col9, #T_2172d_row24_col4, #T_2172d_row24_col18, #T_2172d_row24_col19, #T_2172d_row24_col20, #T_2172d_row24_col21 {\n",
              "  background-color: #fdf5fa;\n",
              "  color: #000000;\n",
              "}\n",
              "#T_2172d_row0_col5, #T_2172d_row0_col12, #T_2172d_row2_col3, #T_2172d_row2_col6, #T_2172d_row2_col9, #T_2172d_row6_col3, #T_2172d_row10_col3, #T_2172d_row10_col9, #T_2172d_row10_col11, #T_2172d_row10_col18, #T_2172d_row10_col19, #T_2172d_row10_col20, #T_2172d_row10_col21, #T_2172d_row11_col7, #T_2172d_row11_col9, #T_2172d_row13_col5, #T_2172d_row13_col12, #T_2172d_row15_col7, #T_2172d_row15_col9, #T_2172d_row15_col10, #T_2172d_row15_col14, #T_2172d_row15_col24, #T_2172d_row17_col12, #T_2172d_row18_col23, #T_2172d_row19_col23, #T_2172d_row20_col23, #T_2172d_row21_col23, #T_2172d_row24_col9, #T_2172d_row24_col16, #T_2172d_row24_col22 {\n",
              "  background-color: #fef6fa;\n",
              "  color: #000000;\n",
              "}\n",
              "#T_2172d_row0_col6, #T_2172d_row0_col21, #T_2172d_row1_col22, #T_2172d_row7_col3, #T_2172d_row7_col16, #T_2172d_row8_col9, #T_2172d_row13_col19, #T_2172d_row13_col20, #T_2172d_row14_col13, #T_2172d_row14_col17, #T_2172d_row16_col22, #T_2172d_row17_col19, #T_2172d_row17_col20, #T_2172d_row18_col8, #T_2172d_row24_col10, #T_2172d_row24_col15 {\n",
              "  background-color: #faf3f9;\n",
              "  color: #000000;\n",
              "}\n",
              "#T_2172d_row0_col7, #T_2172d_row0_col8, #T_2172d_row6_col12, #T_2172d_row6_col18, #T_2172d_row7_col23, #T_2172d_row8_col12, #T_2172d_row10_col0, #T_2172d_row13_col4, #T_2172d_row13_col14, #T_2172d_row16_col21, #T_2172d_row17_col5, #T_2172d_row17_col14, #T_2172d_row19_col18, #T_2172d_row20_col18, #T_2172d_row21_col19, #T_2172d_row21_col20, #T_2172d_row22_col21 {\n",
              "  background-color: #f7f0f7;\n",
              "  color: #000000;\n",
              "}\n",
              "#T_2172d_row0_col10, #T_2172d_row2_col19, #T_2172d_row4_col1, #T_2172d_row9_col2, #T_2172d_row18_col2, #T_2172d_row19_col1, #T_2172d_row21_col15, #T_2172d_row22_col1, #T_2172d_row23_col1 {\n",
              "  background-color: #eee9f3;\n",
              "  color: #000000;\n",
              "}\n",
              "#T_2172d_row0_col11, #T_2172d_row4_col15 {\n",
              "  background-color: #d9d8ea;\n",
              "  color: #000000;\n",
              "}\n",
              "#T_2172d_row0_col13, #T_2172d_row8_col0, #T_2172d_row8_col16, #T_2172d_row13_col0, #T_2172d_row13_col1, #T_2172d_row13_col17, #T_2172d_row14_col10, #T_2172d_row14_col15, #T_2172d_row15_col8, #T_2172d_row17_col13, #T_2172d_row19_col20, #T_2172d_row20_col19 {\n",
              "  background-color: #f8f1f8;\n",
              "  color: #000000;\n",
              "}\n",
              "#T_2172d_row0_col14, #T_2172d_row3_col6, #T_2172d_row7_col11, #T_2172d_row7_col15, #T_2172d_row10_col2, #T_2172d_row12_col7, #T_2172d_row13_col2, #T_2172d_row16_col1, #T_2172d_row18_col15, #T_2172d_row19_col24, #T_2172d_row20_col24, #T_2172d_row21_col14 {\n",
              "  background-color: #f1ebf5;\n",
              "  color: #000000;\n",
              "}\n",
              "#T_2172d_row0_col15 {\n",
              "  background-color: #c0c9e2;\n",
              "  color: #000000;\n",
              "}\n",
              "#T_2172d_row0_col17, #T_2172d_row1_col19, #T_2172d_row6_col21, #T_2172d_row7_col0, #T_2172d_row8_col23, #T_2172d_row12_col19, #T_2172d_row13_col10, #T_2172d_row17_col10, #T_2172d_row19_col13, #T_2172d_row19_col17, #T_2172d_row20_col13, #T_2172d_row20_col17, #T_2172d_row24_col2 {\n",
              "  background-color: #f5eef6;\n",
              "  color: #000000;\n",
              "}\n",
              "#T_2172d_row0_col18, #T_2172d_row3_col1, #T_2172d_row4_col2, #T_2172d_row5_col1, #T_2172d_row5_col7, #T_2172d_row6_col15, #T_2172d_row6_col20, #T_2172d_row9_col13, #T_2172d_row9_col17, #T_2172d_row12_col1, #T_2172d_row16_col14, #T_2172d_row19_col0, #T_2172d_row20_col2, #T_2172d_row21_col6, #T_2172d_row21_col7, #T_2172d_row21_col10, #T_2172d_row21_col11, #T_2172d_row22_col14, #T_2172d_row23_col2, #T_2172d_row24_col1 {\n",
              "  background-color: #efe9f3;\n",
              "  color: #000000;\n",
              "}\n",
              "#T_2172d_row0_col19, #T_2172d_row1_col20, #T_2172d_row2_col14, #T_2172d_row9_col7, #T_2172d_row9_col19, #T_2172d_row9_col20, #T_2172d_row21_col0, #T_2172d_row21_col1, #T_2172d_row21_col13, #T_2172d_row21_col17 {\n",
              "  background-color: #f4edf6;\n",
              "  color: #000000;\n",
              "}\n",
              "#T_2172d_row0_col20, #T_2172d_row1_col7, #T_2172d_row2_col24, #T_2172d_row3_col2, #T_2172d_row3_col7, #T_2172d_row3_col13, #T_2172d_row3_col17, #T_2172d_row4_col0, #T_2172d_row4_col8, #T_2172d_row4_col17, #T_2172d_row5_col2, #T_2172d_row5_col8, #T_2172d_row5_col13, #T_2172d_row8_col15, #T_2172d_row9_col0, #T_2172d_row12_col2, #T_2172d_row12_col13, #T_2172d_row12_col17, #T_2172d_row15_col3, #T_2172d_row19_col11, #T_2172d_row19_col15, #T_2172d_row20_col15, #T_2172d_row21_col24, #T_2172d_row22_col0, #T_2172d_row23_col0, #T_2172d_row23_col13, #T_2172d_row23_col17 {\n",
              "  background-color: #f0eaf4;\n",
              "  color: #000000;\n",
              "}\n",
              "#T_2172d_row0_col23, #T_2172d_row1_col5, #T_2172d_row1_col12, #T_2172d_row1_col23, #T_2172d_row2_col16, #T_2172d_row8_col4, #T_2172d_row8_col18, #T_2172d_row10_col16, #T_2172d_row10_col22, #T_2172d_row11_col3, #T_2172d_row13_col23, #T_2172d_row14_col12, #T_2172d_row14_col23, #T_2172d_row15_col13, #T_2172d_row15_col17, #T_2172d_row15_col18, #T_2172d_row15_col19, #T_2172d_row15_col20, #T_2172d_row15_col21, #T_2172d_row17_col23, #T_2172d_row24_col5, #T_2172d_row24_col12 {\n",
              "  background-color: #fef6fb;\n",
              "  color: #000000;\n",
              "}\n",
              "#T_2172d_row0_col24, #T_2172d_row1_col24, #T_2172d_row4_col13, #T_2172d_row5_col24, #T_2172d_row12_col6, #T_2172d_row16_col15, #T_2172d_row17_col2, #T_2172d_row21_col8, #T_2172d_row22_col15 {\n",
              "  background-color: #eae6f1;\n",
              "  color: #000000;\n",
              "}\n",
              "#T_2172d_row1_col0, #T_2172d_row3_col4, #T_2172d_row4_col3, #T_2172d_row5_col3, #T_2172d_row5_col4, #T_2172d_row6_col2, #T_2172d_row9_col3, #T_2172d_row9_col4, #T_2172d_row12_col3, #T_2172d_row12_col4, #T_2172d_row14_col5, #T_2172d_row14_col18, #T_2172d_row16_col4, #T_2172d_row18_col16, #T_2172d_row19_col16, #T_2172d_row19_col22, #T_2172d_row20_col16, #T_2172d_row20_col22, #T_2172d_row22_col4, #T_2172d_row23_col3, #T_2172d_row23_col4, #T_2172d_row24_col14 {\n",
              "  background-color: #fbf4f9;\n",
              "  color: #000000;\n",
              "}\n",
              "#T_2172d_row1_col2, #T_2172d_row2_col0, #T_2172d_row2_col1, #T_2172d_row2_col5, #T_2172d_row2_col7, #T_2172d_row2_col8, #T_2172d_row2_col12, #T_2172d_row2_col22, #T_2172d_row2_col23, #T_2172d_row6_col4, #T_2172d_row6_col5, #T_2172d_row6_col9, #T_2172d_row7_col4, #T_2172d_row7_col9, #T_2172d_row8_col2, #T_2172d_row8_col3, #T_2172d_row8_col5, #T_2172d_row10_col5, #T_2172d_row10_col12, #T_2172d_row10_col23, #T_2172d_row11_col5, #T_2172d_row11_col6, #T_2172d_row11_col8, #T_2172d_row11_col10, #T_2172d_row11_col12, #T_2172d_row11_col13, #T_2172d_row11_col14, #T_2172d_row11_col15, #T_2172d_row11_col16, #T_2172d_row11_col17, #T_2172d_row11_col18, #T_2172d_row11_col19, #T_2172d_row11_col20, #T_2172d_row11_col21, #T_2172d_row11_col22, #T_2172d_row11_col23, #T_2172d_row11_col24, #T_2172d_row14_col8, #T_2172d_row15_col11, #T_2172d_row15_col12, #T_2172d_row15_col16, #T_2172d_row15_col22, #T_2172d_row15_col23, #T_2172d_row24_col23 {\n",
              "  background-color: #fff7fb;\n",
              "  color: #000000;\n",
              "}\n",
              "#T_2172d_row1_col6, #T_2172d_row3_col11, #T_2172d_row3_col24, #T_2172d_row4_col10, #T_2172d_row5_col11, #T_2172d_row7_col19, #T_2172d_row8_col20, #T_2172d_row9_col10, #T_2172d_row12_col8, #T_2172d_row12_col11, #T_2172d_row12_col15, #T_2172d_row19_col2, #T_2172d_row19_col6, #T_2172d_row23_col10, #T_2172d_row24_col6 {\n",
              "  background-color: #e7e3f0;\n",
              "  color: #000000;\n",
              "}\n",
              "#T_2172d_row1_col8, #T_2172d_row4_col11, #T_2172d_row6_col1, #T_2172d_row8_col1, #T_2172d_row22_col6 {\n",
              "  background-color: #e5e1ef;\n",
              "  color: #000000;\n",
              "}\n",
              "#T_2172d_row1_col10 {\n",
              "  background-color: #c4cbe3;\n",
              "  color: #000000;\n",
              "}\n",
              "#T_2172d_row1_col11, #T_2172d_row2_col17, #T_2172d_row6_col19, #T_2172d_row7_col1, #T_2172d_row16_col8, #T_2172d_row18_col0, #T_2172d_row23_col14 {\n",
              "  background-color: #ede7f2;\n",
              "  color: #000000;\n",
              "}\n",
              "#T_2172d_row1_col14, #T_2172d_row3_col0, #T_2172d_row3_col8, #T_2172d_row5_col0, #T_2172d_row6_col22, #T_2172d_row12_col0, #T_2172d_row19_col10, #T_2172d_row20_col10, #T_2172d_row20_col11, #T_2172d_row24_col0 {\n",
              "  background-color: #f1ebf4;\n",
              "  color: #000000;\n",
              "}\n",
              "#T_2172d_row1_col15 {\n",
              "  background-color: #d2d2e7;\n",
              "  color: #000000;\n",
              "}\n",
              "#T_2172d_row1_col17, #T_2172d_row3_col21, #T_2172d_row5_col21, #T_2172d_row6_col16, #T_2172d_row7_col14, #T_2172d_row8_col11, #T_2172d_row12_col21, #T_2172d_row14_col0, #T_2172d_row14_col2, #T_2172d_row16_col19, #T_2172d_row18_col13, #T_2172d_row18_col17, #T_2172d_row21_col18, #T_2172d_row23_col21 {\n",
              "  background-color: #f6eff7;\n",
              "  color: #000000;\n",
              "}\n",
              "#T_2172d_row1_col18, #T_2172d_row7_col22, #T_2172d_row9_col1 {\n",
              "  background-color: #eee8f3;\n",
              "  color: #000000;\n",
              "}\n",
              "#T_2172d_row1_col21, #T_2172d_row3_col5, #T_2172d_row3_col12, #T_2172d_row4_col5, #T_2172d_row4_col12, #T_2172d_row5_col12, #T_2172d_row7_col12, #T_2172d_row8_col14, #T_2172d_row9_col5, #T_2172d_row9_col12, #T_2172d_row10_col15, #T_2172d_row14_col19, #T_2172d_row14_col20, #T_2172d_row16_col3, #T_2172d_row18_col4, #T_2172d_row18_col22, #T_2172d_row19_col4, #T_2172d_row20_col4, #T_2172d_row21_col3, #T_2172d_row21_col4, #T_2172d_row22_col3, #T_2172d_row23_col5, #T_2172d_row23_col12, #T_2172d_row24_col11, #T_2172d_row24_col13, #T_2172d_row24_col17 {\n",
              "  background-color: #fcf4fa;\n",
              "  color: #000000;\n",
              "}\n",
              "#T_2172d_row2_col10, #T_2172d_row9_col8, #T_2172d_row12_col24, #T_2172d_row16_col11, #T_2172d_row20_col6, #T_2172d_row20_col7, #T_2172d_row22_col11 {\n",
              "  background-color: #ebe6f2;\n",
              "  color: #000000;\n",
              "}\n",
              "#T_2172d_row2_col11 {\n",
              "  background-color: #cacee5;\n",
              "  color: #000000;\n",
              "}\n",
              "#T_2172d_row2_col13, #T_2172d_row2_col18, #T_2172d_row3_col18, #T_2172d_row4_col18, #T_2172d_row5_col6, #T_2172d_row5_col18, #T_2172d_row8_col21, #T_2172d_row9_col6, #T_2172d_row9_col18, #T_2172d_row12_col18, #T_2172d_row16_col0, #T_2172d_row16_col2, #T_2172d_row16_col7, #T_2172d_row16_col13, #T_2172d_row16_col17, #T_2172d_row18_col10, #T_2172d_row18_col11, #T_2172d_row19_col14, #T_2172d_row21_col2, #T_2172d_row22_col2, #T_2172d_row22_col13, #T_2172d_row22_col17, #T_2172d_row23_col18 {\n",
              "  background-color: #f2ecf5;\n",
              "  color: #000000;\n",
              "}\n",
              "#T_2172d_row2_col15 {\n",
              "  background-color: #d5d5e8;\n",
              "  color: #000000;\n",
              "}\n",
              "#T_2172d_row2_col20, #T_2172d_row4_col21, #T_2172d_row9_col21, #T_2172d_row13_col11, #T_2172d_row13_col24, #T_2172d_row16_col20, #T_2172d_row17_col0, #T_2172d_row17_col11, #T_2172d_row17_col24, #T_2172d_row18_col6, #T_2172d_row22_col19, #T_2172d_row22_col20 {\n",
              "  background-color: #f5eff6;\n",
              "  color: #000000;\n",
              "}\n",
              "#T_2172d_row2_col21, #T_2172d_row6_col23, #T_2172d_row7_col2, #T_2172d_row13_col21, #T_2172d_row14_col3, #T_2172d_row17_col21, #T_2172d_row21_col16, #T_2172d_row21_col22, #T_2172d_row24_col3 {\n",
              "  background-color: #fbf3f9;\n",
              "  color: #000000;\n",
              "}\n",
              "#T_2172d_row3_col10, #T_2172d_row5_col10, #T_2172d_row5_col17, #T_2172d_row9_col24, #T_2172d_row12_col10, #T_2172d_row18_col1 {\n",
              "  background-color: #e8e4f0;\n",
              "  color: #000000;\n",
              "}\n",
              "#T_2172d_row3_col14, #T_2172d_row4_col24, #T_2172d_row5_col14, #T_2172d_row23_col24, #T_2172d_row24_col8 {\n",
              "  background-color: #e9e5f1;\n",
              "  color: #000000;\n",
              "}\n",
              "#T_2172d_row3_col15, #T_2172d_row7_col10 {\n",
              "  background-color: #d4d4e8;\n",
              "  color: #000000;\n",
              "}\n",
              "#T_2172d_row3_col16, #T_2172d_row4_col16, #T_2172d_row4_col22, #T_2172d_row5_col16, #T_2172d_row9_col16, #T_2172d_row9_col22, #T_2172d_row12_col16, #T_2172d_row13_col18, #T_2172d_row14_col6, #T_2172d_row14_col24, #T_2172d_row17_col18, #T_2172d_row18_col19, #T_2172d_row18_col20, #T_2172d_row19_col21, #T_2172d_row20_col21, #T_2172d_row23_col16, #T_2172d_row23_col22 {\n",
              "  background-color: #f9f2f8;\n",
              "  color: #000000;\n",
              "}\n",
              "#T_2172d_row3_col19, #T_2172d_row3_col20, #T_2172d_row4_col7, #T_2172d_row4_col19, #T_2172d_row4_col20, #T_2172d_row5_col19, #T_2172d_row5_col20, #T_2172d_row6_col11, #T_2172d_row6_col14, #T_2172d_row11_col1, #T_2172d_row12_col20, #T_2172d_row13_col15, #T_2172d_row16_col18, #T_2172d_row17_col1, #T_2172d_row17_col15, #T_2172d_row18_col14, #T_2172d_row22_col18, #T_2172d_row23_col19, #T_2172d_row23_col20 {\n",
              "  background-color: #f4eef6;\n",
              "  color: #000000;\n",
              "}\n",
              "#T_2172d_row4_col6, #T_2172d_row7_col21, #T_2172d_row8_col22, #T_2172d_row14_col1, #T_2172d_row15_col4, #T_2172d_row15_col5, #T_2172d_row18_col24, #T_2172d_row20_col14 {\n",
              "  background-color: #f3edf5;\n",
              "  color: #000000;\n",
              "}\n",
              "#T_2172d_row4_col14, #T_2172d_row9_col14, #T_2172d_row16_col10, #T_2172d_row20_col0, #T_2172d_row22_col10, #T_2172d_row23_col7, #T_2172d_row24_col7 {\n",
              "  background-color: #ece7f2;\n",
              "  color: #000000;\n",
              "}\n",
              "#T_2172d_row5_col15 {\n",
              "  background-color: #d8d7e9;\n",
              "  color: #000000;\n",
              "}\n",
              "#T_2172d_row6_col7 {\n",
              "  background-color: #2786bb;\n",
              "  color: #f1f1f1;\n",
              "}\n",
              "#T_2172d_row6_col8 {\n",
              "  background-color: #308cbe;\n",
              "  color: #f1f1f1;\n",
              "}\n",
              "#T_2172d_row6_col10 {\n",
              "  background-color: #d7d6e9;\n",
              "  color: #000000;\n",
              "}\n",
              "#T_2172d_row6_col13, #T_2172d_row8_col13, #T_2172d_row10_col7 {\n",
              "  background-color: #e1dfed;\n",
              "  color: #000000;\n",
              "}\n",
              "#T_2172d_row6_col17, #T_2172d_row20_col8 {\n",
              "  background-color: #dedcec;\n",
              "  color: #000000;\n",
              "}\n",
              "#T_2172d_row6_col24 {\n",
              "  background-color: #dddbec;\n",
              "  color: #000000;\n",
              "}\n",
              "#T_2172d_row7_col6 {\n",
              "  background-color: #2484ba;\n",
              "  color: #f1f1f1;\n",
              "}\n",
              "#T_2172d_row7_col8 {\n",
              "  background-color: #4295c3;\n",
              "  color: #f1f1f1;\n",
              "}\n",
              "#T_2172d_row7_col13, #T_2172d_row17_col6 {\n",
              "  background-color: #dfddec;\n",
              "  color: #000000;\n",
              "}\n",
              "#T_2172d_row7_col17, #T_2172d_row13_col8, #T_2172d_row15_col2 {\n",
              "  background-color: #e0dded;\n",
              "  color: #000000;\n",
              "}\n",
              "#T_2172d_row7_col20, #T_2172d_row12_col14, #T_2172d_row16_col6, #T_2172d_row16_col24, #T_2172d_row20_col1, #T_2172d_row22_col24, #T_2172d_row23_col6 {\n",
              "  background-color: #ede8f3;\n",
              "  color: #000000;\n",
              "}\n",
              "#T_2172d_row7_col24 {\n",
              "  background-color: #e0deed;\n",
              "  color: #000000;\n",
              "}\n",
              "#T_2172d_row8_col6 {\n",
              "  background-color: #328dbf;\n",
              "  color: #f1f1f1;\n",
              "}\n",
              "#T_2172d_row8_col7 {\n",
              "  background-color: #4897c4;\n",
              "  color: #f1f1f1;\n",
              "}\n",
              "#T_2172d_row8_col10 {\n",
              "  background-color: #c5cce3;\n",
              "  color: #000000;\n",
              "}\n",
              "#T_2172d_row8_col17 {\n",
              "  background-color: #dcdaeb;\n",
              "  color: #000000;\n",
              "}\n",
              "#T_2172d_row8_col19, #T_2172d_row17_col7, #T_2172d_row19_col7, #T_2172d_row22_col7, #T_2172d_row23_col8 {\n",
              "  background-color: #e3e0ee;\n",
              "  color: #000000;\n",
              "}\n",
              "#T_2172d_row8_col24, #T_2172d_row10_col6, #T_2172d_row13_col6, #T_2172d_row13_col7 {\n",
              "  background-color: #e2dfee;\n",
              "  color: #000000;\n",
              "}\n",
              "#T_2172d_row9_col11, #T_2172d_row9_col15 {\n",
              "  background-color: #e4e1ef;\n",
              "  color: #000000;\n",
              "}\n",
              "#T_2172d_row10_col1 {\n",
              "  background-color: #d0d1e6;\n",
              "  color: #000000;\n",
              "}\n",
              "#T_2172d_row10_col8, #T_2172d_row15_col0 {\n",
              "  background-color: #d1d2e6;\n",
              "  color: #000000;\n",
              "}\n",
              "#T_2172d_row11_col0, #T_2172d_row22_col8, #T_2172d_row23_col11, #T_2172d_row23_col15 {\n",
              "  background-color: #e6e2ef;\n",
              "  color: #000000;\n",
              "}\n",
              "#T_2172d_row11_col2 {\n",
              "  background-color: #d6d6e9;\n",
              "  color: #000000;\n",
              "}\n",
              "#T_2172d_row15_col1, #T_2172d_row19_col8 {\n",
              "  background-color: #dbdaeb;\n",
              "  color: #000000;\n",
              "}\n",
              "#T_2172d_row17_col8 {\n",
              "  background-color: #dad9ea;\n",
              "  color: #000000;\n",
              "}\n",
              "</style>\n",
              "<table id=\"T_2172d_\" class=\"dataframe\">\n",
              "  <thead>\n",
              "    <tr>\n",
              "      <th class=\"blank level0\" >&nbsp;</th>\n",
              "      <th class=\"col_heading level0 col0\" >21-30</th>\n",
              "      <th class=\"col_heading level0 col1\" >30+</th>\n",
              "      <th class=\"col_heading level0 col2\" >13-20</th>\n",
              "      <th class=\"col_heading level0 col3\" >3 Month Follow Up</th>\n",
              "      <th class=\"col_heading level0 col4\" >6 Month Follow Up</th>\n",
              "      <th class=\"col_heading level0 col5\" >12 Month Follow Up</th>\n",
              "      <th class=\"col_heading level0 col6\" >Stress</th>\n",
              "      <th class=\"col_heading level0 col7\" >Anxiety</th>\n",
              "      <th class=\"col_heading level0 col8\" >Depression</th>\n",
              "      <th class=\"col_heading level0 col9\" >Your therapist is..._Corin Massoud, NP</th>\n",
              "      <th class=\"col_heading level0 col10\" >Your therapist is..._Daren Casagrande, LMFT92438</th>\n",
              "      <th class=\"col_heading level0 col11\" >Your therapist is..._Dr. Christian Latino</th>\n",
              "      <th class=\"col_heading level0 col12\" >Your therapist is..._Dr. Chyna Hill, MSW</th>\n",
              "      <th class=\"col_heading level0 col13\" >Your therapist is..._Dr. Kristina Reynolds</th>\n",
              "      <th class=\"col_heading level0 col14\" >Your therapist is..._Dr. Lanique Ruffin</th>\n",
              "      <th class=\"col_heading level0 col15\" >Your therapist is..._Dr. Lindsey Ayala</th>\n",
              "      <th class=\"col_heading level0 col16\" >Your therapist is..._Dr. Lourdes Mejia, PSY31830</th>\n",
              "      <th class=\"col_heading level0 col17\" >Your therapist is..._Edward Babayan, LMFT119969</th>\n",
              "      <th class=\"col_heading level0 col18\" >Your therapist is..._Erica Villarreal-Kone, MFT123574</th>\n",
              "      <th class=\"col_heading level0 col19\" >Your therapist is..._Jade Sustacek, APC5626</th>\n",
              "      <th class=\"col_heading level0 col20\" >Your therapist is..._Kenneth McNeill, APCC6865</th>\n",
              "      <th class=\"col_heading level0 col21\" >Your therapist is..._Michelle Wright, AMFT110382</th>\n",
              "      <th class=\"col_heading level0 col22\" >Your therapist is..._Sarah Boro, Social Work Intern</th>\n",
              "      <th class=\"col_heading level0 col23\" >Your therapist is..._Sumit Sen, MFT Intern</th>\n",
              "      <th class=\"col_heading level0 col24\" >Your therapist is..._Timothy Masterson, LCSW25456</th>\n",
              "    </tr>\n",
              "  </thead>\n",
              "  <tbody>\n",
              "    <tr>\n",
              "      <th id=\"T_2172d_level0_row0\" class=\"row_heading level0 row0\" >21-30</th>\n",
              "      <td id=\"T_2172d_row0_col0\" class=\"data row0 col0\" >1.000000</td>\n",
              "      <td id=\"T_2172d_row0_col1\" class=\"data row0 col1\" >-0.092409</td>\n",
              "      <td id=\"T_2172d_row0_col2\" class=\"data row0 col2\" >-0.122479</td>\n",
              "      <td id=\"T_2172d_row0_col3\" class=\"data row0 col3\" >-0.013412</td>\n",
              "      <td id=\"T_2172d_row0_col4\" class=\"data row0 col4\" >-0.009479</td>\n",
              "      <td id=\"T_2172d_row0_col5\" class=\"data row0 col5\" >-0.013412</td>\n",
              "      <td id=\"T_2172d_row0_col6\" class=\"data row0 col6\" >-0.079478</td>\n",
              "      <td id=\"T_2172d_row0_col7\" class=\"data row0 col7\" >-0.046306</td>\n",
              "      <td id=\"T_2172d_row0_col8\" class=\"data row0 col8\" >-0.071233</td>\n",
              "      <td id=\"T_2172d_row0_col9\" class=\"data row0 col9\" >-0.006701</td>\n",
              "      <td id=\"T_2172d_row0_col10\" class=\"data row0 col10\" >-0.059143</td>\n",
              "      <td id=\"T_2172d_row0_col11\" class=\"data row0 col11\" >0.049137</td>\n",
              "      <td id=\"T_2172d_row0_col12\" class=\"data row0 col12\" >-0.014999</td>\n",
              "      <td id=\"T_2172d_row0_col13\" class=\"data row0 col13\" >-0.073337</td>\n",
              "      <td id=\"T_2172d_row0_col14\" class=\"data row0 col14\" >-0.052694</td>\n",
              "      <td id=\"T_2172d_row0_col15\" class=\"data row0 col15\" >0.155902</td>\n",
              "      <td id=\"T_2172d_row0_col16\" class=\"data row0 col16\" >-0.028560</td>\n",
              "      <td id=\"T_2172d_row0_col17\" class=\"data row0 col17\" >-0.048938</td>\n",
              "      <td id=\"T_2172d_row0_col18\" class=\"data row0 col18\" >0.015870</td>\n",
              "      <td id=\"T_2172d_row0_col19\" class=\"data row0 col19\" >-0.000996</td>\n",
              "      <td id=\"T_2172d_row0_col20\" class=\"data row0 col20\" >0.020443</td>\n",
              "      <td id=\"T_2172d_row0_col21\" class=\"data row0 col21\" >-0.037989</td>\n",
              "      <td id=\"T_2172d_row0_col22\" class=\"data row0 col22\" >-0.005663</td>\n",
              "      <td id=\"T_2172d_row0_col23\" class=\"data row0 col23\" >-0.010599</td>\n",
              "      <td id=\"T_2172d_row0_col24\" class=\"data row0 col24\" >-0.015281</td>\n",
              "    </tr>\n",
              "    <tr>\n",
              "      <th id=\"T_2172d_level0_row1\" class=\"row_heading level0 row1\" >30+</th>\n",
              "      <td id=\"T_2172d_row1_col0\" class=\"data row1 col0\" >-0.092409</td>\n",
              "      <td id=\"T_2172d_row1_col1\" class=\"data row1 col1\" >1.000000</td>\n",
              "      <td id=\"T_2172d_row1_col2\" class=\"data row1 col2\" >-0.136741</td>\n",
              "      <td id=\"T_2172d_row1_col3\" class=\"data row1 col3\" >-0.014974</td>\n",
              "      <td id=\"T_2172d_row1_col4\" class=\"data row1 col4\" >-0.010582</td>\n",
              "      <td id=\"T_2172d_row1_col5\" class=\"data row1 col5\" >-0.014974</td>\n",
              "      <td id=\"T_2172d_row1_col6\" class=\"data row1 col6\" >0.044148</td>\n",
              "      <td id=\"T_2172d_row1_col7\" class=\"data row1 col7\" >0.005049</td>\n",
              "      <td id=\"T_2172d_row1_col8\" class=\"data row1 col8\" >0.044085</td>\n",
              "      <td id=\"T_2172d_row1_col9\" class=\"data row1 col9\" >-0.007481</td>\n",
              "      <td id=\"T_2172d_row1_col10\" class=\"data row1 col10\" >0.150894</td>\n",
              "      <td id=\"T_2172d_row1_col11\" class=\"data row1 col11\" >-0.055393</td>\n",
              "      <td id=\"T_2172d_row1_col12\" class=\"data row1 col12\" >-0.016746</td>\n",
              "      <td id=\"T_2172d_row1_col13\" class=\"data row1 col13\" >-0.082706</td>\n",
              "      <td id=\"T_2172d_row1_col14\" class=\"data row1 col14\" >-0.046197</td>\n",
              "      <td id=\"T_2172d_row1_col15\" class=\"data row1 col15\" >0.091288</td>\n",
              "      <td id=\"T_2172d_row1_col16\" class=\"data row1 col16\" >-0.031886</td>\n",
              "      <td id=\"T_2172d_row1_col17\" class=\"data row1 col17\" >-0.056729</td>\n",
              "      <td id=\"T_2172d_row1_col18\" class=\"data row1 col18\" >0.024102</td>\n",
              "      <td id=\"T_2172d_row1_col19\" class=\"data row1 col19\" >-0.011664</td>\n",
              "      <td id=\"T_2172d_row1_col20\" class=\"data row1 col20\" >-0.002609</td>\n",
              "      <td id=\"T_2172d_row1_col21\" class=\"data row1 col21\" >-0.049919</td>\n",
              "      <td id=\"T_2172d_row1_col22\" class=\"data row1 col22\" >-0.010740</td>\n",
              "      <td id=\"T_2172d_row1_col23\" class=\"data row1 col23\" >-0.011833</td>\n",
              "      <td id=\"T_2172d_row1_col24\" class=\"data row1 col24\" >-0.016219</td>\n",
              "    </tr>\n",
              "    <tr>\n",
              "      <th id=\"T_2172d_level0_row2\" class=\"row_heading level0 row2\" >13-20</th>\n",
              "      <td id=\"T_2172d_row2_col0\" class=\"data row2 col0\" >-0.122479</td>\n",
              "      <td id=\"T_2172d_row2_col1\" class=\"data row2 col1\" >-0.136741</td>\n",
              "      <td id=\"T_2172d_row2_col2\" class=\"data row2 col2\" >1.000000</td>\n",
              "      <td id=\"T_2172d_row2_col3\" class=\"data row2 col3\" >-0.019847</td>\n",
              "      <td id=\"T_2172d_row2_col4\" class=\"data row2 col4\" >-0.014026</td>\n",
              "      <td id=\"T_2172d_row2_col5\" class=\"data row2 col5\" >-0.019847</td>\n",
              "      <td id=\"T_2172d_row2_col6\" class=\"data row2 col6\" >-0.106785</td>\n",
              "      <td id=\"T_2172d_row2_col7\" class=\"data row2 col7\" >-0.104226</td>\n",
              "      <td id=\"T_2172d_row2_col8\" class=\"data row2 col8\" >-0.135408</td>\n",
              "      <td id=\"T_2172d_row2_col9\" class=\"data row2 col9\" >-0.009915</td>\n",
              "      <td id=\"T_2172d_row2_col10\" class=\"data row2 col10\" >-0.034084</td>\n",
              "      <td id=\"T_2172d_row2_col11\" class=\"data row2 col11\" >0.116859</td>\n",
              "      <td id=\"T_2172d_row2_col12\" class=\"data row2 col12\" >-0.022195</td>\n",
              "      <td id=\"T_2172d_row2_col13\" class=\"data row2 col13\" >-0.030591</td>\n",
              "      <td id=\"T_2172d_row2_col14\" class=\"data row2 col14\" >-0.068235</td>\n",
              "      <td id=\"T_2172d_row2_col15\" class=\"data row2 col15\" >0.071110</td>\n",
              "      <td id=\"T_2172d_row2_col16\" class=\"data row2 col16\" >-0.042262</td>\n",
              "      <td id=\"T_2172d_row2_col17\" class=\"data row2 col17\" >0.014379</td>\n",
              "      <td id=\"T_2172d_row2_col18\" class=\"data row2 col18\" >-0.009489</td>\n",
              "      <td id=\"T_2172d_row2_col19\" class=\"data row2 col19\" >0.036414</td>\n",
              "      <td id=\"T_2172d_row2_col20\" class=\"data row2 col20\" >-0.016221</td>\n",
              "      <td id=\"T_2172d_row2_col21\" class=\"data row2 col21\" >-0.041379</td>\n",
              "      <td id=\"T_2172d_row2_col22\" class=\"data row2 col22\" >-0.040446</td>\n",
              "      <td id=\"T_2172d_row2_col23\" class=\"data row2 col23\" >-0.015684</td>\n",
              "      <td id=\"T_2172d_row2_col24\" class=\"data row2 col24\" >-0.059627</td>\n",
              "    </tr>\n",
              "    <tr>\n",
              "      <th id=\"T_2172d_level0_row3\" class=\"row_heading level0 row3\" >3 Month Follow Up</th>\n",
              "      <td id=\"T_2172d_row3_col0\" class=\"data row3 col0\" >-0.013412</td>\n",
              "      <td id=\"T_2172d_row3_col1\" class=\"data row3 col1\" >-0.014974</td>\n",
              "      <td id=\"T_2172d_row3_col2\" class=\"data row3 col2\" >-0.019847</td>\n",
              "      <td id=\"T_2172d_row3_col3\" class=\"data row3 col3\" >1.000000</td>\n",
              "      <td id=\"T_2172d_row3_col4\" class=\"data row3 col4\" >-0.001536</td>\n",
              "      <td id=\"T_2172d_row3_col5\" class=\"data row3 col5\" >-0.002173</td>\n",
              "      <td id=\"T_2172d_row3_col6\" class=\"data row3 col6\" >-0.017606</td>\n",
              "      <td id=\"T_2172d_row3_col7\" class=\"data row3 col7\" >0.006736</td>\n",
              "      <td id=\"T_2172d_row3_col8\" class=\"data row3 col8\" >-0.028366</td>\n",
              "      <td id=\"T_2172d_row3_col9\" class=\"data row3 col9\" >-0.001086</td>\n",
              "      <td id=\"T_2172d_row3_col10\" class=\"data row3 col10\" >-0.019032</td>\n",
              "      <td id=\"T_2172d_row3_col11\" class=\"data row3 col11\" >-0.021781</td>\n",
              "      <td id=\"T_2172d_row3_col12\" class=\"data row3 col12\" >-0.002431</td>\n",
              "      <td id=\"T_2172d_row3_col13\" class=\"data row3 col13\" >-0.012542</td>\n",
              "      <td id=\"T_2172d_row3_col14\" class=\"data row3 col14\" >0.003648</td>\n",
              "      <td id=\"T_2172d_row3_col15\" class=\"data row3 col15\" >0.075133</td>\n",
              "      <td id=\"T_2172d_row3_col16\" class=\"data row3 col16\" >-0.004628</td>\n",
              "      <td id=\"T_2172d_row3_col17\" class=\"data row3 col17\" >-0.012542</td>\n",
              "      <td id=\"T_2172d_row3_col18\" class=\"data row3 col18\" >-0.010151</td>\n",
              "      <td id=\"T_2172d_row3_col19\" class=\"data row3 col19\" >-0.008548</td>\n",
              "      <td id=\"T_2172d_row3_col20\" class=\"data row3 col20\" >-0.008658</td>\n",
              "      <td id=\"T_2172d_row3_col21\" class=\"data row3 col21\" >-0.007245</td>\n",
              "      <td id=\"T_2172d_row3_col22\" class=\"data row3 col22\" >-0.004429</td>\n",
              "      <td id=\"T_2172d_row3_col23\" class=\"data row3 col23\" >-0.001717</td>\n",
              "      <td id=\"T_2172d_row3_col24\" class=\"data row3 col24\" >0.000158</td>\n",
              "    </tr>\n",
              "    <tr>\n",
              "      <th id=\"T_2172d_level0_row4\" class=\"row_heading level0 row4\" >6 Month Follow Up</th>\n",
              "      <td id=\"T_2172d_row4_col0\" class=\"data row4 col0\" >-0.009479</td>\n",
              "      <td id=\"T_2172d_row4_col1\" class=\"data row4 col1\" >-0.010582</td>\n",
              "      <td id=\"T_2172d_row4_col2\" class=\"data row4 col2\" >-0.014026</td>\n",
              "      <td id=\"T_2172d_row4_col3\" class=\"data row4 col3\" >-0.001536</td>\n",
              "      <td id=\"T_2172d_row4_col4\" class=\"data row4 col4\" >1.000000</td>\n",
              "      <td id=\"T_2172d_row4_col5\" class=\"data row4 col5\" >-0.001536</td>\n",
              "      <td id=\"T_2172d_row4_col6\" class=\"data row4 col6\" >-0.028466</td>\n",
              "      <td id=\"T_2172d_row4_col7\" class=\"data row4 col7\" >-0.026026</td>\n",
              "      <td id=\"T_2172d_row4_col8\" class=\"data row4 col8\" >-0.022993</td>\n",
              "      <td id=\"T_2172d_row4_col9\" class=\"data row4 col9\" >-0.000767</td>\n",
              "      <td id=\"T_2172d_row4_col10\" class=\"data row4 col10\" >-0.013450</td>\n",
              "      <td id=\"T_2172d_row4_col11\" class=\"data row4 col11\" >-0.015393</td>\n",
              "      <td id=\"T_2172d_row4_col12\" class=\"data row4 col12\" >-0.001718</td>\n",
              "      <td id=\"T_2172d_row4_col13\" class=\"data row4 col13\" >0.023967</td>\n",
              "      <td id=\"T_2172d_row4_col14\" class=\"data row4 col14\" >-0.011066</td>\n",
              "      <td id=\"T_2172d_row4_col15\" class=\"data row4 col15\" >0.053098</td>\n",
              "      <td id=\"T_2172d_row4_col16\" class=\"data row4 col16\" >-0.003271</td>\n",
              "      <td id=\"T_2172d_row4_col17\" class=\"data row4 col17\" >-0.008864</td>\n",
              "      <td id=\"T_2172d_row4_col18\" class=\"data row4 col18\" >-0.007174</td>\n",
              "      <td id=\"T_2172d_row4_col19\" class=\"data row4 col19\" >-0.006041</td>\n",
              "      <td id=\"T_2172d_row4_col20\" class=\"data row4 col20\" >-0.006119</td>\n",
              "      <td id=\"T_2172d_row4_col21\" class=\"data row4 col21\" >-0.005120</td>\n",
              "      <td id=\"T_2172d_row4_col22\" class=\"data row4 col22\" >-0.003130</td>\n",
              "      <td id=\"T_2172d_row4_col23\" class=\"data row4 col23\" >-0.001214</td>\n",
              "      <td id=\"T_2172d_row4_col24\" class=\"data row4 col24\" >-0.012389</td>\n",
              "    </tr>\n",
              "    <tr>\n",
              "      <th id=\"T_2172d_level0_row5\" class=\"row_heading level0 row5\" >12 Month Follow Up</th>\n",
              "      <td id=\"T_2172d_row5_col0\" class=\"data row5 col0\" >-0.013412</td>\n",
              "      <td id=\"T_2172d_row5_col1\" class=\"data row5 col1\" >-0.014974</td>\n",
              "      <td id=\"T_2172d_row5_col2\" class=\"data row5 col2\" >-0.019847</td>\n",
              "      <td id=\"T_2172d_row5_col3\" class=\"data row5 col3\" >-0.002173</td>\n",
              "      <td id=\"T_2172d_row5_col4\" class=\"data row5 col4\" >-0.001536</td>\n",
              "      <td id=\"T_2172d_row5_col5\" class=\"data row5 col5\" >1.000000</td>\n",
              "      <td id=\"T_2172d_row5_col6\" class=\"data row5 col6\" >-0.022141</td>\n",
              "      <td id=\"T_2172d_row5_col7\" class=\"data row5 col7\" >0.014657</td>\n",
              "      <td id=\"T_2172d_row5_col8\" class=\"data row5 col8\" >-0.020028</td>\n",
              "      <td id=\"T_2172d_row5_col9\" class=\"data row5 col9\" >-0.001086</td>\n",
              "      <td id=\"T_2172d_row5_col10\" class=\"data row5 col10\" >-0.019032</td>\n",
              "      <td id=\"T_2172d_row5_col11\" class=\"data row5 col11\" >-0.021781</td>\n",
              "      <td id=\"T_2172d_row5_col12\" class=\"data row5 col12\" >-0.002431</td>\n",
              "      <td id=\"T_2172d_row5_col13\" class=\"data row5 col13\" >-0.012542</td>\n",
              "      <td id=\"T_2172d_row5_col14\" class=\"data row5 col14\" >0.003648</td>\n",
              "      <td id=\"T_2172d_row5_col15\" class=\"data row5 col15\" >0.059224</td>\n",
              "      <td id=\"T_2172d_row5_col16\" class=\"data row5 col16\" >-0.004628</td>\n",
              "      <td id=\"T_2172d_row5_col17\" class=\"data row5 col17\" >0.033912</td>\n",
              "      <td id=\"T_2172d_row5_col18\" class=\"data row5 col18\" >-0.010151</td>\n",
              "      <td id=\"T_2172d_row5_col19\" class=\"data row5 col19\" >-0.008548</td>\n",
              "      <td id=\"T_2172d_row5_col20\" class=\"data row5 col20\" >-0.008658</td>\n",
              "      <td id=\"T_2172d_row5_col21\" class=\"data row5 col21\" >-0.007245</td>\n",
              "      <td id=\"T_2172d_row5_col22\" class=\"data row5 col22\" >-0.004429</td>\n",
              "      <td id=\"T_2172d_row5_col23\" class=\"data row5 col23\" >-0.001717</td>\n",
              "      <td id=\"T_2172d_row5_col24\" class=\"data row5 col24\" >-0.017530</td>\n",
              "    </tr>\n",
              "    <tr>\n",
              "      <th id=\"T_2172d_level0_row6\" class=\"row_heading level0 row6\" >Stress</th>\n",
              "      <td id=\"T_2172d_row6_col0\" class=\"data row6 col0\" >-0.079478</td>\n",
              "      <td id=\"T_2172d_row6_col1\" class=\"data row6 col1\" >0.044148</td>\n",
              "      <td id=\"T_2172d_row6_col2\" class=\"data row6 col2\" >-0.106785</td>\n",
              "      <td id=\"T_2172d_row6_col3\" class=\"data row6 col3\" >-0.017606</td>\n",
              "      <td id=\"T_2172d_row6_col4\" class=\"data row6 col4\" >-0.028466</td>\n",
              "      <td id=\"T_2172d_row6_col5\" class=\"data row6 col5\" >-0.022141</td>\n",
              "      <td id=\"T_2172d_row6_col6\" class=\"data row6 col6\" >1.000000</td>\n",
              "      <td id=\"T_2172d_row6_col7\" class=\"data row6 col7\" >0.628874</td>\n",
              "      <td id=\"T_2172d_row6_col8\" class=\"data row6 col8\" >0.589912</td>\n",
              "      <td id=\"T_2172d_row6_col9\" class=\"data row6 col9\" >-0.020123</td>\n",
              "      <td id=\"T_2172d_row6_col10\" class=\"data row6 col10\" >0.073457</td>\n",
              "      <td id=\"T_2172d_row6_col11\" class=\"data row6 col11\" >-0.118768</td>\n",
              "      <td id=\"T_2172d_row6_col12\" class=\"data row6 col12\" >0.032037</td>\n",
              "      <td id=\"T_2172d_row6_col13\" class=\"data row6 col13\" >0.071071</td>\n",
              "      <td id=\"T_2172d_row6_col14\" class=\"data row6 col14\" >-0.072167</td>\n",
              "      <td id=\"T_2172d_row6_col15\" class=\"data row6 col15\" >-0.075431</td>\n",
              "      <td id=\"T_2172d_row6_col16\" class=\"data row6 col16\" >0.015081</td>\n",
              "      <td id=\"T_2172d_row6_col17\" class=\"data row6 col17\" >0.087046</td>\n",
              "      <td id=\"T_2172d_row6_col18\" class=\"data row6 col18\" >-0.045076</td>\n",
              "      <td id=\"T_2172d_row6_col19\" class=\"data row6 col19\" >0.046089</td>\n",
              "      <td id=\"T_2172d_row6_col20\" class=\"data row6 col20\" >0.028704</td>\n",
              "      <td id=\"T_2172d_row6_col21\" class=\"data row6 col21\" >0.000558</td>\n",
              "      <td id=\"T_2172d_row6_col22\" class=\"data row6 col22\" >0.056813</td>\n",
              "      <td id=\"T_2172d_row6_col23\" class=\"data row6 col23\" >0.014038</td>\n",
              "      <td id=\"T_2172d_row6_col24\" class=\"data row6 col24\" >0.051595</td>\n",
              "    </tr>\n",
              "    <tr>\n",
              "      <th id=\"T_2172d_level0_row7\" class=\"row_heading level0 row7\" >Anxiety</th>\n",
              "      <td id=\"T_2172d_row7_col0\" class=\"data row7 col0\" >-0.046306</td>\n",
              "      <td id=\"T_2172d_row7_col1\" class=\"data row7 col1\" >0.005049</td>\n",
              "      <td id=\"T_2172d_row7_col2\" class=\"data row7 col2\" >-0.104226</td>\n",
              "      <td id=\"T_2172d_row7_col3\" class=\"data row7 col3\" >0.006736</td>\n",
              "      <td id=\"T_2172d_row7_col4\" class=\"data row7 col4\" >-0.026026</td>\n",
              "      <td id=\"T_2172d_row7_col5\" class=\"data row7 col5\" >0.014657</td>\n",
              "      <td id=\"T_2172d_row7_col6\" class=\"data row7 col6\" >0.628874</td>\n",
              "      <td id=\"T_2172d_row7_col7\" class=\"data row7 col7\" >1.000000</td>\n",
              "      <td id=\"T_2172d_row7_col8\" class=\"data row7 col8\" >0.544133</td>\n",
              "      <td id=\"T_2172d_row7_col9\" class=\"data row7 col9\" >-0.018398</td>\n",
              "      <td id=\"T_2172d_row7_col10\" class=\"data row7 col10\" >0.087090</td>\n",
              "      <td id=\"T_2172d_row7_col11\" class=\"data row7 col11\" >-0.091426</td>\n",
              "      <td id=\"T_2172d_row7_col12\" class=\"data row7 col12\" >-0.002210</td>\n",
              "      <td id=\"T_2172d_row7_col13\" class=\"data row7 col13\" >0.083392</td>\n",
              "      <td id=\"T_2172d_row7_col14\" class=\"data row7 col14\" >-0.086501</td>\n",
              "      <td id=\"T_2172d_row7_col15\" class=\"data row7 col15\" >-0.093865</td>\n",
              "      <td id=\"T_2172d_row7_col16\" class=\"data row7 col16\" >-0.012828</td>\n",
              "      <td id=\"T_2172d_row7_col17\" class=\"data row7 col17\" >0.079720</td>\n",
              "      <td id=\"T_2172d_row7_col18\" class=\"data row7 col18\" >-0.085170</td>\n",
              "      <td id=\"T_2172d_row7_col19\" class=\"data row7 col19\" >0.078417</td>\n",
              "      <td id=\"T_2172d_row7_col20\" class=\"data row7 col20\" >0.042100</td>\n",
              "      <td id=\"T_2172d_row7_col21\" class=\"data row7 col21\" >0.013200</td>\n",
              "      <td id=\"T_2172d_row7_col22\" class=\"data row7 col22\" >0.077559</td>\n",
              "      <td id=\"T_2172d_row7_col23\" class=\"data row7 col23\" >0.035993</td>\n",
              "      <td id=\"T_2172d_row7_col24\" class=\"data row7 col24\" >0.035113</td>\n",
              "    </tr>\n",
              "    <tr>\n",
              "      <th id=\"T_2172d_level0_row8\" class=\"row_heading level0 row8\" >Depression</th>\n",
              "      <td id=\"T_2172d_row8_col0\" class=\"data row8 col0\" >-0.071233</td>\n",
              "      <td id=\"T_2172d_row8_col1\" class=\"data row8 col1\" >0.044085</td>\n",
              "      <td id=\"T_2172d_row8_col2\" class=\"data row8 col2\" >-0.135408</td>\n",
              "      <td id=\"T_2172d_row8_col3\" class=\"data row8 col3\" >-0.028366</td>\n",
              "      <td id=\"T_2172d_row8_col4\" class=\"data row8 col4\" >-0.022993</td>\n",
              "      <td id=\"T_2172d_row8_col5\" class=\"data row8 col5\" >-0.020028</td>\n",
              "      <td id=\"T_2172d_row8_col6\" class=\"data row8 col6\" >0.589912</td>\n",
              "      <td id=\"T_2172d_row8_col7\" class=\"data row8 col7\" >0.544133</td>\n",
              "      <td id=\"T_2172d_row8_col8\" class=\"data row8 col8\" >1.000000</td>\n",
              "      <td id=\"T_2172d_row8_col9\" class=\"data row8 col9\" >0.012904</td>\n",
              "      <td id=\"T_2172d_row8_col10\" class=\"data row8 col10\" >0.144166</td>\n",
              "      <td id=\"T_2172d_row8_col11\" class=\"data row8 col11\" >-0.132523</td>\n",
              "      <td id=\"T_2172d_row8_col12\" class=\"data row8 col12\" >0.028885</td>\n",
              "      <td id=\"T_2172d_row8_col13\" class=\"data row8 col13\" >0.070990</td>\n",
              "      <td id=\"T_2172d_row8_col14\" class=\"data row8 col14\" >-0.131933</td>\n",
              "      <td id=\"T_2172d_row8_col15\" class=\"data row8 col15\" >-0.083563</td>\n",
              "      <td id=\"T_2172d_row8_col16\" class=\"data row8 col16\" >0.005683</td>\n",
              "      <td id=\"T_2172d_row8_col17\" class=\"data row8 col17\" >0.096498</td>\n",
              "      <td id=\"T_2172d_row8_col18\" class=\"data row8 col18\" >-0.096697</td>\n",
              "      <td id=\"T_2172d_row8_col19\" class=\"data row8 col19\" >0.092846</td>\n",
              "      <td id=\"T_2172d_row8_col20\" class=\"data row8 col20\" >0.078052</td>\n",
              "      <td id=\"T_2172d_row8_col21\" class=\"data row8 col21\" >0.015819</td>\n",
              "      <td id=\"T_2172d_row8_col22\" class=\"data row8 col22\" >0.040280</td>\n",
              "      <td id=\"T_2172d_row8_col23\" class=\"data row8 col23\" >0.052037</td>\n",
              "      <td id=\"T_2172d_row8_col24\" class=\"data row8 col24\" >0.024093</td>\n",
              "    </tr>\n",
              "    <tr>\n",
              "      <th id=\"T_2172d_level0_row9\" class=\"row_heading level0 row9\" >Your therapist is..._Corin Massoud, NP</th>\n",
              "      <td id=\"T_2172d_row9_col0\" class=\"data row9 col0\" >-0.006701</td>\n",
              "      <td id=\"T_2172d_row9_col1\" class=\"data row9 col1\" >-0.007481</td>\n",
              "      <td id=\"T_2172d_row9_col2\" class=\"data row9 col2\" >-0.009915</td>\n",
              "      <td id=\"T_2172d_row9_col3\" class=\"data row9 col3\" >-0.001086</td>\n",
              "      <td id=\"T_2172d_row9_col4\" class=\"data row9 col4\" >-0.000767</td>\n",
              "      <td id=\"T_2172d_row9_col5\" class=\"data row9 col5\" >-0.001086</td>\n",
              "      <td id=\"T_2172d_row9_col6\" class=\"data row9 col6\" >-0.020123</td>\n",
              "      <td id=\"T_2172d_row9_col7\" class=\"data row9 col7\" >-0.018398</td>\n",
              "      <td id=\"T_2172d_row9_col8\" class=\"data row9 col8\" >0.012904</td>\n",
              "      <td id=\"T_2172d_row9_col9\" class=\"data row9 col9\" >1.000000</td>\n",
              "      <td id=\"T_2172d_row9_col10\" class=\"data row9 col10\" >-0.009508</td>\n",
              "      <td id=\"T_2172d_row9_col11\" class=\"data row9 col11\" >-0.010882</td>\n",
              "      <td id=\"T_2172d_row9_col12\" class=\"data row9 col12\" >-0.001214</td>\n",
              "      <td id=\"T_2172d_row9_col13\" class=\"data row9 col13\" >-0.006266</td>\n",
              "      <td id=\"T_2172d_row9_col14\" class=\"data row9 col14\" >-0.007823</td>\n",
              "      <td id=\"T_2172d_row9_col15\" class=\"data row9 col15\" >-0.010152</td>\n",
              "      <td id=\"T_2172d_row9_col16\" class=\"data row9 col16\" >-0.002312</td>\n",
              "      <td id=\"T_2172d_row9_col17\" class=\"data row9 col17\" >-0.006266</td>\n",
              "      <td id=\"T_2172d_row9_col18\" class=\"data row9 col18\" >-0.005072</td>\n",
              "      <td id=\"T_2172d_row9_col19\" class=\"data row9 col19\" >-0.004271</td>\n",
              "      <td id=\"T_2172d_row9_col20\" class=\"data row9 col20\" >-0.004326</td>\n",
              "      <td id=\"T_2172d_row9_col21\" class=\"data row9 col21\" >-0.003620</td>\n",
              "      <td id=\"T_2172d_row9_col22\" class=\"data row9 col22\" >-0.002213</td>\n",
              "      <td id=\"T_2172d_row9_col23\" class=\"data row9 col23\" >-0.000858</td>\n",
              "      <td id=\"T_2172d_row9_col24\" class=\"data row9 col24\" >-0.008758</td>\n",
              "    </tr>\n",
              "    <tr>\n",
              "      <th id=\"T_2172d_level0_row10\" class=\"row_heading level0 row10\" >Your therapist is..._Daren Casagrande, LMFT92438</th>\n",
              "      <td id=\"T_2172d_row10_col0\" class=\"data row10 col0\" >-0.059143</td>\n",
              "      <td id=\"T_2172d_row10_col1\" class=\"data row10 col1\" >0.150894</td>\n",
              "      <td id=\"T_2172d_row10_col2\" class=\"data row10 col2\" >-0.034084</td>\n",
              "      <td id=\"T_2172d_row10_col3\" class=\"data row10 col3\" >-0.019032</td>\n",
              "      <td id=\"T_2172d_row10_col4\" class=\"data row10 col4\" >-0.013450</td>\n",
              "      <td id=\"T_2172d_row10_col5\" class=\"data row10 col5\" >-0.019032</td>\n",
              "      <td id=\"T_2172d_row10_col6\" class=\"data row10 col6\" >0.073457</td>\n",
              "      <td id=\"T_2172d_row10_col7\" class=\"data row10 col7\" >0.087090</td>\n",
              "      <td id=\"T_2172d_row10_col8\" class=\"data row10 col8\" >0.144166</td>\n",
              "      <td id=\"T_2172d_row10_col9\" class=\"data row10 col9\" >-0.009508</td>\n",
              "      <td id=\"T_2172d_row10_col10\" class=\"data row10 col10\" >1.000000</td>\n",
              "      <td id=\"T_2172d_row10_col11\" class=\"data row10 col11\" >-0.190742</td>\n",
              "      <td id=\"T_2172d_row10_col12\" class=\"data row10 col12\" >-0.021284</td>\n",
              "      <td id=\"T_2172d_row10_col13\" class=\"data row10 col13\" >-0.109836</td>\n",
              "      <td id=\"T_2172d_row10_col14\" class=\"data row10 col14\" >-0.137126</td>\n",
              "      <td id=\"T_2172d_row10_col15\" class=\"data row10 col15\" >-0.177951</td>\n",
              "      <td id=\"T_2172d_row10_col16\" class=\"data row10 col16\" >-0.040528</td>\n",
              "      <td id=\"T_2172d_row10_col17\" class=\"data row10 col17\" >-0.109836</td>\n",
              "      <td id=\"T_2172d_row10_col18\" class=\"data row10 col18\" >-0.088897</td>\n",
              "      <td id=\"T_2172d_row10_col19\" class=\"data row10 col19\" >-0.074859</td>\n",
              "      <td id=\"T_2172d_row10_col20\" class=\"data row10 col20\" >-0.075820</td>\n",
              "      <td id=\"T_2172d_row10_col21\" class=\"data row10 col21\" >-0.063447</td>\n",
              "      <td id=\"T_2172d_row10_col22\" class=\"data row10 col22\" >-0.038786</td>\n",
              "      <td id=\"T_2172d_row10_col23\" class=\"data row10 col23\" >-0.015040</td>\n",
              "      <td id=\"T_2172d_row10_col24\" class=\"data row10 col24\" >-0.153514</td>\n",
              "    </tr>\n",
              "    <tr>\n",
              "      <th id=\"T_2172d_level0_row11\" class=\"row_heading level0 row11\" >Your therapist is..._Dr. Christian Latino</th>\n",
              "      <td id=\"T_2172d_row11_col0\" class=\"data row11 col0\" >0.049137</td>\n",
              "      <td id=\"T_2172d_row11_col1\" class=\"data row11 col1\" >-0.055393</td>\n",
              "      <td id=\"T_2172d_row11_col2\" class=\"data row11 col2\" >0.116859</td>\n",
              "      <td id=\"T_2172d_row11_col3\" class=\"data row11 col3\" >-0.021781</td>\n",
              "      <td id=\"T_2172d_row11_col4\" class=\"data row11 col4\" >-0.015393</td>\n",
              "      <td id=\"T_2172d_row11_col5\" class=\"data row11 col5\" >-0.021781</td>\n",
              "      <td id=\"T_2172d_row11_col6\" class=\"data row11 col6\" >-0.118768</td>\n",
              "      <td id=\"T_2172d_row11_col7\" class=\"data row11 col7\" >-0.091426</td>\n",
              "      <td id=\"T_2172d_row11_col8\" class=\"data row11 col8\" >-0.132523</td>\n",
              "      <td id=\"T_2172d_row11_col9\" class=\"data row11 col9\" >-0.010882</td>\n",
              "      <td id=\"T_2172d_row11_col10\" class=\"data row11 col10\" >-0.190742</td>\n",
              "      <td id=\"T_2172d_row11_col11\" class=\"data row11 col11\" >1.000000</td>\n",
              "      <td id=\"T_2172d_row11_col12\" class=\"data row11 col12\" >-0.024359</td>\n",
              "      <td id=\"T_2172d_row11_col13\" class=\"data row11 col13\" >-0.125702</td>\n",
              "      <td id=\"T_2172d_row11_col14\" class=\"data row11 col14\" >-0.156934</td>\n",
              "      <td id=\"T_2172d_row11_col15\" class=\"data row11 col15\" >-0.203657</td>\n",
              "      <td id=\"T_2172d_row11_col16\" class=\"data row11 col16\" >-0.046382</td>\n",
              "      <td id=\"T_2172d_row11_col17\" class=\"data row11 col17\" >-0.125702</td>\n",
              "      <td id=\"T_2172d_row11_col18\" class=\"data row11 col18\" >-0.101739</td>\n",
              "      <td id=\"T_2172d_row11_col19\" class=\"data row11 col19\" >-0.085672</td>\n",
              "      <td id=\"T_2172d_row11_col20\" class=\"data row11 col20\" >-0.086773</td>\n",
              "      <td id=\"T_2172d_row11_col21\" class=\"data row11 col21\" >-0.072612</td>\n",
              "      <td id=\"T_2172d_row11_col22\" class=\"data row11 col22\" >-0.044389</td>\n",
              "      <td id=\"T_2172d_row11_col23\" class=\"data row11 col23\" >-0.017213</td>\n",
              "      <td id=\"T_2172d_row11_col24\" class=\"data row11 col24\" >-0.175689</td>\n",
              "    </tr>\n",
              "    <tr>\n",
              "      <th id=\"T_2172d_level0_row12\" class=\"row_heading level0 row12\" >Your therapist is..._Dr. Chyna Hill, MSW</th>\n",
              "      <td id=\"T_2172d_row12_col0\" class=\"data row12 col0\" >-0.014999</td>\n",
              "      <td id=\"T_2172d_row12_col1\" class=\"data row12 col1\" >-0.016746</td>\n",
              "      <td id=\"T_2172d_row12_col2\" class=\"data row12 col2\" >-0.022195</td>\n",
              "      <td id=\"T_2172d_row12_col3\" class=\"data row12 col3\" >-0.002431</td>\n",
              "      <td id=\"T_2172d_row12_col4\" class=\"data row12 col4\" >-0.001718</td>\n",
              "      <td id=\"T_2172d_row12_col5\" class=\"data row12 col5\" >-0.002431</td>\n",
              "      <td id=\"T_2172d_row12_col6\" class=\"data row12 col6\" >0.032037</td>\n",
              "      <td id=\"T_2172d_row12_col7\" class=\"data row12 col7\" >-0.002210</td>\n",
              "      <td id=\"T_2172d_row12_col8\" class=\"data row12 col8\" >0.028885</td>\n",
              "      <td id=\"T_2172d_row12_col9\" class=\"data row12 col9\" >-0.001214</td>\n",
              "      <td id=\"T_2172d_row12_col10\" class=\"data row12 col10\" >-0.021284</td>\n",
              "      <td id=\"T_2172d_row12_col11\" class=\"data row12 col11\" >-0.024359</td>\n",
              "      <td id=\"T_2172d_row12_col12\" class=\"data row12 col12\" >1.000000</td>\n",
              "      <td id=\"T_2172d_row12_col13\" class=\"data row12 col13\" >-0.014027</td>\n",
              "      <td id=\"T_2172d_row12_col14\" class=\"data row12 col14\" >-0.017512</td>\n",
              "      <td id=\"T_2172d_row12_col15\" class=\"data row12 col15\" >-0.022725</td>\n",
              "      <td id=\"T_2172d_row12_col16\" class=\"data row12 col16\" >-0.005176</td>\n",
              "      <td id=\"T_2172d_row12_col17\" class=\"data row12 col17\" >-0.014027</td>\n",
              "      <td id=\"T_2172d_row12_col18\" class=\"data row12 col18\" >-0.011353</td>\n",
              "      <td id=\"T_2172d_row12_col19\" class=\"data row12 col19\" >-0.009560</td>\n",
              "      <td id=\"T_2172d_row12_col20\" class=\"data row12 col20\" >-0.009683</td>\n",
              "      <td id=\"T_2172d_row12_col21\" class=\"data row12 col21\" >-0.008103</td>\n",
              "      <td id=\"T_2172d_row12_col22\" class=\"data row12 col22\" >-0.004953</td>\n",
              "      <td id=\"T_2172d_row12_col23\" class=\"data row12 col23\" >-0.001921</td>\n",
              "      <td id=\"T_2172d_row12_col24\" class=\"data row12 col24\" >-0.019605</td>\n",
              "    </tr>\n",
              "    <tr>\n",
              "      <th id=\"T_2172d_level0_row13\" class=\"row_heading level0 row13\" >Your therapist is..._Dr. Kristina Reynolds</th>\n",
              "      <td id=\"T_2172d_row13_col0\" class=\"data row13 col0\" >-0.073337</td>\n",
              "      <td id=\"T_2172d_row13_col1\" class=\"data row13 col1\" >-0.082706</td>\n",
              "      <td id=\"T_2172d_row13_col2\" class=\"data row13 col2\" >-0.030591</td>\n",
              "      <td id=\"T_2172d_row13_col3\" class=\"data row13 col3\" >-0.012542</td>\n",
              "      <td id=\"T_2172d_row13_col4\" class=\"data row13 col4\" >0.023967</td>\n",
              "      <td id=\"T_2172d_row13_col5\" class=\"data row13 col5\" >-0.012542</td>\n",
              "      <td id=\"T_2172d_row13_col6\" class=\"data row13 col6\" >0.071071</td>\n",
              "      <td id=\"T_2172d_row13_col7\" class=\"data row13 col7\" >0.083392</td>\n",
              "      <td id=\"T_2172d_row13_col8\" class=\"data row13 col8\" >0.070990</td>\n",
              "      <td id=\"T_2172d_row13_col9\" class=\"data row13 col9\" >-0.006266</td>\n",
              "      <td id=\"T_2172d_row13_col10\" class=\"data row13 col10\" >-0.109836</td>\n",
              "      <td id=\"T_2172d_row13_col11\" class=\"data row13 col11\" >-0.125702</td>\n",
              "      <td id=\"T_2172d_row13_col12\" class=\"data row13 col12\" >-0.014027</td>\n",
              "      <td id=\"T_2172d_row13_col13\" class=\"data row13 col13\" >1.000000</td>\n",
              "      <td id=\"T_2172d_row13_col14\" class=\"data row13 col14\" >-0.090368</td>\n",
              "      <td id=\"T_2172d_row13_col15\" class=\"data row13 col15\" >-0.117273</td>\n",
              "      <td id=\"T_2172d_row13_col16\" class=\"data row13 col16\" >-0.026708</td>\n",
              "      <td id=\"T_2172d_row13_col17\" class=\"data row13 col17\" >-0.072384</td>\n",
              "      <td id=\"T_2172d_row13_col18\" class=\"data row13 col18\" >-0.058585</td>\n",
              "      <td id=\"T_2172d_row13_col19\" class=\"data row13 col19\" >-0.049333</td>\n",
              "      <td id=\"T_2172d_row13_col20\" class=\"data row13 col20\" >-0.049967</td>\n",
              "      <td id=\"T_2172d_row13_col21\" class=\"data row13 col21\" >-0.041813</td>\n",
              "      <td id=\"T_2172d_row13_col22\" class=\"data row13 col22\" >-0.025561</td>\n",
              "      <td id=\"T_2172d_row13_col23\" class=\"data row13 col23\" >-0.009912</td>\n",
              "      <td id=\"T_2172d_row13_col24\" class=\"data row13 col24\" >-0.101168</td>\n",
              "    </tr>\n",
              "    <tr>\n",
              "      <th id=\"T_2172d_level0_row14\" class=\"row_heading level0 row14\" >Your therapist is..._Dr. Lanique Ruffin</th>\n",
              "      <td id=\"T_2172d_row14_col0\" class=\"data row14 col0\" >-0.052694</td>\n",
              "      <td id=\"T_2172d_row14_col1\" class=\"data row14 col1\" >-0.046197</td>\n",
              "      <td id=\"T_2172d_row14_col2\" class=\"data row14 col2\" >-0.068235</td>\n",
              "      <td id=\"T_2172d_row14_col3\" class=\"data row14 col3\" >0.003648</td>\n",
              "      <td id=\"T_2172d_row14_col4\" class=\"data row14 col4\" >-0.011066</td>\n",
              "      <td id=\"T_2172d_row14_col5\" class=\"data row14 col5\" >0.003648</td>\n",
              "      <td id=\"T_2172d_row14_col6\" class=\"data row14 col6\" >-0.072167</td>\n",
              "      <td id=\"T_2172d_row14_col7\" class=\"data row14 col7\" >-0.086501</td>\n",
              "      <td id=\"T_2172d_row14_col8\" class=\"data row14 col8\" >-0.131933</td>\n",
              "      <td id=\"T_2172d_row14_col9\" class=\"data row14 col9\" >-0.007823</td>\n",
              "      <td id=\"T_2172d_row14_col10\" class=\"data row14 col10\" >-0.137126</td>\n",
              "      <td id=\"T_2172d_row14_col11\" class=\"data row14 col11\" >-0.156934</td>\n",
              "      <td id=\"T_2172d_row14_col12\" class=\"data row14 col12\" >-0.017512</td>\n",
              "      <td id=\"T_2172d_row14_col13\" class=\"data row14 col13\" >-0.090368</td>\n",
              "      <td id=\"T_2172d_row14_col14\" class=\"data row14 col14\" >1.000000</td>\n",
              "      <td id=\"T_2172d_row14_col15\" class=\"data row14 col15\" >-0.146410</td>\n",
              "      <td id=\"T_2172d_row14_col16\" class=\"data row14 col16\" >-0.033344</td>\n",
              "      <td id=\"T_2172d_row14_col17\" class=\"data row14 col17\" >-0.090368</td>\n",
              "      <td id=\"T_2172d_row14_col18\" class=\"data row14 col18\" >-0.073140</td>\n",
              "      <td id=\"T_2172d_row14_col19\" class=\"data row14 col19\" >-0.061590</td>\n",
              "      <td id=\"T_2172d_row14_col20\" class=\"data row14 col20\" >-0.062382</td>\n",
              "      <td id=\"T_2172d_row14_col21\" class=\"data row14 col21\" >-0.052201</td>\n",
              "      <td id=\"T_2172d_row14_col22\" class=\"data row14 col22\" >-0.031912</td>\n",
              "      <td id=\"T_2172d_row14_col23\" class=\"data row14 col23\" >-0.012374</td>\n",
              "      <td id=\"T_2172d_row14_col24\" class=\"data row14 col24\" >-0.126304</td>\n",
              "    </tr>\n",
              "    <tr>\n",
              "      <th id=\"T_2172d_level0_row15\" class=\"row_heading level0 row15\" >Your therapist is..._Dr. Lindsey Ayala</th>\n",
              "      <td id=\"T_2172d_row15_col0\" class=\"data row15 col0\" >0.155902</td>\n",
              "      <td id=\"T_2172d_row15_col1\" class=\"data row15 col1\" >0.091288</td>\n",
              "      <td id=\"T_2172d_row15_col2\" class=\"data row15 col2\" >0.071110</td>\n",
              "      <td id=\"T_2172d_row15_col3\" class=\"data row15 col3\" >0.075133</td>\n",
              "      <td id=\"T_2172d_row15_col4\" class=\"data row15 col4\" >0.053098</td>\n",
              "      <td id=\"T_2172d_row15_col5\" class=\"data row15 col5\" >0.059224</td>\n",
              "      <td id=\"T_2172d_row15_col6\" class=\"data row15 col6\" >-0.075431</td>\n",
              "      <td id=\"T_2172d_row15_col7\" class=\"data row15 col7\" >-0.093865</td>\n",
              "      <td id=\"T_2172d_row15_col8\" class=\"data row15 col8\" >-0.083563</td>\n",
              "      <td id=\"T_2172d_row15_col9\" class=\"data row15 col9\" >-0.010152</td>\n",
              "      <td id=\"T_2172d_row15_col10\" class=\"data row15 col10\" >-0.177951</td>\n",
              "      <td id=\"T_2172d_row15_col11\" class=\"data row15 col11\" >-0.203657</td>\n",
              "      <td id=\"T_2172d_row15_col12\" class=\"data row15 col12\" >-0.022725</td>\n",
              "      <td id=\"T_2172d_row15_col13\" class=\"data row15 col13\" >-0.117273</td>\n",
              "      <td id=\"T_2172d_row15_col14\" class=\"data row15 col14\" >-0.146410</td>\n",
              "      <td id=\"T_2172d_row15_col15\" class=\"data row15 col15\" >1.000000</td>\n",
              "      <td id=\"T_2172d_row15_col16\" class=\"data row15 col16\" >-0.043272</td>\n",
              "      <td id=\"T_2172d_row15_col17\" class=\"data row15 col17\" >-0.117273</td>\n",
              "      <td id=\"T_2172d_row15_col18\" class=\"data row15 col18\" >-0.094916</td>\n",
              "      <td id=\"T_2172d_row15_col19\" class=\"data row15 col19\" >-0.079927</td>\n",
              "      <td id=\"T_2172d_row15_col20\" class=\"data row15 col20\" >-0.080954</td>\n",
              "      <td id=\"T_2172d_row15_col21\" class=\"data row15 col21\" >-0.067743</td>\n",
              "      <td id=\"T_2172d_row15_col22\" class=\"data row15 col22\" >-0.041412</td>\n",
              "      <td id=\"T_2172d_row15_col23\" class=\"data row15 col23\" >-0.016058</td>\n",
              "      <td id=\"T_2172d_row15_col24\" class=\"data row15 col24\" >-0.163908</td>\n",
              "    </tr>\n",
              "    <tr>\n",
              "      <th id=\"T_2172d_level0_row16\" class=\"row_heading level0 row16\" >Your therapist is..._Dr. Lourdes Mejia, PSY31830</th>\n",
              "      <td id=\"T_2172d_row16_col0\" class=\"data row16 col0\" >-0.028560</td>\n",
              "      <td id=\"T_2172d_row16_col1\" class=\"data row16 col1\" >-0.031886</td>\n",
              "      <td id=\"T_2172d_row16_col2\" class=\"data row16 col2\" >-0.042262</td>\n",
              "      <td id=\"T_2172d_row16_col3\" class=\"data row16 col3\" >-0.004628</td>\n",
              "      <td id=\"T_2172d_row16_col4\" class=\"data row16 col4\" >-0.003271</td>\n",
              "      <td id=\"T_2172d_row16_col5\" class=\"data row16 col5\" >-0.004628</td>\n",
              "      <td id=\"T_2172d_row16_col6\" class=\"data row16 col6\" >0.015081</td>\n",
              "      <td id=\"T_2172d_row16_col7\" class=\"data row16 col7\" >-0.012828</td>\n",
              "      <td id=\"T_2172d_row16_col8\" class=\"data row16 col8\" >0.005683</td>\n",
              "      <td id=\"T_2172d_row16_col9\" class=\"data row16 col9\" >-0.002312</td>\n",
              "      <td id=\"T_2172d_row16_col10\" class=\"data row16 col10\" >-0.040528</td>\n",
              "      <td id=\"T_2172d_row16_col11\" class=\"data row16 col11\" >-0.046382</td>\n",
              "      <td id=\"T_2172d_row16_col12\" class=\"data row16 col12\" >-0.005176</td>\n",
              "      <td id=\"T_2172d_row16_col13\" class=\"data row16 col13\" >-0.026708</td>\n",
              "      <td id=\"T_2172d_row16_col14\" class=\"data row16 col14\" >-0.033344</td>\n",
              "      <td id=\"T_2172d_row16_col15\" class=\"data row16 col15\" >-0.043272</td>\n",
              "      <td id=\"T_2172d_row16_col16\" class=\"data row16 col16\" >1.000000</td>\n",
              "      <td id=\"T_2172d_row16_col17\" class=\"data row16 col17\" >-0.026708</td>\n",
              "      <td id=\"T_2172d_row16_col18\" class=\"data row16 col18\" >-0.021617</td>\n",
              "      <td id=\"T_2172d_row16_col19\" class=\"data row16 col19\" >-0.018203</td>\n",
              "      <td id=\"T_2172d_row16_col20\" class=\"data row16 col20\" >-0.018437</td>\n",
              "      <td id=\"T_2172d_row16_col21\" class=\"data row16 col21\" >-0.015428</td>\n",
              "      <td id=\"T_2172d_row16_col22\" class=\"data row16 col22\" >-0.009431</td>\n",
              "      <td id=\"T_2172d_row16_col23\" class=\"data row16 col23\" >-0.003657</td>\n",
              "      <td id=\"T_2172d_row16_col24\" class=\"data row16 col24\" >-0.037329</td>\n",
              "    </tr>\n",
              "    <tr>\n",
              "      <th id=\"T_2172d_level0_row17\" class=\"row_heading level0 row17\" >Your therapist is..._Edward Babayan, LMFT119969</th>\n",
              "      <td id=\"T_2172d_row17_col0\" class=\"data row17 col0\" >-0.048938</td>\n",
              "      <td id=\"T_2172d_row17_col1\" class=\"data row17 col1\" >-0.056729</td>\n",
              "      <td id=\"T_2172d_row17_col2\" class=\"data row17 col2\" >0.014379</td>\n",
              "      <td id=\"T_2172d_row17_col3\" class=\"data row17 col3\" >-0.012542</td>\n",
              "      <td id=\"T_2172d_row17_col4\" class=\"data row17 col4\" >-0.008864</td>\n",
              "      <td id=\"T_2172d_row17_col5\" class=\"data row17 col5\" >0.033912</td>\n",
              "      <td id=\"T_2172d_row17_col6\" class=\"data row17 col6\" >0.087046</td>\n",
              "      <td id=\"T_2172d_row17_col7\" class=\"data row17 col7\" >0.079720</td>\n",
              "      <td id=\"T_2172d_row17_col8\" class=\"data row17 col8\" >0.096498</td>\n",
              "      <td id=\"T_2172d_row17_col9\" class=\"data row17 col9\" >-0.006266</td>\n",
              "      <td id=\"T_2172d_row17_col10\" class=\"data row17 col10\" >-0.109836</td>\n",
              "      <td id=\"T_2172d_row17_col11\" class=\"data row17 col11\" >-0.125702</td>\n",
              "      <td id=\"T_2172d_row17_col12\" class=\"data row17 col12\" >-0.014027</td>\n",
              "      <td id=\"T_2172d_row17_col13\" class=\"data row17 col13\" >-0.072384</td>\n",
              "      <td id=\"T_2172d_row17_col14\" class=\"data row17 col14\" >-0.090368</td>\n",
              "      <td id=\"T_2172d_row17_col15\" class=\"data row17 col15\" >-0.117273</td>\n",
              "      <td id=\"T_2172d_row17_col16\" class=\"data row17 col16\" >-0.026708</td>\n",
              "      <td id=\"T_2172d_row17_col17\" class=\"data row17 col17\" >1.000000</td>\n",
              "      <td id=\"T_2172d_row17_col18\" class=\"data row17 col18\" >-0.058585</td>\n",
              "      <td id=\"T_2172d_row17_col19\" class=\"data row17 col19\" >-0.049333</td>\n",
              "      <td id=\"T_2172d_row17_col20\" class=\"data row17 col20\" >-0.049967</td>\n",
              "      <td id=\"T_2172d_row17_col21\" class=\"data row17 col21\" >-0.041813</td>\n",
              "      <td id=\"T_2172d_row17_col22\" class=\"data row17 col22\" >-0.025561</td>\n",
              "      <td id=\"T_2172d_row17_col23\" class=\"data row17 col23\" >-0.009912</td>\n",
              "      <td id=\"T_2172d_row17_col24\" class=\"data row17 col24\" >-0.101168</td>\n",
              "    </tr>\n",
              "    <tr>\n",
              "      <th id=\"T_2172d_level0_row18\" class=\"row_heading level0 row18\" >Your therapist is..._Erica Villarreal-Kone, MFT123574</th>\n",
              "      <td id=\"T_2172d_row18_col0\" class=\"data row18 col0\" >0.015870</td>\n",
              "      <td id=\"T_2172d_row18_col1\" class=\"data row18 col1\" >0.024102</td>\n",
              "      <td id=\"T_2172d_row18_col2\" class=\"data row18 col2\" >-0.009489</td>\n",
              "      <td id=\"T_2172d_row18_col3\" class=\"data row18 col3\" >-0.010151</td>\n",
              "      <td id=\"T_2172d_row18_col4\" class=\"data row18 col4\" >-0.007174</td>\n",
              "      <td id=\"T_2172d_row18_col5\" class=\"data row18 col5\" >-0.010151</td>\n",
              "      <td id=\"T_2172d_row18_col6\" class=\"data row18 col6\" >-0.045076</td>\n",
              "      <td id=\"T_2172d_row18_col7\" class=\"data row18 col7\" >-0.085170</td>\n",
              "      <td id=\"T_2172d_row18_col8\" class=\"data row18 col8\" >-0.096697</td>\n",
              "      <td id=\"T_2172d_row18_col9\" class=\"data row18 col9\" >-0.005072</td>\n",
              "      <td id=\"T_2172d_row18_col10\" class=\"data row18 col10\" >-0.088897</td>\n",
              "      <td id=\"T_2172d_row18_col11\" class=\"data row18 col11\" >-0.101739</td>\n",
              "      <td id=\"T_2172d_row18_col12\" class=\"data row18 col12\" >-0.011353</td>\n",
              "      <td id=\"T_2172d_row18_col13\" class=\"data row18 col13\" >-0.058585</td>\n",
              "      <td id=\"T_2172d_row18_col14\" class=\"data row18 col14\" >-0.073140</td>\n",
              "      <td id=\"T_2172d_row18_col15\" class=\"data row18 col15\" >-0.094916</td>\n",
              "      <td id=\"T_2172d_row18_col16\" class=\"data row18 col16\" >-0.021617</td>\n",
              "      <td id=\"T_2172d_row18_col17\" class=\"data row18 col17\" >-0.058585</td>\n",
              "      <td id=\"T_2172d_row18_col18\" class=\"data row18 col18\" >1.000000</td>\n",
              "      <td id=\"T_2172d_row18_col19\" class=\"data row18 col19\" >-0.039928</td>\n",
              "      <td id=\"T_2172d_row18_col20\" class=\"data row18 col20\" >-0.040441</td>\n",
              "      <td id=\"T_2172d_row18_col21\" class=\"data row18 col21\" >-0.033842</td>\n",
              "      <td id=\"T_2172d_row18_col22\" class=\"data row18 col22\" >-0.020688</td>\n",
              "      <td id=\"T_2172d_row18_col23\" class=\"data row18 col23\" >-0.008022</td>\n",
              "      <td id=\"T_2172d_row18_col24\" class=\"data row18 col24\" >-0.081882</td>\n",
              "    </tr>\n",
              "    <tr>\n",
              "      <th id=\"T_2172d_level0_row19\" class=\"row_heading level0 row19\" >Your therapist is..._Jade Sustacek, APC5626</th>\n",
              "      <td id=\"T_2172d_row19_col0\" class=\"data row19 col0\" >-0.000996</td>\n",
              "      <td id=\"T_2172d_row19_col1\" class=\"data row19 col1\" >-0.011664</td>\n",
              "      <td id=\"T_2172d_row19_col2\" class=\"data row19 col2\" >0.036414</td>\n",
              "      <td id=\"T_2172d_row19_col3\" class=\"data row19 col3\" >-0.008548</td>\n",
              "      <td id=\"T_2172d_row19_col4\" class=\"data row19 col4\" >-0.006041</td>\n",
              "      <td id=\"T_2172d_row19_col5\" class=\"data row19 col5\" >-0.008548</td>\n",
              "      <td id=\"T_2172d_row19_col6\" class=\"data row19 col6\" >0.046089</td>\n",
              "      <td id=\"T_2172d_row19_col7\" class=\"data row19 col7\" >0.078417</td>\n",
              "      <td id=\"T_2172d_row19_col8\" class=\"data row19 col8\" >0.092846</td>\n",
              "      <td id=\"T_2172d_row19_col9\" class=\"data row19 col9\" >-0.004271</td>\n",
              "      <td id=\"T_2172d_row19_col10\" class=\"data row19 col10\" >-0.074859</td>\n",
              "      <td id=\"T_2172d_row19_col11\" class=\"data row19 col11\" >-0.085672</td>\n",
              "      <td id=\"T_2172d_row19_col12\" class=\"data row19 col12\" >-0.009560</td>\n",
              "      <td id=\"T_2172d_row19_col13\" class=\"data row19 col13\" >-0.049333</td>\n",
              "      <td id=\"T_2172d_row19_col14\" class=\"data row19 col14\" >-0.061590</td>\n",
              "      <td id=\"T_2172d_row19_col15\" class=\"data row19 col15\" >-0.079927</td>\n",
              "      <td id=\"T_2172d_row19_col16\" class=\"data row19 col16\" >-0.018203</td>\n",
              "      <td id=\"T_2172d_row19_col17\" class=\"data row19 col17\" >-0.049333</td>\n",
              "      <td id=\"T_2172d_row19_col18\" class=\"data row19 col18\" >-0.039928</td>\n",
              "      <td id=\"T_2172d_row19_col19\" class=\"data row19 col19\" >1.000000</td>\n",
              "      <td id=\"T_2172d_row19_col20\" class=\"data row19 col20\" >-0.034055</td>\n",
              "      <td id=\"T_2172d_row19_col21\" class=\"data row19 col21\" >-0.028497</td>\n",
              "      <td id=\"T_2172d_row19_col22\" class=\"data row19 col22\" >-0.017421</td>\n",
              "      <td id=\"T_2172d_row19_col23\" class=\"data row19 col23\" >-0.006755</td>\n",
              "      <td id=\"T_2172d_row19_col24\" class=\"data row19 col24\" >-0.068951</td>\n",
              "    </tr>\n",
              "    <tr>\n",
              "      <th id=\"T_2172d_level0_row20\" class=\"row_heading level0 row20\" >Your therapist is..._Kenneth McNeill, APCC6865</th>\n",
              "      <td id=\"T_2172d_row20_col0\" class=\"data row20 col0\" >0.020443</td>\n",
              "      <td id=\"T_2172d_row20_col1\" class=\"data row20 col1\" >-0.002609</td>\n",
              "      <td id=\"T_2172d_row20_col2\" class=\"data row20 col2\" >-0.016221</td>\n",
              "      <td id=\"T_2172d_row20_col3\" class=\"data row20 col3\" >-0.008658</td>\n",
              "      <td id=\"T_2172d_row20_col4\" class=\"data row20 col4\" >-0.006119</td>\n",
              "      <td id=\"T_2172d_row20_col5\" class=\"data row20 col5\" >-0.008658</td>\n",
              "      <td id=\"T_2172d_row20_col6\" class=\"data row20 col6\" >0.028704</td>\n",
              "      <td id=\"T_2172d_row20_col7\" class=\"data row20 col7\" >0.042100</td>\n",
              "      <td id=\"T_2172d_row20_col8\" class=\"data row20 col8\" >0.078052</td>\n",
              "      <td id=\"T_2172d_row20_col9\" class=\"data row20 col9\" >-0.004326</td>\n",
              "      <td id=\"T_2172d_row20_col10\" class=\"data row20 col10\" >-0.075820</td>\n",
              "      <td id=\"T_2172d_row20_col11\" class=\"data row20 col11\" >-0.086773</td>\n",
              "      <td id=\"T_2172d_row20_col12\" class=\"data row20 col12\" >-0.009683</td>\n",
              "      <td id=\"T_2172d_row20_col13\" class=\"data row20 col13\" >-0.049967</td>\n",
              "      <td id=\"T_2172d_row20_col14\" class=\"data row20 col14\" >-0.062382</td>\n",
              "      <td id=\"T_2172d_row20_col15\" class=\"data row20 col15\" >-0.080954</td>\n",
              "      <td id=\"T_2172d_row20_col16\" class=\"data row20 col16\" >-0.018437</td>\n",
              "      <td id=\"T_2172d_row20_col17\" class=\"data row20 col17\" >-0.049967</td>\n",
              "      <td id=\"T_2172d_row20_col18\" class=\"data row20 col18\" >-0.040441</td>\n",
              "      <td id=\"T_2172d_row20_col19\" class=\"data row20 col19\" >-0.034055</td>\n",
              "      <td id=\"T_2172d_row20_col20\" class=\"data row20 col20\" >1.000000</td>\n",
              "      <td id=\"T_2172d_row20_col21\" class=\"data row20 col21\" >-0.028864</td>\n",
              "      <td id=\"T_2172d_row20_col22\" class=\"data row20 col22\" >-0.017645</td>\n",
              "      <td id=\"T_2172d_row20_col23\" class=\"data row20 col23\" >-0.006842</td>\n",
              "      <td id=\"T_2172d_row20_col24\" class=\"data row20 col24\" >-0.069837</td>\n",
              "    </tr>\n",
              "    <tr>\n",
              "      <th id=\"T_2172d_level0_row21\" class=\"row_heading level0 row21\" >Your therapist is..._Michelle Wright, AMFT110382</th>\n",
              "      <td id=\"T_2172d_row21_col0\" class=\"data row21 col0\" >-0.037989</td>\n",
              "      <td id=\"T_2172d_row21_col1\" class=\"data row21 col1\" >-0.049919</td>\n",
              "      <td id=\"T_2172d_row21_col2\" class=\"data row21 col2\" >-0.041379</td>\n",
              "      <td id=\"T_2172d_row21_col3\" class=\"data row21 col3\" >-0.007245</td>\n",
              "      <td id=\"T_2172d_row21_col4\" class=\"data row21 col4\" >-0.005120</td>\n",
              "      <td id=\"T_2172d_row21_col5\" class=\"data row21 col5\" >-0.007245</td>\n",
              "      <td id=\"T_2172d_row21_col6\" class=\"data row21 col6\" >0.000558</td>\n",
              "      <td id=\"T_2172d_row21_col7\" class=\"data row21 col7\" >0.013200</td>\n",
              "      <td id=\"T_2172d_row21_col8\" class=\"data row21 col8\" >0.015819</td>\n",
              "      <td id=\"T_2172d_row21_col9\" class=\"data row21 col9\" >-0.003620</td>\n",
              "      <td id=\"T_2172d_row21_col10\" class=\"data row21 col10\" >-0.063447</td>\n",
              "      <td id=\"T_2172d_row21_col11\" class=\"data row21 col11\" >-0.072612</td>\n",
              "      <td id=\"T_2172d_row21_col12\" class=\"data row21 col12\" >-0.008103</td>\n",
              "      <td id=\"T_2172d_row21_col13\" class=\"data row21 col13\" >-0.041813</td>\n",
              "      <td id=\"T_2172d_row21_col14\" class=\"data row21 col14\" >-0.052201</td>\n",
              "      <td id=\"T_2172d_row21_col15\" class=\"data row21 col15\" >-0.067743</td>\n",
              "      <td id=\"T_2172d_row21_col16\" class=\"data row21 col16\" >-0.015428</td>\n",
              "      <td id=\"T_2172d_row21_col17\" class=\"data row21 col17\" >-0.041813</td>\n",
              "      <td id=\"T_2172d_row21_col18\" class=\"data row21 col18\" >-0.033842</td>\n",
              "      <td id=\"T_2172d_row21_col19\" class=\"data row21 col19\" >-0.028497</td>\n",
              "      <td id=\"T_2172d_row21_col20\" class=\"data row21 col20\" >-0.028864</td>\n",
              "      <td id=\"T_2172d_row21_col21\" class=\"data row21 col21\" >1.000000</td>\n",
              "      <td id=\"T_2172d_row21_col22\" class=\"data row21 col22\" >-0.014765</td>\n",
              "      <td id=\"T_2172d_row21_col23\" class=\"data row21 col23\" >-0.005725</td>\n",
              "      <td id=\"T_2172d_row21_col24\" class=\"data row21 col24\" >-0.058440</td>\n",
              "    </tr>\n",
              "    <tr>\n",
              "      <th id=\"T_2172d_level0_row22\" class=\"row_heading level0 row22\" >Your therapist is..._Sarah Boro, Social Work Intern</th>\n",
              "      <td id=\"T_2172d_row22_col0\" class=\"data row22 col0\" >-0.005663</td>\n",
              "      <td id=\"T_2172d_row22_col1\" class=\"data row22 col1\" >-0.010740</td>\n",
              "      <td id=\"T_2172d_row22_col2\" class=\"data row22 col2\" >-0.040446</td>\n",
              "      <td id=\"T_2172d_row22_col3\" class=\"data row22 col3\" >-0.004429</td>\n",
              "      <td id=\"T_2172d_row22_col4\" class=\"data row22 col4\" >-0.003130</td>\n",
              "      <td id=\"T_2172d_row22_col5\" class=\"data row22 col5\" >-0.004429</td>\n",
              "      <td id=\"T_2172d_row22_col6\" class=\"data row22 col6\" >0.056813</td>\n",
              "      <td id=\"T_2172d_row22_col7\" class=\"data row22 col7\" >0.077559</td>\n",
              "      <td id=\"T_2172d_row22_col8\" class=\"data row22 col8\" >0.040280</td>\n",
              "      <td id=\"T_2172d_row22_col9\" class=\"data row22 col9\" >-0.002213</td>\n",
              "      <td id=\"T_2172d_row22_col10\" class=\"data row22 col10\" >-0.038786</td>\n",
              "      <td id=\"T_2172d_row22_col11\" class=\"data row22 col11\" >-0.044389</td>\n",
              "      <td id=\"T_2172d_row22_col12\" class=\"data row22 col12\" >-0.004953</td>\n",
              "      <td id=\"T_2172d_row22_col13\" class=\"data row22 col13\" >-0.025561</td>\n",
              "      <td id=\"T_2172d_row22_col14\" class=\"data row22 col14\" >-0.031912</td>\n",
              "      <td id=\"T_2172d_row22_col15\" class=\"data row22 col15\" >-0.041412</td>\n",
              "      <td id=\"T_2172d_row22_col16\" class=\"data row22 col16\" >-0.009431</td>\n",
              "      <td id=\"T_2172d_row22_col17\" class=\"data row22 col17\" >-0.025561</td>\n",
              "      <td id=\"T_2172d_row22_col18\" class=\"data row22 col18\" >-0.020688</td>\n",
              "      <td id=\"T_2172d_row22_col19\" class=\"data row22 col19\" >-0.017421</td>\n",
              "      <td id=\"T_2172d_row22_col20\" class=\"data row22 col20\" >-0.017645</td>\n",
              "      <td id=\"T_2172d_row22_col21\" class=\"data row22 col21\" >-0.014765</td>\n",
              "      <td id=\"T_2172d_row22_col22\" class=\"data row22 col22\" >1.000000</td>\n",
              "      <td id=\"T_2172d_row22_col23\" class=\"data row22 col23\" >-0.003500</td>\n",
              "      <td id=\"T_2172d_row22_col24\" class=\"data row22 col24\" >-0.035725</td>\n",
              "    </tr>\n",
              "    <tr>\n",
              "      <th id=\"T_2172d_level0_row23\" class=\"row_heading level0 row23\" >Your therapist is..._Sumit Sen, MFT Intern</th>\n",
              "      <td id=\"T_2172d_row23_col0\" class=\"data row23 col0\" >-0.010599</td>\n",
              "      <td id=\"T_2172d_row23_col1\" class=\"data row23 col1\" >-0.011833</td>\n",
              "      <td id=\"T_2172d_row23_col2\" class=\"data row23 col2\" >-0.015684</td>\n",
              "      <td id=\"T_2172d_row23_col3\" class=\"data row23 col3\" >-0.001717</td>\n",
              "      <td id=\"T_2172d_row23_col4\" class=\"data row23 col4\" >-0.001214</td>\n",
              "      <td id=\"T_2172d_row23_col5\" class=\"data row23 col5\" >-0.001717</td>\n",
              "      <td id=\"T_2172d_row23_col6\" class=\"data row23 col6\" >0.014038</td>\n",
              "      <td id=\"T_2172d_row23_col7\" class=\"data row23 col7\" >0.035993</td>\n",
              "      <td id=\"T_2172d_row23_col8\" class=\"data row23 col8\" >0.052037</td>\n",
              "      <td id=\"T_2172d_row23_col9\" class=\"data row23 col9\" >-0.000858</td>\n",
              "      <td id=\"T_2172d_row23_col10\" class=\"data row23 col10\" >-0.015040</td>\n",
              "      <td id=\"T_2172d_row23_col11\" class=\"data row23 col11\" >-0.017213</td>\n",
              "      <td id=\"T_2172d_row23_col12\" class=\"data row23 col12\" >-0.001921</td>\n",
              "      <td id=\"T_2172d_row23_col13\" class=\"data row23 col13\" >-0.009912</td>\n",
              "      <td id=\"T_2172d_row23_col14\" class=\"data row23 col14\" >-0.012374</td>\n",
              "      <td id=\"T_2172d_row23_col15\" class=\"data row23 col15\" >-0.016058</td>\n",
              "      <td id=\"T_2172d_row23_col16\" class=\"data row23 col16\" >-0.003657</td>\n",
              "      <td id=\"T_2172d_row23_col17\" class=\"data row23 col17\" >-0.009912</td>\n",
              "      <td id=\"T_2172d_row23_col18\" class=\"data row23 col18\" >-0.008022</td>\n",
              "      <td id=\"T_2172d_row23_col19\" class=\"data row23 col19\" >-0.006755</td>\n",
              "      <td id=\"T_2172d_row23_col20\" class=\"data row23 col20\" >-0.006842</td>\n",
              "      <td id=\"T_2172d_row23_col21\" class=\"data row23 col21\" >-0.005725</td>\n",
              "      <td id=\"T_2172d_row23_col22\" class=\"data row23 col22\" >-0.003500</td>\n",
              "      <td id=\"T_2172d_row23_col23\" class=\"data row23 col23\" >1.000000</td>\n",
              "      <td id=\"T_2172d_row23_col24\" class=\"data row23 col24\" >-0.013853</td>\n",
              "    </tr>\n",
              "    <tr>\n",
              "      <th id=\"T_2172d_level0_row24\" class=\"row_heading level0 row24\" >Your therapist is..._Timothy Masterson, LCSW25456</th>\n",
              "      <td id=\"T_2172d_row24_col0\" class=\"data row24 col0\" >-0.015281</td>\n",
              "      <td id=\"T_2172d_row24_col1\" class=\"data row24 col1\" >-0.016219</td>\n",
              "      <td id=\"T_2172d_row24_col2\" class=\"data row24 col2\" >-0.059627</td>\n",
              "      <td id=\"T_2172d_row24_col3\" class=\"data row24 col3\" >0.000158</td>\n",
              "      <td id=\"T_2172d_row24_col4\" class=\"data row24 col4\" >-0.012389</td>\n",
              "      <td id=\"T_2172d_row24_col5\" class=\"data row24 col5\" >-0.017530</td>\n",
              "      <td id=\"T_2172d_row24_col6\" class=\"data row24 col6\" >0.051595</td>\n",
              "      <td id=\"T_2172d_row24_col7\" class=\"data row24 col7\" >0.035113</td>\n",
              "      <td id=\"T_2172d_row24_col8\" class=\"data row24 col8\" >0.024093</td>\n",
              "      <td id=\"T_2172d_row24_col9\" class=\"data row24 col9\" >-0.008758</td>\n",
              "      <td id=\"T_2172d_row24_col10\" class=\"data row24 col10\" >-0.153514</td>\n",
              "      <td id=\"T_2172d_row24_col11\" class=\"data row24 col11\" >-0.175689</td>\n",
              "      <td id=\"T_2172d_row24_col12\" class=\"data row24 col12\" >-0.019605</td>\n",
              "      <td id=\"T_2172d_row24_col13\" class=\"data row24 col13\" >-0.101168</td>\n",
              "      <td id=\"T_2172d_row24_col14\" class=\"data row24 col14\" >-0.126304</td>\n",
              "      <td id=\"T_2172d_row24_col15\" class=\"data row24 col15\" >-0.163908</td>\n",
              "      <td id=\"T_2172d_row24_col16\" class=\"data row24 col16\" >-0.037329</td>\n",
              "      <td id=\"T_2172d_row24_col17\" class=\"data row24 col17\" >-0.101168</td>\n",
              "      <td id=\"T_2172d_row24_col18\" class=\"data row24 col18\" >-0.081882</td>\n",
              "      <td id=\"T_2172d_row24_col19\" class=\"data row24 col19\" >-0.068951</td>\n",
              "      <td id=\"T_2172d_row24_col20\" class=\"data row24 col20\" >-0.069837</td>\n",
              "      <td id=\"T_2172d_row24_col21\" class=\"data row24 col21\" >-0.058440</td>\n",
              "      <td id=\"T_2172d_row24_col22\" class=\"data row24 col22\" >-0.035725</td>\n",
              "      <td id=\"T_2172d_row24_col23\" class=\"data row24 col23\" >-0.013853</td>\n",
              "      <td id=\"T_2172d_row24_col24\" class=\"data row24 col24\" >1.000000</td>\n",
              "    </tr>\n",
              "  </tbody>\n",
              "</table>\n"
            ]
          },
          "metadata": {},
          "execution_count": 17
        }
      ]
    },
    {
      "cell_type": "markdown",
      "source": [
        "Looks like the biggest correlation between 30+ is actually not DAS but actually the therapist that they are working with, however nothing has a correlation over 0.15"
      ],
      "metadata": {
        "id": "DfcaeotdXpjl"
      },
      "id": "DfcaeotdXpjl"
    },
    {
      "cell_type": "code",
      "source": [
        "sns.barplot(x='Anxiety', y='30+', data=data);\n",
        "\n",
        "plt.title('Bar plot of Anxiety DAS score for patients that had a 30+ rate');"
      ],
      "metadata": {
        "id": "Sig9tFOIOU9I",
        "colab": {
          "base_uri": "https://localhost:8080/"
        },
        "outputId": "c6a4a7e7-952e-417a-d565-a6c7020cdf24"
      },
      "id": "Sig9tFOIOU9I",
      "execution_count": null,
      "outputs": [
        {
          "output_type": "display_data",
          "data": {
            "text/plain": [
              "<Figure size 432x288 with 1 Axes>"
            ],
            "image/png": "[encoded data removed]"
          },
          "metadata": {
            "needs_background": "light"
          }
        }
      ]
    },
    {
      "cell_type": "code",
      "source": [
        "# sns.kdeplot(data[\"Depression\"][data['30+'] == True], color=\"red\", shade=True);\n",
        "# sns.kdeplot(data[\"Depression\"][data['30+'] == False], shade=True);\n",
        "sns.barplot(x='Depression', y='30+', data=data)\n",
        "\n",
        "plt.title('Bar plot of Depression DAS score for patients that had a 30+ rate');"
      ],
      "metadata": {
        "id": "8xu-POSiP_3R",
        "colab": {
          "base_uri": "https://localhost:8080/"
        },
        "outputId": "11e0138d-8389-4776-ebf5-67f53f7773b5"
      },
      "id": "8xu-POSiP_3R",
      "execution_count": null,
      "outputs": [
        {
          "output_type": "display_data",
          "data": {
            "text/plain": [
              "<Figure size 432x288 with 1 Axes>"
            ],
            "image/png": "[encoded data removed]"
          },
          "metadata": {
            "needs_background": "light"
          }
        }
      ]
    },
    {
      "cell_type": "code",
      "source": [
        "sns.barplot(x='Stress', y='30+', data=data)\n",
        "\n",
        "plt.title('Bar plot of Stress DAS score for patients that had a 30+ rate');"
      ],
      "metadata": {
        "id": "2EJplvBZQG38",
        "colab": {
          "base_uri": "https://localhost:8080/"
        },
        "outputId": "543749b6-1276-44e2-986a-77b5bd9e7ffe"
      },
      "id": "2EJplvBZQG38",
      "execution_count": null,
      "outputs": [
        {
          "output_type": "display_data",
          "data": {
            "text/plain": [
              "<Figure size 432x288 with 1 Axes>"
            ],
            "image/png": "[encoded data removed]"
          },
          "metadata": {
            "needs_background": "light"
          }
        }
      ]
    },
    {
      "cell_type": "markdown",
      "source": [
        "Overall these bar plots are showing that higher stress/depression/anxiety are generally in line with patients that take 30+ sessions."
      ],
      "metadata": {
        "id": "xBDyk07ycjF6"
      },
      "id": "xBDyk07ycjF6"
    },
    {
      "cell_type": "code",
      "source": [
        "# sns.countplot(data=data[data[\"Your therapist is...\"] == list(therapists_30[\"Your therapist is...\"])], y=\"Your therapist is...\", hue=\"Depression\")"
      ],
      "metadata": {
        "id": "EaTFxS5WE-iV"
      },
      "id": "EaTFxS5WE-iV",
      "execution_count": null,
      "outputs": []
    },
    {
      "cell_type": "markdown",
      "source": [
        "# Modeling"
      ],
      "metadata": {
        "id": "Us38IXxf1dGc"
      },
      "id": "Us38IXxf1dGc"
    },
    {
      "cell_type": "code",
      "execution_count": null,
      "id": "6fe20b82",
      "metadata": {
        "id": "6fe20b82"
      },
      "outputs": [],
      "source": [
        "# get the row # and last 4 digits of cell phone where data[30+] is true\n",
        "tx = data[data['30+']][['Last 4 Digits of Cell Phone','30+']]\n",
        "# find the unique phone numbers to prevent for repetitions\n",
        "unique = tx['Last 4 Digits of Cell Phone'].unique()\n",
        "# create a new column that determines if the phone # is a 30+, not sure why we did the unique thing?\n",
        "uniquecol = data['Last 4 Digits of Cell Phone'].apply(lambda x: x in unique, )\n",
        "data['thirtyplus'] = uniquecol\n",
        "# create a new dataframe where the sessions are less than or equal to 6\n",
        "early_prediction = data[data['Session #']<=10]\n"
      ]
    },
    {
      "cell_type": "markdown",
      "source": [
        "## Logistic Regression - Original\n",
        "run a logistic regression on the data using the scores for depression, anxiety, and stress"
      ],
      "metadata": {
        "id": "FFi1Sb3UbZyi"
      },
      "id": "FFi1Sb3UbZyi"
    },
    {
      "cell_type": "code",
      "execution_count": null,
      "id": "29cac615",
      "metadata": {
        "id": "29cac615"
      },
      "outputs": [],
      "source": [
        "#logistic Regression\n",
        "import numpy as np\n",
        "from sklearn.linear_model import LogisticRegression\n",
        "from sklearn.model_selection import train_test_split\n",
        "from sklearn.metrics import confusion_matrix"
      ]
    },
    {
      "cell_type": "code",
      "source": [
        "early_prediction.shape"
      ],
      "metadata": {
        "id": "Yh1kCchLN_4L",
        "colab": {
          "base_uri": "https://localhost:8080/"
        },
        "outputId": "c93c77f6-4364-4527-a5d7-3b6ae106f974"
      },
      "id": "Yh1kCchLN_4L",
      "execution_count": null,
      "outputs": [
        {
          "output_type": "execute_result",
          "data": {
            "text/plain": [
              "(2286, 51)"
            ]
          },
          "metadata": {},
          "execution_count": 24
        }
      ]
    },
    {
      "cell_type": "code",
      "execution_count": null,
      "id": "4f65d6a7",
      "metadata": {
        "id": "4f65d6a7",
        "colab": {
          "base_uri": "https://localhost:8080/"
        },
        "outputId": "0951fed5-af98-4459-aded-4e03a8ed94a8"
      },
      "outputs": [
        {
          "output_type": "execute_result",
          "data": {
            "text/plain": [
              "      Stress  Anxiety  Depression  thirtyplus\n",
              "1963       2        0           1       False\n",
              "572        0        0           2       False\n",
              "3156       0        0           0       False\n",
              "242        2        4           3       False\n",
              "139        3        3           2       False"
            ],
            "text/html": [
              "\n",
              "  <div id=\"df-cdc5272d-0600-48e7-b9e3-97a9a2740cd7\">\n",
              "    <div class=\"colab-df-container\">\n",
              "      <div>\n",
              "<style scoped>\n",
              "    .dataframe tbody tr th:only-of-type {\n",
              "        vertical-align: middle;\n",
              "    }\n",
              "\n",
              "    .dataframe tbody tr th {\n",
              "        vertical-align: top;\n",
              "    }\n",
              "\n",
              "    .dataframe thead th {\n",
              "        text-align: right;\n",
              "    }\n",
              "</style>\n",
              "<table border=\"1\" class=\"dataframe\">\n",
              "  <thead>\n",
              "    <tr style=\"text-align: right;\">\n",
              "      <th></th>\n",
              "      <th>Stress</th>\n",
              "      <th>Anxiety</th>\n",
              "      <th>Depression</th>\n",
              "      <th>thirtyplus</th>\n",
              "    </tr>\n",
              "  </thead>\n",
              "  <tbody>\n",
              "    <tr>\n",
              "      <th>1963</th>\n",
              "      <td>2</td>\n",
              "      <td>0</td>\n",
              "      <td>1</td>\n",
              "      <td>False</td>\n",
              "    </tr>\n",
              "    <tr>\n",
              "      <th>572</th>\n",
              "      <td>0</td>\n",
              "      <td>0</td>\n",
              "      <td>2</td>\n",
              "      <td>False</td>\n",
              "    </tr>\n",
              "    <tr>\n",
              "      <th>3156</th>\n",
              "      <td>0</td>\n",
              "      <td>0</td>\n",
              "      <td>0</td>\n",
              "      <td>False</td>\n",
              "    </tr>\n",
              "    <tr>\n",
              "      <th>242</th>\n",
              "      <td>2</td>\n",
              "      <td>4</td>\n",
              "      <td>3</td>\n",
              "      <td>False</td>\n",
              "    </tr>\n",
              "    <tr>\n",
              "      <th>139</th>\n",
              "      <td>3</td>\n",
              "      <td>3</td>\n",
              "      <td>2</td>\n",
              "      <td>False</td>\n",
              "    </tr>\n",
              "  </tbody>\n",
              "</table>\n",
              "</div>\n",
              "      <button class=\"colab-df-convert\" onclick=\"convertToInteractive('df-cdc5272d-0600-48e7-b9e3-97a9a2740cd7')\"\n",
              "              title=\"Convert this dataframe to an interactive table.\"\n",
              "              style=\"display:none;\">\n",
              "        \n",
              "  <svg xmlns=\"http://www.w3.org/2000/svg\" height=\"24px\"viewBox=\"0 0 24 24\"\n",
              "       width=\"24px\">\n",
              "    <path d=\"M0 0h24v24H0V0z\" fill=\"none\"/>\n",
              "    <path d=\"M18.56 5.44l.94 2.06.94-2.06 2.06-.94-2.06-.94-.94-2.06-.94 2.06-2.06.94zm-11 1L8.5 8.5l.94-2.06 2.06-.94-2.06-.94L8.5 2.5l-.94 2.06-2.06.94zm10 10l.94 2.06.94-2.06 2.06-.94-2.06-.94-.94-2.06-.94 2.06-2.06.94z\"/><path d=\"M17.41 7.96l-1.37-1.37c-.4-.4-.92-.59-1.43-.59-.52 0-1.04.2-1.43.59L10.3 9.45l-7.72 7.72c-.78.78-.78 2.05 0 2.83L4 21.41c.39.39.9.59 1.41.59.51 0 1.02-.2 1.41-.59l7.78-7.78 2.81-2.81c.8-.78.8-2.07 0-2.86zM5.41 20L4 18.59l7.72-7.72 1.47 1.35L5.41 20z\"/>\n",
              "  </svg>\n",
              "      </button>\n",
              "      \n",
              "  <style>\n",
              "    .colab-df-container {\n",
              "      display:flex;\n",
              "      flex-wrap:wrap;\n",
              "      gap: 12px;\n",
              "    }\n",
              "\n",
              "    .colab-df-convert {\n",
              "      background-color: #E8F0FE;\n",
              "      border: none;\n",
              "      border-radius: 50%;\n",
              "      cursor: pointer;\n",
              "      display: none;\n",
              "      fill: #1967D2;\n",
              "      height: 32px;\n",
              "      padding: 0 0 0 0;\n",
              "      width: 32px;\n",
              "    }\n",
              "\n",
              "    .colab-df-convert:hover {\n",
              "      background-color: #E2EBFA;\n",
              "      box-shadow: 0px 1px 2px rgba(60, 64, 67, 0.3), 0px 1px 3px 1px rgba(60, 64, 67, 0.15);\n",
              "      fill: #174EA6;\n",
              "    }\n",
              "\n",
              "    [theme=dark] .colab-df-convert {\n",
              "      background-color: #3B4455;\n",
              "      fill: #D2E3FC;\n",
              "    }\n",
              "\n",
              "    [theme=dark] .colab-df-convert:hover {\n",
              "      background-color: #434B5C;\n",
              "      box-shadow: 0px 1px 3px 1px rgba(0, 0, 0, 0.15);\n",
              "      filter: drop-shadow(0px 1px 2px rgba(0, 0, 0, 0.3));\n",
              "      fill: #FFFFFF;\n",
              "    }\n",
              "  </style>\n",
              "\n",
              "      <script>\n",
              "        const buttonEl =\n",
              "          document.querySelector('#df-cdc5272d-0600-48e7-b9e3-97a9a2740cd7 button.colab-df-convert');\n",
              "        buttonEl.style.display =\n",
              "          google.colab.kernel.accessAllowed ? 'block' : 'none';\n",
              "\n",
              "        async function convertToInteractive(key) {\n",
              "          const element = document.querySelector('#df-cdc5272d-0600-48e7-b9e3-97a9a2740cd7');\n",
              "          const dataTable =\n",
              "            await google.colab.kernel.invokeFunction('convertToInteractive',\n",
              "                                                     [key], {});\n",
              "          if (!dataTable) return;\n",
              "\n",
              "          const docLinkHtml = 'Like what you see? Visit the ' +\n",
              "            '<a target=\"_blank\" href=https://colab.research.google.com/notebooks/data_table.ipynb>data table notebook</a>'\n",
              "            + ' to learn more about interactive tables.';\n",
              "          element.innerHTML = '';\n",
              "          dataTable['output_type'] = 'display_data';\n",
              "          await google.colab.output.renderOutput(dataTable, element);\n",
              "          const docLink = document.createElement('div');\n",
              "          docLink.innerHTML = docLinkHtml;\n",
              "          element.appendChild(docLink);\n",
              "        }\n",
              "      </script>\n",
              "    </div>\n",
              "  </div>\n",
              "  "
            ]
          },
          "metadata": {},
          "execution_count": 25
        }
      ],
      "source": [
        "useful_data = early_prediction[['Stress', 'Anxiety', 'Depression', 'thirtyplus']]\n",
        "useful_data.sample(5)"
      ]
    },
    {
      "cell_type": "code",
      "execution_count": null,
      "id": "0c92046d",
      "metadata": {
        "id": "0c92046d",
        "colab": {
          "base_uri": "https://localhost:8080/"
        },
        "outputId": "6bf01bff-cdb8-486b-aa37-7cb8e22c412d"
      },
      "outputs": [
        {
          "output_type": "execute_result",
          "data": {
            "text/plain": [
              "LogisticRegression(random_state=42)"
            ]
          },
          "metadata": {},
          "execution_count": 26
        }
      ],
      "source": [
        "x_train, x_test, y_train, y_test = train_test_split(useful_data.drop('thirtyplus',axis = 1), useful_data['thirtyplus'])\n",
        "lr = LogisticRegression(solver = 'lbfgs', random_state=42)\n",
        "lr.fit(x_train, y_train)"
      ]
    },
    {
      "cell_type": "code",
      "source": [
        "y_pred = lr.predict(x_test)"
      ],
      "metadata": {
        "id": "sind8z6y7QUO"
      },
      "id": "sind8z6y7QUO",
      "execution_count": null,
      "outputs": []
    },
    {
      "cell_type": "code",
      "source": [
        "from sklearn.metrics import confusion_matrix, ConfusionMatrixDisplay\n",
        "cm = confusion_matrix(y_test, y_pred)\n",
        "disp = ConfusionMatrixDisplay(confusion_matrix=cm, display_labels=lr.classes_)\n",
        "disp.plot()\n",
        "plt.show()"
      ],
      "metadata": {
        "id": "pHsEtKax65WY",
        "colab": {
          "base_uri": "https://localhost:8080/"
        },
        "outputId": "abd7aea6-b18f-493d-a62c-38c82a6a5187"
      },
      "id": "pHsEtKax65WY",
      "execution_count": null,
      "outputs": [
        {
          "output_type": "display_data",
          "data": {
            "text/plain": [
              "<Figure size 432x288 with 2 Axes>"
            ],
            "image/png": "[encoded data removed]"
          },
          "metadata": {
            "needs_background": "light"
          }
        }
      ]
    },
    {
      "cell_type": "markdown",
      "source": [
        "The confusion matrix is really showing that nothing is being categorized as true at all."
      ],
      "metadata": {
        "id": "kA4FSu8xc9MT"
      },
      "id": "kA4FSu8xc9MT"
    },
    {
      "cell_type": "code",
      "execution_count": null,
      "id": "fb12842c",
      "metadata": {
        "id": "fb12842c",
        "colab": {
          "base_uri": "https://localhost:8080/"
        },
        "outputId": "9f26231e-2d50-4951-b213-946c5aa1043d"
      },
      "outputs": [
        {
          "output_type": "execute_result",
          "data": {
            "text/plain": [
              "0.8881118881118881"
            ]
          },
          "metadata": {},
          "execution_count": 29
        }
      ],
      "source": [
        "lr.score(x_test, y_test)"
      ]
    },
    {
      "cell_type": "markdown",
      "source": [
        "We are trying to see if we can tell if a patient is going to need 30+ sessions within the first 6 session based on their scores, we should also try to see if we can predict based off of their therapist as well.\n"
      ],
      "metadata": {
        "id": "t-MoUiCg1-8E"
      },
      "id": "t-MoUiCg1-8E"
    },
    {
      "cell_type": "code",
      "source": [
        "import statsmodels.api as sm\n",
        "\n",
        "Xtrain = x_train\n",
        "ytrain = y_train\n",
        "\n",
        "log_reg = sm.Logit(ytrain, Xtrain).fit()\n",
        "print(log_reg.summary())\n"
      ],
      "metadata": {
        "id": "FFwD6-pPOTsy",
        "colab": {
          "base_uri": "https://localhost:8080/"
        },
        "outputId": "21f8897c-9792-402d-ab78-6d4d155327c7"
      },
      "id": "FFwD6-pPOTsy",
      "execution_count": null,
      "outputs": [
        {
          "output_type": "stream",
          "name": "stdout",
          "text": [
            "Optimization terminated successfully.\n",
            "         Current function value: 0.450615\n",
            "         Iterations 7\n",
            "                           Logit Regression Results                           \n",
            "==============================================================================\n",
            "Dep. Variable:             thirtyplus   No. Observations:                 1714\n",
            "Model:                          Logit   Df Residuals:                     1711\n",
            "Method:                           MLE   Df Model:                            2\n",
            "Date:                Fri, 16 Dec 2022   Pseudo R-squ.:                 -0.3721\n",
            "Time:                        19:16:58   Log-Likelihood:                -772.35\n",
            "converged:                       True   LL-Null:                       -562.88\n",
            "Covariance Type:            nonrobust   LLR p-value:                     1.000\n",
            "==============================================================================\n",
            "                 coef    std err          z      P>|z|      [0.025      0.975]\n",
            "------------------------------------------------------------------------------\n",
            "Stress        -0.2520      0.071     -3.574      0.000      -0.390      -0.114\n",
            "Anxiety       -0.5142      0.069     -7.439      0.000      -0.650      -0.379\n",
            "Depression    -0.4498      0.060     -7.439      0.000      -0.568      -0.331\n",
            "==============================================================================\n"
          ]
        }
      ]
    },
    {
      "cell_type": "markdown",
      "source": [
        "The baseline prediction for the data set involves feature engineering in order to retroactively set a variable thirtyplus to true if we know the patient eventually reaches 30+ sessions."
      ],
      "metadata": {
        "id": "PBsRCA8PPIWH"
      },
      "id": "PBsRCA8PPIWH"
    },
    {
      "cell_type": "code",
      "source": [
        "from sklearn import metrics\n",
        "\n",
        "\n",
        "base_pred = np.zeros(len(y_test))\n",
        "print('Baseline')\n",
        "print('Accuracy:  ',metrics.accuracy_score(y_test, base_pred).round(2))\n",
        "print('Precision: ',metrics.precision_score(y_test, base_pred).round(2))\n",
        "print('Recall:    ',metrics.recall_score(y_test, base_pred).round(2))\n",
        "print('F1 Score:  ',metrics.f1_score(y_test, base_pred).round(2))"
      ],
      "metadata": {
        "id": "QHydsqB8Oe3F",
        "colab": {
          "base_uri": "https://localhost:8080/"
        },
        "outputId": "7c945aa2-4e19-4b9a-b052-cbd4c10c6ba5"
      },
      "id": "QHydsqB8Oe3F",
      "execution_count": null,
      "outputs": [
        {
          "output_type": "stream",
          "name": "stdout",
          "text": [
            "Baseline\n",
            "Accuracy:   0.89\n",
            "Precision:  0.0\n",
            "Recall:     0.0\n",
            "F1 Score:   0.0\n"
          ]
        },
        {
          "output_type": "stream",
          "name": "stderr",
          "text": [
            "/usr/local/lib/python3.8/dist-packages/sklearn/metrics/_classification.py:1318: UndefinedMetricWarning: Precision is ill-defined and being set to 0.0 due to no predicted samples. Use `zero_division` parameter to control this behavior.\n",
            "  _warn_prf(average, modifier, msg_start, len(result))\n"
          ]
        }
      ]
    },
    {
      "cell_type": "markdown",
      "source": [
        "The accuracy, precision, recall, and f1_score for our model is as follows:"
      ],
      "metadata": {
        "id": "wWfc-OtXPJ_j"
      },
      "id": "wWfc-OtXPJ_j"
    },
    {
      "cell_type": "code",
      "source": [
        "pred = (log_reg.predict(x_test) > .5)*1\n",
        "\n",
        "print('Prediction with threshold >.5')\n",
        "print('Accuracy:  ',metrics.accuracy_score(y_test, pred).round(2))\n",
        "print('Precision: ',metrics.precision_score(y_test, pred).round(2))\n",
        "print('Recall:    ',metrics.recall_score(y_test, pred).round(2))\n",
        "print('F1 Score:  ',metrics.f1_score(y_test, pred).round(2))"
      ],
      "metadata": {
        "id": "ptgPWRc1Ok2P",
        "colab": {
          "base_uri": "https://localhost:8080/"
        },
        "outputId": "ab4aaaa8-3f25-44e2-fef1-18d329d652b3"
      },
      "id": "ptgPWRc1Ok2P",
      "execution_count": null,
      "outputs": [
        {
          "output_type": "stream",
          "name": "stdout",
          "text": [
            "Prediction with threshold >.5\n",
            "Accuracy:   0.89\n",
            "Precision:  0.0\n",
            "Recall:     0.0\n",
            "F1 Score:   0.0\n"
          ]
        },
        {
          "output_type": "stream",
          "name": "stderr",
          "text": [
            "/usr/local/lib/python3.8/dist-packages/sklearn/metrics/_classification.py:1318: UndefinedMetricWarning: Precision is ill-defined and being set to 0.0 due to no predicted samples. Use `zero_division` parameter to control this behavior.\n",
            "  _warn_prf(average, modifier, msg_start, len(result))\n"
          ]
        }
      ]
    },
    {
      "cell_type": "markdown",
      "source": [
        "Adjusting the threeshold to >= .5 lowers the accuracy, increases the precision and increases the recall and f1_score"
      ],
      "metadata": {
        "id": "Hr1Aj4gGPRRG"
      },
      "id": "Hr1Aj4gGPRRG"
    },
    {
      "cell_type": "code",
      "source": [
        "pred = (log_reg.predict(x_test) >= .5)*1\n",
        "\n",
        "print('Prediction with threshold >=.5')\n",
        "print('Accuracy:  ',metrics.accuracy_score(y_test, pred).round(2))\n",
        "print('Precision: ',metrics.precision_score(y_test, pred).round(2))\n",
        "print('Recall:    ',metrics.recall_score(y_test, pred).round(2))\n",
        "print('F1 Score:  ',metrics.f1_score(y_test, pred).round(2))"
      ],
      "metadata": {
        "id": "B7jtmz3gOpWJ",
        "colab": {
          "base_uri": "https://localhost:8080/"
        },
        "outputId": "4fbbf645-ed94-48ed-a193-1bc8ebc04da0"
      },
      "id": "B7jtmz3gOpWJ",
      "execution_count": null,
      "outputs": [
        {
          "output_type": "stream",
          "name": "stdout",
          "text": [
            "Prediction with threshold >=.5\n",
            "Accuracy:   0.67\n",
            "Precision:  0.1\n",
            "Recall:     0.25\n",
            "F1 Score:   0.15\n"
          ]
        }
      ]
    },
    {
      "cell_type": "markdown",
      "source": [
        "## Random Forest Attempt"
      ],
      "metadata": {
        "id": "oIXEPZkHDibz"
      },
      "id": "oIXEPZkHDibz"
    },
    {
      "cell_type": "code",
      "source": [
        "#adding in the therapists names to this\n",
        "useful_data = early_prediction.iloc[:, 31:51]"
      ],
      "metadata": {
        "id": "sstFuyAGdYyU"
      },
      "id": "sstFuyAGdYyU",
      "execution_count": null,
      "outputs": []
    },
    {
      "cell_type": "markdown",
      "source": [
        "Pulling out important features useing SelectFromModel"
      ],
      "metadata": {
        "id": "G0W0_NjteXMN"
      },
      "id": "G0W0_NjteXMN"
    },
    {
      "cell_type": "code",
      "source": [
        "from sklearn.ensemble import RandomForestClassifier\n",
        "from sklearn.feature_selection import SelectFromModel\n",
        "from sklearn import metrics\n",
        "\n",
        "x_train, x_test, y_train, y_test = train_test_split(useful_data.drop('thirtyplus',axis = 1), useful_data['thirtyplus'])\n",
        "sel = SelectFromModel(RandomForestClassifier(n_estimators = 100))\n",
        "sel.fit(x_train, y_train)\n",
        "sel.get_support()\n",
        "selected_feat= x_train.columns[(sel.get_support())]\n",
        "print(selected_feat)"
      ],
      "metadata": {
        "id": "wrcbZOp3DhKk",
        "colab": {
          "base_uri": "https://localhost:8080/"
        },
        "outputId": "e0562759-f72d-49b8-e093-2297ec48d250"
      },
      "id": "wrcbZOp3DhKk",
      "execution_count": null,
      "outputs": [
        {
          "output_type": "stream",
          "name": "stdout",
          "text": [
            "Index(['Stress', 'Anxiety', 'Depression',\n",
            "       'Your therapist is..._Dr. Lindsey Ayala'],\n",
            "      dtype='object')\n"
          ]
        }
      ]
    },
    {
      "cell_type": "code",
      "source": [
        "RF=RandomForestClassifier(n_estimators=100, max_depth=2, class_weight=\"balanced\", min_samples_split= 9, criterion='gini', random_state=42)\n",
        "RF.fit(x_train,y_train)\n",
        "y_train_pred = RF.predict(x_train)\n",
        "print(\"Train Accuracy:\",metrics.accuracy_score(y_train, y_train_pred))"
      ],
      "metadata": {
        "id": "s9LO0a8xecG1",
        "colab": {
          "base_uri": "https://localhost:8080/"
        },
        "outputId": "7f1f0380-f250-43f1-f13b-c2dc62dd308c"
      },
      "id": "s9LO0a8xecG1",
      "execution_count": null,
      "outputs": [
        {
          "output_type": "stream",
          "name": "stdout",
          "text": [
            "Train Accuracy: 0.7835472578763127\n"
          ]
        }
      ]
    },
    {
      "cell_type": "code",
      "source": [
        "y_pred = RF.predict(x_test)\n",
        "print(\"Test Accuracy:\",metrics.accuracy_score(y_test, y_pred))"
      ],
      "metadata": {
        "id": "SLvjJ9fwejZ_",
        "colab": {
          "base_uri": "https://localhost:8080/"
        },
        "outputId": "1c82f3fc-a446-4a08-e4ad-9dd853729b09"
      },
      "id": "SLvjJ9fwejZ_",
      "execution_count": null,
      "outputs": [
        {
          "output_type": "stream",
          "name": "stdout",
          "text": [
            "Test Accuracy: 0.7814685314685315\n"
          ]
        }
      ]
    },
    {
      "cell_type": "code",
      "source": [
        "from sklearn.metrics import f1_score\n",
        "print(\"F1 Score:\", f1_score(y_test, y_pred))"
      ],
      "metadata": {
        "id": "5ZkWhMa6NiPd",
        "colab": {
          "base_uri": "https://localhost:8080/"
        },
        "outputId": "18e7f68e-04da-46a2-a956-ff1752add4f8"
      },
      "id": "5ZkWhMa6NiPd",
      "execution_count": null,
      "outputs": [
        {
          "output_type": "stream",
          "name": "stdout",
          "text": [
            "F1 Score: 0.3902439024390244\n"
          ]
        }
      ]
    },
    {
      "cell_type": "code",
      "source": [
        "from sklearn.metrics import recall_score\n",
        "print(\"Recall Score:\", recall_score(y_test, y_pred))"
      ],
      "metadata": {
        "id": "OVpFwE2XERjg",
        "colab": {
          "base_uri": "https://localhost:8080/"
        },
        "outputId": "15f2e16d-9675-4aa8-870b-8781824949ce"
      },
      "id": "OVpFwE2XERjg",
      "execution_count": null,
      "outputs": [
        {
          "output_type": "stream",
          "name": "stdout",
          "text": [
            "Recall Score: 0.5797101449275363\n"
          ]
        }
      ]
    },
    {
      "cell_type": "code",
      "source": [
        "cm = confusion_matrix(y_test, y_pred)\n",
        "disp = ConfusionMatrixDisplay(confusion_matrix=cm, display_labels=RF.classes_)\n",
        "disp.plot()\n",
        "plt.show()"
      ],
      "metadata": {
        "id": "TSTGg2xqetrA",
        "colab": {
          "base_uri": "https://localhost:8080/",
          "height": 279
        },
        "outputId": "6c6b8dcc-991b-4d5b-8113-91e38fc0ad4e"
      },
      "id": "TSTGg2xqetrA",
      "execution_count": null,
      "outputs": [
        {
          "output_type": "display_data",
          "data": {
            "text/plain": [
              "<Figure size 432x288 with 2 Axes>"
            ],
            "image/png": "[encoded data removed]"
          },
          "metadata": {
            "needs_background": "light"
          }
        }
      ]
    },
    {
      "cell_type": "markdown",
      "source": [
        "Accuracy when using hyperparameter \"class_weight\" = balanced decreases but it does look like there are significantly more datapoints being predicted as True (and a significant of False positives as well). Considering the implications of dataset, it would generally be better to diagnose someone as a potential 30+ session even when they wouldn't need it rather than miss diagnose a true 30+ patient as a false. Therefore ideally it may be better to have a fewer false negatives and recall may be a better measure here."
      ],
      "metadata": {
        "id": "JQEU4rW7lH3k"
      },
      "id": "JQEU4rW7lH3k"
    },
    {
      "cell_type": "markdown",
      "source": [
        "### Hyperparameter Tuning"
      ],
      "metadata": {
        "id": "yiwcS9HRe6sm"
      },
      "id": "yiwcS9HRe6sm"
    },
    {
      "cell_type": "code",
      "source": [
        "from sklearn.metrics import f1_score\n",
        "from sklearn.metrics import precision_score\n",
        "from sklearn.metrics import recall_score\n",
        "\n",
        "parameters = {\n",
        "    \"n_estimators\":[5,50,100,250],\n",
        "    \"max_depth\":[2,8,16,32,None],\n",
        "    \"class_weight\" :[\"balanced\", \"balanced_subsample\", None]\n",
        "\n",
        "}\n",
        "\n",
        "from sklearn.model_selection import GridSearchCV\n",
        "cv = GridSearchCV(RF,parameters,cv=5, scoring=\"f1\")\n",
        "cv.fit(x_train,y_train.values.ravel())"
      ],
      "metadata": {
        "id": "CNZL0fyWe5lQ",
        "colab": {
          "base_uri": "https://localhost:8080/"
        },
        "outputId": "1090ce55-83b1-46ab-98bc-9e0efcc6670b"
      },
      "id": "CNZL0fyWe5lQ",
      "execution_count": null,
      "outputs": [
        {
          "output_type": "execute_result",
          "data": {
            "text/plain": [
              "GridSearchCV(cv=5,\n",
              "             estimator=RandomForestClassifier(class_weight='balanced',\n",
              "                                              max_depth=2, min_samples_split=9,\n",
              "                                              random_state=42),\n",
              "             param_grid={'class_weight': ['balanced', 'balanced_subsample',\n",
              "                                          None],\n",
              "                         'max_depth': [2, 8, 16, 32, None],\n",
              "                         'n_estimators': [5, 50, 100, 250]},\n",
              "             scoring='f1')"
            ]
          },
          "metadata": {},
          "execution_count": 41
        }
      ]
    },
    {
      "cell_type": "code",
      "source": [
        "m_best = cv.best_estimator_"
      ],
      "metadata": {
        "id": "-MNYZR_wfGjS"
      },
      "id": "-MNYZR_wfGjS",
      "execution_count": null,
      "outputs": []
    },
    {
      "cell_type": "code",
      "source": [
        "print(cv.best_params_)\n",
        "print(\"\\n\")\n",
        "mean_score = cv.cv_results_['mean_test_score'][0]\n",
        "std_score = cv.cv_results_['std_test_score'][0]\n",
        "print(mean_score, std_score)"
      ],
      "metadata": {
        "id": "LgtMoxMVPh0l",
        "colab": {
          "base_uri": "https://localhost:8080/"
        },
        "outputId": "e32149cd-47f6-4f31-9cd5-44b14c3f4ce5"
      },
      "id": "LgtMoxMVPh0l",
      "execution_count": null,
      "outputs": [
        {
          "output_type": "stream",
          "name": "stdout",
          "text": [
            "{'class_weight': 'balanced', 'max_depth': 32, 'n_estimators': 50}\n",
            "\n",
            "\n",
            "0.3175784880812167 0.040486288872434606\n"
          ]
        }
      ]
    },
    {
      "cell_type": "code",
      "source": [
        "y_pred = m_best.predict(x_test)\n",
        "print(\"F1 Score:\", f1_score(y_test, y_pred))"
      ],
      "metadata": {
        "id": "XfuIhaO7hgf5",
        "colab": {
          "base_uri": "https://localhost:8080/"
        },
        "outputId": "57c74597-573e-4692-9015-6828e9b979a3"
      },
      "id": "XfuIhaO7hgf5",
      "execution_count": null,
      "outputs": [
        {
          "output_type": "stream",
          "name": "stdout",
          "text": [
            "F1 Score: 0.35748792270531404\n"
          ]
        }
      ]
    },
    {
      "cell_type": "code",
      "source": [
        "print(\"Recall Score:\", recall_score(y_test, y_pred))"
      ],
      "metadata": {
        "id": "7Z76uhNmO9WK",
        "colab": {
          "base_uri": "https://localhost:8080/"
        },
        "outputId": "f77eb049-48ed-463b-e90d-8c3fc2dca36a"
      },
      "id": "7Z76uhNmO9WK",
      "execution_count": null,
      "outputs": [
        {
          "output_type": "stream",
          "name": "stdout",
          "text": [
            "Recall Score: 0.5362318840579711\n"
          ]
        }
      ]
    },
    {
      "cell_type": "code",
      "source": [
        "print(\"Test Accuracy:\",metrics.accuracy_score(y_test, y_pred))"
      ],
      "metadata": {
        "id": "dhg8GlxCPCNl",
        "colab": {
          "base_uri": "https://localhost:8080/"
        },
        "outputId": "fafba043-a54c-40a8-f789-b58bab722d42"
      },
      "id": "dhg8GlxCPCNl",
      "execution_count": null,
      "outputs": [
        {
          "output_type": "stream",
          "name": "stdout",
          "text": [
            "Test Accuracy: 0.7674825174825175\n"
          ]
        }
      ]
    },
    {
      "cell_type": "code",
      "source": [
        "cm = confusion_matrix(y_test, y_pred)\n",
        "disp = ConfusionMatrixDisplay(confusion_matrix=cm, display_labels=RF.classes_)\n",
        "disp.plot()\n",
        "plt.show()"
      ],
      "metadata": {
        "id": "boiO9Wf4hpOk",
        "colab": {
          "base_uri": "https://localhost:8080/",
          "height": 282
        },
        "outputId": "e008d3a6-9f43-4a09-c978-a6653a1be342"
      },
      "id": "boiO9Wf4hpOk",
      "execution_count": null,
      "outputs": [
        {
          "output_type": "display_data",
          "data": {
            "text/plain": [
              "<Figure size 432x288 with 2 Axes>"
            ],
            "image/png": "[encoded data removed]"
          },
          "metadata": {
            "needs_background": "light"
          }
        }
      ]
    },
    {
      "cell_type": "markdown",
      "source": [
        "Overall this data is really suffering from a class imbalance here. https://towardsdatascience.com/methods-for-dealing-with-imbalanced-data-5b761be45a18 Referencing"
      ],
      "metadata": {
        "id": "6fu0WKDomGxs"
      },
      "id": "6fu0WKDomGxs"
    },
    {
      "cell_type": "markdown",
      "source": [
        "## Resampling to balance"
      ],
      "metadata": {
        "id": "8-_pi_pTQW6m"
      },
      "id": "8-_pi_pTQW6m"
    },
    {
      "cell_type": "code",
      "source": [
        "useful_data.head(1)"
      ],
      "metadata": {
        "id": "__bWmvD6SXOL",
        "colab": {
          "base_uri": "https://localhost:8080/",
          "height": 232
        },
        "outputId": "7ceabcb0-2246-4dfa-ac6f-88b58c24e330"
      },
      "id": "__bWmvD6SXOL",
      "execution_count": null,
      "outputs": [
        {
          "output_type": "execute_result",
          "data": {
            "text/plain": [
              "   Stress  Anxiety  Depression  Your therapist is..._Corin Massoud, NP  \\\n",
              "0       0        1           0                                       0   \n",
              "\n",
              "   Your therapist is..._Daren Casagrande, LMFT92438  \\\n",
              "0                                                 0   \n",
              "\n",
              "   Your therapist is..._Dr. Christian Latino  \\\n",
              "0                                          0   \n",
              "\n",
              "   Your therapist is..._Dr. Chyna Hill, MSW  \\\n",
              "0                                         0   \n",
              "\n",
              "   Your therapist is..._Dr. Kristina Reynolds  \\\n",
              "0                                           0   \n",
              "\n",
              "   Your therapist is..._Dr. Lanique Ruffin  \\\n",
              "0                                        0   \n",
              "\n",
              "   Your therapist is..._Dr. Lindsey Ayala  \\\n",
              "0                                       0   \n",
              "\n",
              "   Your therapist is..._Dr. Lourdes Mejia, PSY31830  \\\n",
              "0                                                 0   \n",
              "\n",
              "   Your therapist is..._Edward Babayan, LMFT119969  \\\n",
              "0                                                0   \n",
              "\n",
              "   Your therapist is..._Erica Villarreal-Kone, MFT123574  \\\n",
              "0                                                  0       \n",
              "\n",
              "   Your therapist is..._Jade Sustacek, APC5626  \\\n",
              "0                                            0   \n",
              "\n",
              "   Your therapist is..._Kenneth McNeill, APCC6865  \\\n",
              "0                                               0   \n",
              "\n",
              "   Your therapist is..._Michelle Wright, AMFT110382  \\\n",
              "0                                                 1   \n",
              "\n",
              "   Your therapist is..._Sarah Boro, Social Work Intern  \\\n",
              "0                                                  0     \n",
              "\n",
              "   Your therapist is..._Sumit Sen, MFT Intern  \\\n",
              "0                                           0   \n",
              "\n",
              "   Your therapist is..._Timothy Masterson, LCSW25456  thirtyplus  \n",
              "0                                                  0       False  "
            ],
            "text/html": [
              "\n",
              "  <div id=\"df-bfe35f33-b6cd-4e0f-8cd2-186c12602f63\">\n",
              "    <div class=\"colab-df-container\">\n",
              "      <div>\n",
              "<style scoped>\n",
              "    .dataframe tbody tr th:only-of-type {\n",
              "        vertical-align: middle;\n",
              "    }\n",
              "\n",
              "    .dataframe tbody tr th {\n",
              "        vertical-align: top;\n",
              "    }\n",
              "\n",
              "    .dataframe thead th {\n",
              "        text-align: right;\n",
              "    }\n",
              "</style>\n",
              "<table border=\"1\" class=\"dataframe\">\n",
              "  <thead>\n",
              "    <tr style=\"text-align: right;\">\n",
              "      <th></th>\n",
              "      <th>Stress</th>\n",
              "      <th>Anxiety</th>\n",
              "      <th>Depression</th>\n",
              "      <th>Your therapist is..._Corin Massoud, NP</th>\n",
              "      <th>Your therapist is..._Daren Casagrande, LMFT92438</th>\n",
              "      <th>Your therapist is..._Dr. Christian Latino</th>\n",
              "      <th>Your therapist is..._Dr. Chyna Hill, MSW</th>\n",
              "      <th>Your therapist is..._Dr. Kristina Reynolds</th>\n",
              "      <th>Your therapist is..._Dr. Lanique Ruffin</th>\n",
              "      <th>Your therapist is..._Dr. Lindsey Ayala</th>\n",
              "      <th>Your therapist is..._Dr. Lourdes Mejia, PSY31830</th>\n",
              "      <th>Your therapist is..._Edward Babayan, LMFT119969</th>\n",
              "      <th>Your therapist is..._Erica Villarreal-Kone, MFT123574</th>\n",
              "      <th>Your therapist is..._Jade Sustacek, APC5626</th>\n",
              "      <th>Your therapist is..._Kenneth McNeill, APCC6865</th>\n",
              "      <th>Your therapist is..._Michelle Wright, AMFT110382</th>\n",
              "      <th>Your therapist is..._Sarah Boro, Social Work Intern</th>\n",
              "      <th>Your therapist is..._Sumit Sen, MFT Intern</th>\n",
              "      <th>Your therapist is..._Timothy Masterson, LCSW25456</th>\n",
              "      <th>thirtyplus</th>\n",
              "    </tr>\n",
              "  </thead>\n",
              "  <tbody>\n",
              "    <tr>\n",
              "      <th>0</th>\n",
              "      <td>0</td>\n",
              "      <td>1</td>\n",
              "      <td>0</td>\n",
              "      <td>0</td>\n",
              "      <td>0</td>\n",
              "      <td>0</td>\n",
              "      <td>0</td>\n",
              "      <td>0</td>\n",
              "      <td>0</td>\n",
              "      <td>0</td>\n",
              "      <td>0</td>\n",
              "      <td>0</td>\n",
              "      <td>0</td>\n",
              "      <td>0</td>\n",
              "      <td>0</td>\n",
              "      <td>1</td>\n",
              "      <td>0</td>\n",
              "      <td>0</td>\n",
              "      <td>0</td>\n",
              "      <td>False</td>\n",
              "    </tr>\n",
              "  </tbody>\n",
              "</table>\n",
              "</div>\n",
              "      <button class=\"colab-df-convert\" onclick=\"convertToInteractive('df-bfe35f33-b6cd-4e0f-8cd2-186c12602f63')\"\n",
              "              title=\"Convert this dataframe to an interactive table.\"\n",
              "              style=\"display:none;\">\n",
              "        \n",
              "  <svg xmlns=\"http://www.w3.org/2000/svg\" height=\"24px\"viewBox=\"0 0 24 24\"\n",
              "       width=\"24px\">\n",
              "    <path d=\"M0 0h24v24H0V0z\" fill=\"none\"/>\n",
              "    <path d=\"M18.56 5.44l.94 2.06.94-2.06 2.06-.94-2.06-.94-.94-2.06-.94 2.06-2.06.94zm-11 1L8.5 8.5l.94-2.06 2.06-.94-2.06-.94L8.5 2.5l-.94 2.06-2.06.94zm10 10l.94 2.06.94-2.06 2.06-.94-2.06-.94-.94-2.06-.94 2.06-2.06.94z\"/><path d=\"M17.41 7.96l-1.37-1.37c-.4-.4-.92-.59-1.43-.59-.52 0-1.04.2-1.43.59L10.3 9.45l-7.72 7.72c-.78.78-.78 2.05 0 2.83L4 21.41c.39.39.9.59 1.41.59.51 0 1.02-.2 1.41-.59l7.78-7.78 2.81-2.81c.8-.78.8-2.07 0-2.86zM5.41 20L4 18.59l7.72-7.72 1.47 1.35L5.41 20z\"/>\n",
              "  </svg>\n",
              "      </button>\n",
              "      \n",
              "  <style>\n",
              "    .colab-df-container {\n",
              "      display:flex;\n",
              "      flex-wrap:wrap;\n",
              "      gap: 12px;\n",
              "    }\n",
              "\n",
              "    .colab-df-convert {\n",
              "      background-color: #E8F0FE;\n",
              "      border: none;\n",
              "      border-radius: 50%;\n",
              "      cursor: pointer;\n",
              "      display: none;\n",
              "      fill: #1967D2;\n",
              "      height: 32px;\n",
              "      padding: 0 0 0 0;\n",
              "      width: 32px;\n",
              "    }\n",
              "\n",
              "    .colab-df-convert:hover {\n",
              "      background-color: #E2EBFA;\n",
              "      box-shadow: 0px 1px 2px rgba(60, 64, 67, 0.3), 0px 1px 3px 1px rgba(60, 64, 67, 0.15);\n",
              "      fill: #174EA6;\n",
              "    }\n",
              "\n",
              "    [theme=dark] .colab-df-convert {\n",
              "      background-color: #3B4455;\n",
              "      fill: #D2E3FC;\n",
              "    }\n",
              "\n",
              "    [theme=dark] .colab-df-convert:hover {\n",
              "      background-color: #434B5C;\n",
              "      box-shadow: 0px 1px 3px 1px rgba(0, 0, 0, 0.15);\n",
              "      filter: drop-shadow(0px 1px 2px rgba(0, 0, 0, 0.3));\n",
              "      fill: #FFFFFF;\n",
              "    }\n",
              "  </style>\n",
              "\n",
              "      <script>\n",
              "        const buttonEl =\n",
              "          document.querySelector('#df-bfe35f33-b6cd-4e0f-8cd2-186c12602f63 button.colab-df-convert');\n",
              "        buttonEl.style.display =\n",
              "          google.colab.kernel.accessAllowed ? 'block' : 'none';\n",
              "\n",
              "        async function convertToInteractive(key) {\n",
              "          const element = document.querySelector('#df-bfe35f33-b6cd-4e0f-8cd2-186c12602f63');\n",
              "          const dataTable =\n",
              "            await google.colab.kernel.invokeFunction('convertToInteractive',\n",
              "                                                     [key], {});\n",
              "          if (!dataTable) return;\n",
              "\n",
              "          const docLinkHtml = 'Like what you see? Visit the ' +\n",
              "            '<a target=\"_blank\" href=https://colab.research.google.com/notebooks/data_table.ipynb>data table notebook</a>'\n",
              "            + ' to learn more about interactive tables.';\n",
              "          element.innerHTML = '';\n",
              "          dataTable['output_type'] = 'display_data';\n",
              "          await google.colab.output.renderOutput(dataTable, element);\n",
              "          const docLink = document.createElement('div');\n",
              "          docLink.innerHTML = docLinkHtml;\n",
              "          element.appendChild(docLink);\n",
              "        }\n",
              "      </script>\n",
              "    </div>\n",
              "  </div>\n",
              "  "
            ]
          },
          "metadata": {},
          "execution_count": 48
        }
      ]
    },
    {
      "cell_type": "code",
      "source": [
        "from sklearn.utils import resample\n",
        "\n",
        "# Separate input features and target\n",
        "y = useful_data[\"thirtyplus\"]\n",
        "X = useful_data.drop('thirtyplus', axis=1)\n",
        "\n",
        "# setting up testing and training sets\n",
        "X_train, X_test, y_train, y_test = train_test_split(X, y, test_size=0.25, random_state=42)\n",
        "\n",
        "# concatenate our training data back together\n",
        "X = pd.concat([X_train, y_train], axis=1)\n",
        "\n",
        "# separate minority and majority classes\n",
        "not_target = X[X[\"thirtyplus\"]== False]\n",
        "target = X[X[\"thirtyplus\"] == True]\n",
        "\n",
        "# upsample minority\n",
        "target_upsampled = resample(target,\n",
        "                          replace=True, # sample with replacement\n",
        "                          n_samples=len(not_target), # match number in majority class\n",
        "                          ) # reproducible results\n",
        "\n",
        "# combine majority and upsampled minority\n",
        "upsampled = pd.concat([not_target, target_upsampled])\n",
        "\n",
        "# check new class counts\n",
        "upsampled['thirtyplus'].value_counts()"
      ],
      "metadata": {
        "id": "EmyAbaU7QcDO",
        "colab": {
          "base_uri": "https://localhost:8080/"
        },
        "outputId": "f4dda9cf-3b07-40ad-e66c-a48759fe5b69"
      },
      "id": "EmyAbaU7QcDO",
      "execution_count": null,
      "outputs": [
        {
          "output_type": "execute_result",
          "data": {
            "text/plain": [
              "False    1525\n",
              "True     1525\n",
              "Name: thirtyplus, dtype: int64"
            ]
          },
          "metadata": {},
          "execution_count": 49
        }
      ]
    },
    {
      "cell_type": "code",
      "source": [
        "y = upsampled.thirtyplus\n",
        "X = upsampled.drop('thirtyplus', axis=1)\n",
        "X_train, X_test, y_train, y_test = train_test_split(X, y, test_size=0.25, random_state=42)\n"
      ],
      "metadata": {
        "id": "Mk-qE2vwVWOv"
      },
      "id": "Mk-qE2vwVWOv",
      "execution_count": null,
      "outputs": []
    },
    {
      "cell_type": "markdown",
      "source": [
        "### Random Forest Resampled\n",
        "\n"
      ],
      "metadata": {
        "id": "ZOU8hIkxSo-W"
      },
      "id": "ZOU8hIkxSo-W"
    },
    {
      "cell_type": "code",
      "source": [
        "from sklearn.metrics import f1_score\n",
        "from sklearn.metrics import precision_score\n",
        "from sklearn.metrics import recall_score\n",
        "\n",
        "upsampled = RandomForestClassifier(n_estimators=50, max_depth=None, criterion='gini', random_state = 1).fit(X_train, y_train)\n",
        "#random_state = 24 for docs\n",
        "upsampled_pred = upsampled.predict(X)\n",
        "print(recall_score(y, upsampled_pred))\n",
        "\n",
        "upsampled_pred_org = upsampled.predict(useful_data.drop('thirtyplus',axis = 1))\n",
        "print(recall_score(useful_data['thirtyplus'], upsampled_pred_org))\n",
        "print(f1_score(useful_data['thirtyplus'], upsampled_pred_org))"
      ],
      "metadata": {
        "id": "m-azCUnrSM_c",
        "colab": {
          "base_uri": "https://localhost:8080/"
        },
        "outputId": "9ff24dc0-1825-4432-8dc6-d3a9e82243f0"
      },
      "id": "m-azCUnrSM_c",
      "execution_count": null,
      "outputs": [
        {
          "output_type": "stream",
          "name": "stdout",
          "text": [
            "0.9147540983606557\n",
            "0.8151260504201681\n",
            "0.5006451612903227\n"
          ]
        }
      ]
    },
    {
      "cell_type": "code",
      "source": [
        "# Checking accuracy\n",
        "metrics.accuracy_score(y, upsampled_pred)"
      ],
      "metadata": {
        "id": "1XeVfsDGTFLp",
        "colab": {
          "base_uri": "https://localhost:8080/"
        },
        "outputId": "1167eb4d-5c19-45f4-f668-daf1f3bf4dad"
      },
      "id": "1XeVfsDGTFLp",
      "execution_count": null,
      "outputs": [
        {
          "output_type": "execute_result",
          "data": {
            "text/plain": [
              "0.8780327868852459"
            ]
          },
          "metadata": {},
          "execution_count": 52
        }
      ]
    },
    {
      "cell_type": "code",
      "source": [
        "# f1 score\n",
        "f1_score(y, upsampled_pred)"
      ],
      "metadata": {
        "id": "DfSgMjB6TGut",
        "colab": {
          "base_uri": "https://localhost:8080/"
        },
        "outputId": "296c25c3-0f41-4818-c31a-ce9855071595"
      },
      "id": "DfSgMjB6TGut",
      "execution_count": null,
      "outputs": [
        {
          "output_type": "execute_result",
          "data": {
            "text/plain": [
              "0.8823529411764706"
            ]
          },
          "metadata": {},
          "execution_count": 53
        }
      ]
    },
    {
      "cell_type": "code",
      "source": [
        "recall_score(y, upsampled_pred)"
      ],
      "metadata": {
        "id": "5xK4355ZTQZ8",
        "colab": {
          "base_uri": "https://localhost:8080/"
        },
        "outputId": "6b0e366c-8c24-453b-dcac-b8bd40206999"
      },
      "id": "5xK4355ZTQZ8",
      "execution_count": null,
      "outputs": [
        {
          "output_type": "execute_result",
          "data": {
            "text/plain": [
              "0.9147540983606557"
            ]
          },
          "metadata": {},
          "execution_count": 54
        }
      ]
    },
    {
      "cell_type": "code",
      "source": [
        "from sklearn.metrics import confusion_matrix\n",
        "cm = confusion_matrix(y, upsampled_pred)\n",
        "disp = ConfusionMatrixDisplay(confusion_matrix=cm, display_labels=upsampled.classes_)\n",
        "disp.plot(cmap='magma')\n",
        "plt.show()\n"
      ],
      "metadata": {
        "id": "36VS1HPbF8Pp",
        "colab": {
          "base_uri": "https://localhost:8080/",
          "height": 279
        },
        "outputId": "044d5616-d780-424c-99ca-143041dade3d"
      },
      "id": "36VS1HPbF8Pp",
      "execution_count": null,
      "outputs": [
        {
          "output_type": "display_data",
          "data": {
            "text/plain": [
              "<Figure size 432x288 with 2 Axes>"
            ],
            "image/png": "[encoded data removed]"
          },
          "metadata": {
            "needs_background": "light"
          }
        }
      ]
    },
    {
      "cell_type": "markdown",
      "source": [
        "#### Running on Original Data"
      ],
      "metadata": {
        "id": "3lRiRTNUuV0b"
      },
      "id": "3lRiRTNUuV0b"
    },
    {
      "cell_type": "code",
      "source": [
        "# x_train_org, x_test_org, y_train_org, y_test_org = train_test_split(useful_data.drop('thirtyplus',axis = 1), useful_data['thirtyplus'])\n",
        "upsampled_pred_org = upsampled.predict(useful_data.drop('thirtyplus',axis = 1))\n",
        "f1_score(useful_data['thirtyplus'], upsampled_pred_org)"
      ],
      "metadata": {
        "id": "wspyHNG5uZV7",
        "colab": {
          "base_uri": "https://localhost:8080/"
        },
        "outputId": "bffce3c9-c2a3-4d06-da52-eaafc0a34c31"
      },
      "id": "wspyHNG5uZV7",
      "execution_count": null,
      "outputs": [
        {
          "output_type": "execute_result",
          "data": {
            "text/plain": [
              "0.5006451612903227"
            ]
          },
          "metadata": {},
          "execution_count": 56
        }
      ]
    },
    {
      "cell_type": "code",
      "source": [
        "recall_score(useful_data['thirtyplus'], upsampled_pred_org)"
      ],
      "metadata": {
        "id": "CKboEuUkuzQg",
        "colab": {
          "base_uri": "https://localhost:8080/"
        },
        "outputId": "22284220-b848-4c6c-da48-df0c8a668c39"
      },
      "id": "CKboEuUkuzQg",
      "execution_count": null,
      "outputs": [
        {
          "output_type": "execute_result",
          "data": {
            "text/plain": [
              "0.8151260504201681"
            ]
          },
          "metadata": {},
          "execution_count": 57
        }
      ]
    },
    {
      "cell_type": "code",
      "source": [
        "cm = confusion_matrix(useful_data['thirtyplus'], upsampled_pred_org)\n",
        "disp = ConfusionMatrixDisplay(confusion_matrix=cm, display_labels=upsampled.classes_)\n",
        "disp.plot(cmap='magma')\n",
        "plt.show()"
      ],
      "metadata": {
        "id": "juD3Kx4Wu84V",
        "colab": {
          "base_uri": "https://localhost:8080/",
          "height": 279
        },
        "outputId": "e4c2906a-7351-4e53-f500-db80d483293c"
      },
      "id": "juD3Kx4Wu84V",
      "execution_count": null,
      "outputs": [
        {
          "output_type": "display_data",
          "data": {
            "text/plain": [
              "<Figure size 432x288 with 2 Axes>"
            ],
            "image/png": "[encoded data removed]"
          },
          "metadata": {
            "needs_background": "light"
          }
        }
      ]
    },
    {
      "cell_type": "markdown",
      "source": [
        "#### Hyperparameter Tuning"
      ],
      "metadata": {
        "id": "dywk77v7cJd1"
      },
      "id": "dywk77v7cJd1"
    },
    {
      "cell_type": "code",
      "source": [
        "from sklearn.metrics import f1_score\n",
        "from sklearn.metrics import precision_score\n",
        "from sklearn.metrics import recall_score\n",
        "\n",
        "parameters = {\n",
        "    \"n_estimators\":[5,50,100,250],\n",
        "    # \"max_depth\":[2,8,16,32,None],\n",
        "    \"max_features\" : [\"sqrt\", \"log2\", None]\n",
        "\n",
        "}\n",
        "\n",
        "from sklearn.model_selection import GridSearchCV\n",
        "cv = GridSearchCV(upsampled,parameters,cv=5, scoring=\"f1\")\n",
        "cv.fit(X_train,y_train.values.ravel())"
      ],
      "metadata": {
        "id": "IDkyNe4vRu-Q",
        "colab": {
          "base_uri": "https://localhost:8080/"
        },
        "outputId": "af973a1b-f33b-4ac4-82c7-df79d41eeaab"
      },
      "id": "IDkyNe4vRu-Q",
      "execution_count": null,
      "outputs": [
        {
          "output_type": "execute_result",
          "data": {
            "text/plain": [
              "GridSearchCV(cv=5,\n",
              "             estimator=RandomForestClassifier(n_estimators=50, random_state=1),\n",
              "             param_grid={'max_features': ['sqrt', 'log2', None],\n",
              "                         'n_estimators': [5, 50, 100, 250]},\n",
              "             scoring='f1')"
            ]
          },
          "metadata": {},
          "execution_count": 59
        }
      ]
    },
    {
      "cell_type": "code",
      "source": [
        "print(cv.best_params_)\n",
        "print(\"\\n\")\n",
        "mean_score = cv.cv_results_['mean_test_score'][0]\n",
        "std_score = cv.cv_results_['std_test_score'][0]\n",
        "print(mean_score, std_score)"
      ],
      "metadata": {
        "id": "uQMdlV6sR0sC",
        "colab": {
          "base_uri": "https://localhost:8080/"
        },
        "outputId": "3d774bd0-397c-4519-86d7-5315f1b97ffc"
      },
      "id": "uQMdlV6sR0sC",
      "execution_count": null,
      "outputs": [
        {
          "output_type": "stream",
          "name": "stdout",
          "text": [
            "{'max_features': 'sqrt', 'n_estimators': 100}\n",
            "\n",
            "\n",
            "0.8575157570067949 0.014117113855145049\n"
          ]
        }
      ]
    },
    {
      "cell_type": "markdown",
      "source": [
        "#### Feature Importance and a Single Decision Tree"
      ],
      "metadata": {
        "id": "YXT440eVsM-l"
      },
      "id": "YXT440eVsM-l"
    },
    {
      "cell_type": "code",
      "source": [
        "import matplotlib.pyplot as plt\n",
        "#Check out feature importances\n",
        "importances = list(upsampled.feature_importances_)\n",
        "feature_list = list(X_train.columns)\n",
        "feature_list = [re.findall(r\"(Your therapist is\\.{3}_)?(.*)\", x)[0][1] for x in feature_list]\n",
        "x_values = list(range(len(importances)))\n",
        "\n",
        "\n",
        "# Make a bar chart\n",
        "plt.barh(x_values, importances, color=['#1a9988'])\n",
        "# sns.barplot(x = x_values, y=feature_list, palette=\"Blues_d\")\n",
        "# Tick labels for x axis\n",
        "\n",
        "plt.yticks(x_values, feature_list, fontsize=10)\n",
        "plt.xlabel('Importance')\n",
        "plt.ylabel('Feature')\n",
        "plt.title('Feature Importances');"
      ],
      "metadata": {
        "id": "rkA1dJByBw0k",
        "colab": {
          "base_uri": "https://localhost:8080/",
          "height": 295
        },
        "outputId": "2840c029-eee2-4275-8e62-5698edc7bda4"
      },
      "id": "rkA1dJByBw0k",
      "execution_count": null,
      "outputs": [
        {
          "output_type": "display_data",
          "data": {
            "text/plain": [
              "<Figure size 432x288 with 1 Axes>"
            ],
            "image/png": "[encoded data removed]"
          },
          "metadata": {
            "needs_background": "light"
          }
        }
      ]
    },
    {
      "cell_type": "code",
      "source": [
        "X.columns\n",
        "'Stress', 'Anxiety', 'Depression', 'Your therapist is..._Dr. Lindsey Ayala', 'Your therapist is..._Daren Casagrande, LMFT92438',\n",
        "\n"
      ],
      "metadata": {
        "id": "2FRKkq-K2VaN",
        "colab": {
          "base_uri": "https://localhost:8080/"
        },
        "outputId": "f3fba85d-8097-4603-b4d2-f8b912810bd6"
      },
      "id": "2FRKkq-K2VaN",
      "execution_count": null,
      "outputs": [
        {
          "output_type": "execute_result",
          "data": {
            "text/plain": [
              "('Stress',\n",
              " 'Anxiety',\n",
              " 'Depression',\n",
              " 'Your therapist is..._Dr. Lindsey Ayala',\n",
              " 'Your therapist is..._Daren Casagrande, LMFT92438')"
            ]
          },
          "metadata": {},
          "execution_count": 62
        }
      ]
    },
    {
      "cell_type": "code",
      "source": [
        "from sklearn import tree\n",
        "\n",
        "fig = plt.figure(figsize=(30, 10))\n",
        "tree.plot_tree(upsampled.estimators_[2], max_depth = 3 ,\n",
        "          feature_names=X.columns,\n",
        "          class_names = [\"False\", \"True\"],\n",
        "          filled=True, impurity=True,\n",
        "          rounded=True, fontsize=10);"
      ],
      "metadata": {
        "id": "7vsTaL7cICLj",
        "colab": {
          "base_uri": "https://localhost:8080/",
          "height": 352
        },
        "outputId": "fc8b4f61-c249-46c2-c8a8-79bfdad22399"
      },
      "id": "7vsTaL7cICLj",
      "execution_count": null,
      "outputs": [
        {
          "output_type": "display_data",
          "data": {
            "text/plain": [
              "<Figure size 2160x720 with 1 Axes>"
            ],
            "image/png": "[encoded data removed]"
          },
          "metadata": {
            "needs_background": "light"
          }
        }
      ]
    },
    {
      "cell_type": "code",
      "source": [
        "# from sklearn.tree import plot_tree\n",
        "\n",
        "# fig = plt.figure(figsize=(15, 10))\n",
        "# plot_tree(upsampled.estimators_[1],\n",
        "#           max_depth = 3 ,\n",
        "#           feature_names=X.columns,\n",
        "#           filled=True, impurity=True,\n",
        "#           rounded=True);\n",
        "\n",
        "import graphviz\n",
        "from sklearn.tree import export_graphviz\n",
        "\n",
        "dot_data = export_graphviz(upsampled.estimators_[3], max_depth = 2,\n",
        "                           feature_names=X_train.columns,\n",
        "                           class_names= [\"True\", \"False\"],\n",
        "                           filled=True, impurity=True)\n",
        "\n",
        "graph = graphviz.Source(dot_data, format='png')\n",
        "graph"
      ],
      "metadata": {
        "id": "ZJ42ONmFze0y",
        "colab": {
          "base_uri": "https://localhost:8080/",
          "height": 556
        },
        "outputId": "3296ed3e-217b-4779-8e4a-d1d93c55cddf"
      },
      "id": "ZJ42ONmFze0y",
      "execution_count": null,
      "outputs": [
        {
          "output_type": "execute_result",
          "data": {
            "text/plain": [
              "<graphviz.files.Source at 0x7f7951267d60>"
            ],
            "image/svg+xml": "<?xml version=\"1.0\" encoding=\"UTF-8\" standalone=\"no\"?>\n<!DOCTYPE svg PUBLIC \"-//W3C//DTD SVG 1.1//EN\"\n \"http://www.w3.org/Graphics/SVG/1.1/DTD/svg11.dtd\">\n<!-- Generated by graphviz version 2.40.1 (20161225.0304)\n -->\n<!-- Title: Tree Pages: 1 -->\n<svg width=\"618pt\" height=\"401pt\"\n viewBox=\"0.00 0.00 617.50 401.00\" xmlns=\"http://www.w3.org/2000/svg\" xmlns:xlink=\"http://www.w3.org/1999/xlink\">\n<g id=\"graph0\" class=\"graph\" transform=\"scale(1 1) rotate(0) translate(4 397)\">\n<title>Tree</title>\n<polygon fill=\"#ffffff\" stroke=\"transparent\" points=\"-4,4 -4,-397 613.5,-397 613.5,4 -4,4\"/>\n<!-- 0 -->\n<g id=\"node1\" class=\"node\">\n<title>0</title>\n<polygon fill=\"#f9fcfe\" stroke=\"#000000\" points=\"532,-393 138,-393 138,-310 532,-310 532,-393\"/>\n<text text-anchor=\"middle\" x=\"335\" y=\"-377.8\" font-family=\"Helvetica,sans-Serif\" font-size=\"14.00\" fill=\"#000000\">Your therapist is..._Daren Casagrande, LMFT92438 &lt;= 0.5</text>\n<text text-anchor=\"middle\" x=\"335\" y=\"-362.8\" font-family=\"Helvetica,sans-Serif\" font-size=\"14.00\" fill=\"#000000\">gini = 0.5</text>\n<text text-anchor=\"middle\" x=\"335\" y=\"-347.8\" font-family=\"Helvetica,sans-Serif\" font-size=\"14.00\" fill=\"#000000\">samples = 1459</text>\n<text text-anchor=\"middle\" x=\"335\" y=\"-332.8\" font-family=\"Helvetica,sans-Serif\" font-size=\"14.00\" fill=\"#000000\">value = [1127, 1160]</text>\n<text text-anchor=\"middle\" x=\"335\" y=\"-317.8\" font-family=\"Helvetica,sans-Serif\" font-size=\"14.00\" fill=\"#000000\">class = False</text>\n</g>\n<!-- 1 -->\n<g id=\"node2\" class=\"node\">\n<title>1</title>\n<polygon fill=\"#dceefa\" stroke=\"#000000\" points=\"390,-274 0,-274 0,-191 390,-191 390,-274\"/>\n<text text-anchor=\"middle\" x=\"195\" y=\"-258.8\" font-family=\"Helvetica,sans-Serif\" font-size=\"14.00\" fill=\"#000000\">Your therapist is..._Edward Babayan, LMFT119969 &lt;= 0.5</text>\n<text text-anchor=\"middle\" x=\"195\" y=\"-243.8\" font-family=\"Helvetica,sans-Serif\" font-size=\"14.00\" fill=\"#000000\">gini = 0.495</text>\n<text text-anchor=\"middle\" x=\"195\" y=\"-228.8\" font-family=\"Helvetica,sans-Serif\" font-size=\"14.00\" fill=\"#000000\">samples = 1333</text>\n<text text-anchor=\"middle\" x=\"195\" y=\"-213.8\" font-family=\"Helvetica,sans-Serif\" font-size=\"14.00\" fill=\"#000000\">value = [941, 1140]</text>\n<text text-anchor=\"middle\" x=\"195\" y=\"-198.8\" font-family=\"Helvetica,sans-Serif\" font-size=\"14.00\" fill=\"#000000\">class = False</text>\n</g>\n<!-- 0&#45;&gt;1 -->\n<g id=\"edge1\" class=\"edge\">\n<title>0&#45;&gt;1</title>\n<path fill=\"none\" stroke=\"#000000\" d=\"M286.0348,-309.8796C275.0153,-300.513 263.2291,-290.4948 251.9158,-280.8784\"/>\n<polygon fill=\"#000000\" stroke=\"#000000\" points=\"254.0604,-278.1078 244.1742,-274.2981 249.5268,-283.4414 254.0604,-278.1078\"/>\n<text text-anchor=\"middle\" x=\"246.1946\" y=\"-295.5163\" font-family=\"Helvetica,sans-Serif\" font-size=\"14.00\" fill=\"#000000\">True</text>\n</g>\n<!-- 438 -->\n<g id=\"node9\" class=\"node\">\n<title>438</title>\n<polygon fill=\"#e88f4e\" stroke=\"#000000\" points=\"543.5,-274 408.5,-274 408.5,-191 543.5,-191 543.5,-274\"/>\n<text text-anchor=\"middle\" x=\"476\" y=\"-258.8\" font-family=\"Helvetica,sans-Serif\" font-size=\"14.00\" fill=\"#000000\">Depression &lt;= 2.5</text>\n<text text-anchor=\"middle\" x=\"476\" y=\"-243.8\" font-family=\"Helvetica,sans-Serif\" font-size=\"14.00\" fill=\"#000000\">gini = 0.175</text>\n<text text-anchor=\"middle\" x=\"476\" y=\"-228.8\" font-family=\"Helvetica,sans-Serif\" font-size=\"14.00\" fill=\"#000000\">samples = 126</text>\n<text text-anchor=\"middle\" x=\"476\" y=\"-213.8\" font-family=\"Helvetica,sans-Serif\" font-size=\"14.00\" fill=\"#000000\">value = [186, 20]</text>\n<text text-anchor=\"middle\" x=\"476\" y=\"-198.8\" font-family=\"Helvetica,sans-Serif\" font-size=\"14.00\" fill=\"#000000\">class = True</text>\n</g>\n<!-- 0&#45;&gt;438 -->\n<g id=\"edge8\" class=\"edge\">\n<title>0&#45;&gt;438</title>\n<path fill=\"none\" stroke=\"#000000\" d=\"M384.315,-309.8796C395.4132,-300.513 407.2835,-290.4948 418.6777,-280.8784\"/>\n<polygon fill=\"#000000\" stroke=\"#000000\" points=\"421.0899,-283.4225 426.4746,-274.2981 416.575,-278.0731 421.0899,-283.4225\"/>\n<text text-anchor=\"middle\" x=\"424.3667\" y=\"-295.5091\" font-family=\"Helvetica,sans-Serif\" font-size=\"14.00\" fill=\"#000000\">False</text>\n</g>\n<!-- 2 -->\n<g id=\"node3\" class=\"node\">\n<title>2</title>\n<polygon fill=\"#d1e8f9\" stroke=\"#000000\" points=\"169,-155 29,-155 29,-72 169,-72 169,-155\"/>\n<text text-anchor=\"middle\" x=\"99\" y=\"-139.8\" font-family=\"Helvetica,sans-Serif\" font-size=\"14.00\" fill=\"#000000\">Stress &lt;= 2.5</text>\n<text text-anchor=\"middle\" x=\"99\" y=\"-124.8\" font-family=\"Helvetica,sans-Serif\" font-size=\"14.00\" fill=\"#000000\">gini = 0.491</text>\n<text text-anchor=\"middle\" x=\"99\" y=\"-109.8\" font-family=\"Helvetica,sans-Serif\" font-size=\"14.00\" fill=\"#000000\">samples = 1233</text>\n<text text-anchor=\"middle\" x=\"99\" y=\"-94.8\" font-family=\"Helvetica,sans-Serif\" font-size=\"14.00\" fill=\"#000000\">value = [834, 1087]</text>\n<text text-anchor=\"middle\" x=\"99\" y=\"-79.8\" font-family=\"Helvetica,sans-Serif\" font-size=\"14.00\" fill=\"#000000\">class = False</text>\n</g>\n<!-- 1&#45;&gt;2 -->\n<g id=\"edge2\" class=\"edge\">\n<title>1&#45;&gt;2</title>\n<path fill=\"none\" stroke=\"#000000\" d=\"M161.4239,-190.8796C154.2309,-181.9633 146.5616,-172.4565 139.149,-163.268\"/>\n<polygon fill=\"#000000\" stroke=\"#000000\" points=\"141.7224,-160.8836 132.7195,-155.2981 136.2742,-165.2788 141.7224,-160.8836\"/>\n</g>\n<!-- 405 -->\n<g id=\"node6\" class=\"node\">\n<title>405</title>\n<polygon fill=\"#f2bf9b\" stroke=\"#000000\" points=\"311,-155 187,-155 187,-72 311,-72 311,-155\"/>\n<text text-anchor=\"middle\" x=\"249\" y=\"-139.8\" font-family=\"Helvetica,sans-Serif\" font-size=\"14.00\" fill=\"#000000\">Stress &lt;= 1.5</text>\n<text text-anchor=\"middle\" x=\"249\" y=\"-124.8\" font-family=\"Helvetica,sans-Serif\" font-size=\"14.00\" fill=\"#000000\">gini = 0.443</text>\n<text text-anchor=\"middle\" x=\"249\" y=\"-109.8\" font-family=\"Helvetica,sans-Serif\" font-size=\"14.00\" fill=\"#000000\">samples = 100</text>\n<text text-anchor=\"middle\" x=\"249\" y=\"-94.8\" font-family=\"Helvetica,sans-Serif\" font-size=\"14.00\" fill=\"#000000\">value = [107, 53]</text>\n<text text-anchor=\"middle\" x=\"249\" y=\"-79.8\" font-family=\"Helvetica,sans-Serif\" font-size=\"14.00\" fill=\"#000000\">class = True</text>\n</g>\n<!-- 1&#45;&gt;405 -->\n<g id=\"edge5\" class=\"edge\">\n<title>1&#45;&gt;405</title>\n<path fill=\"none\" stroke=\"#000000\" d=\"M213.8866,-190.8796C217.7283,-182.4136 221.8115,-173.4153 225.7834,-164.6626\"/>\n<polygon fill=\"#000000\" stroke=\"#000000\" points=\"229.0877,-165.8507 230.0328,-155.2981 222.7133,-162.9581 229.0877,-165.8507\"/>\n</g>\n<!-- 3 -->\n<g id=\"node4\" class=\"node\">\n<title>3</title>\n<polygon fill=\"#c0c0c0\" stroke=\"#000000\" points=\"93,-36 39,-36 39,0 93,0 93,-36\"/>\n<text text-anchor=\"middle\" x=\"66\" y=\"-14.3\" font-family=\"Helvetica,sans-Serif\" font-size=\"14.00\" fill=\"#000000\">(...)</text>\n</g>\n<!-- 2&#45;&gt;3 -->\n<g id=\"edge3\" class=\"edge\">\n<title>2&#45;&gt;3</title>\n<path fill=\"none\" stroke=\"#000000\" d=\"M84.6217,-71.8901C81.593,-63.1253 78.4674,-54.0798 75.6621,-45.9615\"/>\n<polygon fill=\"#000000\" stroke=\"#000000\" points=\"78.8856,-44.5736 72.3115,-36.2651 72.2695,-46.8599 78.8856,-44.5736\"/>\n</g>\n<!-- 308 -->\n<g id=\"node5\" class=\"node\">\n<title>308</title>\n<polygon fill=\"#c0c0c0\" stroke=\"#000000\" points=\"165,-36 111,-36 111,0 165,0 165,-36\"/>\n<text text-anchor=\"middle\" x=\"138\" y=\"-14.3\" font-family=\"Helvetica,sans-Serif\" font-size=\"14.00\" fill=\"#000000\">(...)</text>\n</g>\n<!-- 2&#45;&gt;308 -->\n<g id=\"edge4\" class=\"edge\">\n<title>2&#45;&gt;308</title>\n<path fill=\"none\" stroke=\"#000000\" d=\"M115.9925,-71.8901C119.6116,-63.0279 123.3479,-53.8788 126.6915,-45.6913\"/>\n<polygon fill=\"#000000\" stroke=\"#000000\" points=\"130.0005,-46.8461 130.541,-36.2651 123.52,-44.1996 130.0005,-46.8461\"/>\n</g>\n<!-- 406 -->\n<g id=\"node7\" class=\"node\">\n<title>406</title>\n<polygon fill=\"#c0c0c0\" stroke=\"#000000\" points=\"255,-36 201,-36 201,0 255,0 255,-36\"/>\n<text text-anchor=\"middle\" x=\"228\" y=\"-14.3\" font-family=\"Helvetica,sans-Serif\" font-size=\"14.00\" fill=\"#000000\">(...)</text>\n</g>\n<!-- 405&#45;&gt;406 -->\n<g id=\"edge6\" class=\"edge\">\n<title>405&#45;&gt;406</title>\n<path fill=\"none\" stroke=\"#000000\" d=\"M239.8502,-71.8901C237.9443,-63.2227 235.978,-54.2808 234.2082,-46.2325\"/>\n<polygon fill=\"#000000\" stroke=\"#000000\" points=\"237.5825,-45.2801 232.0164,-36.2651 230.7458,-46.7835 237.5825,-45.2801\"/>\n</g>\n<!-- 407 -->\n<g id=\"node8\" class=\"node\">\n<title>407</title>\n<polygon fill=\"#c0c0c0\" stroke=\"#000000\" points=\"327,-36 273,-36 273,0 327,0 327,-36\"/>\n<text text-anchor=\"middle\" x=\"300\" y=\"-14.3\" font-family=\"Helvetica,sans-Serif\" font-size=\"14.00\" fill=\"#000000\">(...)</text>\n</g>\n<!-- 405&#45;&gt;407 -->\n<g id=\"edge7\" class=\"edge\">\n<title>405&#45;&gt;407</title>\n<path fill=\"none\" stroke=\"#000000\" d=\"M271.221,-71.8901C276.0577,-62.8331 281.0544,-53.4765 285.4995,-45.1528\"/>\n<polygon fill=\"#000000\" stroke=\"#000000\" points=\"288.6225,-46.7348 290.2459,-36.2651 282.4478,-43.4373 288.6225,-46.7348\"/>\n</g>\n<!-- 439 -->\n<g id=\"node10\" class=\"node\">\n<title>439</title>\n<polygon fill=\"#ea985c\" stroke=\"#000000\" points=\"484,-155 360,-155 360,-72 484,-72 484,-155\"/>\n<text text-anchor=\"middle\" x=\"422\" y=\"-139.8\" font-family=\"Helvetica,sans-Serif\" font-size=\"14.00\" fill=\"#000000\">Stress &lt;= 1.5</text>\n<text text-anchor=\"middle\" x=\"422\" y=\"-124.8\" font-family=\"Helvetica,sans-Serif\" font-size=\"14.00\" fill=\"#000000\">gini = 0.257</text>\n<text text-anchor=\"middle\" x=\"422\" y=\"-109.8\" font-family=\"Helvetica,sans-Serif\" font-size=\"14.00\" fill=\"#000000\">samples = 82</text>\n<text text-anchor=\"middle\" x=\"422\" y=\"-94.8\" font-family=\"Helvetica,sans-Serif\" font-size=\"14.00\" fill=\"#000000\">value = [112, 20]</text>\n<text text-anchor=\"middle\" x=\"422\" y=\"-79.8\" font-family=\"Helvetica,sans-Serif\" font-size=\"14.00\" fill=\"#000000\">class = True</text>\n</g>\n<!-- 438&#45;&gt;439 -->\n<g id=\"edge9\" class=\"edge\">\n<title>438&#45;&gt;439</title>\n<path fill=\"none\" stroke=\"#000000\" d=\"M457.1134,-190.8796C453.2717,-182.4136 449.1885,-173.4153 445.2166,-164.6626\"/>\n<polygon fill=\"#000000\" stroke=\"#000000\" points=\"448.2867,-162.9581 440.9672,-155.2981 441.9123,-165.8507 448.2867,-162.9581\"/>\n</g>\n<!-- 458 -->\n<g id=\"node13\" class=\"node\">\n<title>458</title>\n<polygon fill=\"#e58139\" stroke=\"#000000\" points=\"609.5,-147.5 502.5,-147.5 502.5,-79.5 609.5,-79.5 609.5,-147.5\"/>\n<text text-anchor=\"middle\" x=\"556\" y=\"-132.3\" font-family=\"Helvetica,sans-Serif\" font-size=\"14.00\" fill=\"#000000\">gini = 0.0</text>\n<text text-anchor=\"middle\" x=\"556\" y=\"-117.3\" font-family=\"Helvetica,sans-Serif\" font-size=\"14.00\" fill=\"#000000\">samples = 44</text>\n<text text-anchor=\"middle\" x=\"556\" y=\"-102.3\" font-family=\"Helvetica,sans-Serif\" font-size=\"14.00\" fill=\"#000000\">value = [74, 0]</text>\n<text text-anchor=\"middle\" x=\"556\" y=\"-87.3\" font-family=\"Helvetica,sans-Serif\" font-size=\"14.00\" fill=\"#000000\">class = True</text>\n</g>\n<!-- 438&#45;&gt;458 -->\n<g id=\"edge12\" class=\"edge\">\n<title>438&#45;&gt;458</title>\n<path fill=\"none\" stroke=\"#000000\" d=\"M503.9801,-190.8796C511.5203,-179.6636 519.6887,-167.5131 527.2691,-156.2372\"/>\n<polygon fill=\"#000000\" stroke=\"#000000\" points=\"530.2566,-158.0667 532.9311,-147.8149 524.4473,-154.1612 530.2566,-158.0667\"/>\n</g>\n<!-- 440 -->\n<g id=\"node11\" class=\"node\">\n<title>440</title>\n<polygon fill=\"#c0c0c0\" stroke=\"#000000\" points=\"408,-36 354,-36 354,0 408,0 408,-36\"/>\n<text text-anchor=\"middle\" x=\"381\" y=\"-14.3\" font-family=\"Helvetica,sans-Serif\" font-size=\"14.00\" fill=\"#000000\">(...)</text>\n</g>\n<!-- 439&#45;&gt;440 -->\n<g id=\"edge10\" class=\"edge\">\n<title>439&#45;&gt;440</title>\n<path fill=\"none\" stroke=\"#000000\" d=\"M404.1361,-71.8901C400.3314,-63.0279 396.4035,-53.8788 392.8884,-45.6913\"/>\n<polygon fill=\"#000000\" stroke=\"#000000\" points=\"396.0028,-44.0733 388.8416,-36.2651 389.5705,-46.8348 396.0028,-44.0733\"/>\n</g>\n<!-- 449 -->\n<g id=\"node12\" class=\"node\">\n<title>449</title>\n<polygon fill=\"#c0c0c0\" stroke=\"#000000\" points=\"480,-36 426,-36 426,0 480,0 480,-36\"/>\n<text text-anchor=\"middle\" x=\"453\" y=\"-14.3\" font-family=\"Helvetica,sans-Serif\" font-size=\"14.00\" fill=\"#000000\">(...)</text>\n</g>\n<!-- 439&#45;&gt;449 -->\n<g id=\"edge11\" class=\"edge\">\n<title>439&#45;&gt;449</title>\n<path fill=\"none\" stroke=\"#000000\" d=\"M435.5069,-71.8901C438.352,-63.1253 441.2882,-54.0798 443.9235,-45.9615\"/>\n<polygon fill=\"#000000\" stroke=\"#000000\" points=\"447.3125,-46.8572 447.071,-36.2651 440.6545,-44.6959 447.3125,-46.8572\"/>\n</g>\n</g>\n</svg>\n"
          },
          "metadata": {},
          "execution_count": 64
        }
      ]
    },
    {
      "cell_type": "markdown",
      "source": [
        "### Logistic Regression Resampled"
      ],
      "metadata": {
        "id": "bJFjmrDPT9H2"
      },
      "id": "bJFjmrDPT9H2"
    },
    {
      "cell_type": "code",
      "source": [
        "upsampled = LogisticRegression(solver = 'lbfgs', random_state=40).fit(X_train, y_train)\n",
        "upsampled.fit(X_train, y_train)\n",
        "upsampled_pred = upsampled.predict(X_test)"
      ],
      "metadata": {
        "id": "oc9dZ_ZKT4J4"
      },
      "id": "oc9dZ_ZKT4J4",
      "execution_count": null,
      "outputs": []
    },
    {
      "cell_type": "code",
      "source": [
        "# Checking accuracy\n",
        "metrics.accuracy_score(y_test, upsampled_pred)"
      ],
      "metadata": {
        "id": "7IGIxxxVUQdR"
      },
      "id": "7IGIxxxVUQdR",
      "execution_count": null,
      "outputs": []
    },
    {
      "cell_type": "code",
      "source": [
        "# f1 score\n",
        "f1_score(y_test, upsampled_pred)"
      ],
      "metadata": {
        "id": "gBb3s8skUSGz"
      },
      "id": "gBb3s8skUSGz",
      "execution_count": null,
      "outputs": []
    },
    {
      "cell_type": "code",
      "source": [
        "recall_score(y_test, upsampled_pred)"
      ],
      "metadata": {
        "id": "5UEFG8AFUTVR"
      },
      "id": "5UEFG8AFUTVR",
      "execution_count": null,
      "outputs": []
    },
    {
      "cell_type": "code",
      "source": [
        "cm = confusion_matrix(y_test, upsampled_pred)\n",
        "disp = ConfusionMatrixDisplay(confusion_matrix=cm, display_labels=RF.classes_)\n",
        "disp.plot()\n",
        "plt.show()"
      ],
      "metadata": {
        "id": "qr69NJJmVdi7"
      },
      "id": "qr69NJJmVdi7",
      "execution_count": null,
      "outputs": []
    },
    {
      "cell_type": "markdown",
      "source": [
        "## Down Sampling"
      ],
      "metadata": {
        "id": "iWFFgrDyRMoP"
      },
      "id": "iWFFgrDyRMoP"
    },
    {
      "cell_type": "code",
      "source": [
        "from sklearn.utils import resample\n",
        "\n",
        "# Separate input features and target\n",
        "y = useful_data[\"thirtyplus\"]\n",
        "X = useful_data.drop('thirtyplus', axis=1)\n",
        "\n",
        "# setting up testing and training sets\n",
        "X_train, X_test, y_train, y_test = train_test_split(X, y, test_size=0.25, random_state=42)\n",
        "\n",
        "# concatenate our training data back together\n",
        "X = pd.concat([X_train, y_train], axis=1)\n",
        "\n",
        "# separate minority and majority classes\n",
        "not_target = X[X[\"thirtyplus\"]== False]\n",
        "target = X[X[\"thirtyplus\"] == True]\n",
        "\n",
        "# upsample minority\n",
        "not_target_downsampled = resample(not_target,\n",
        "                          replace=True, # sample with replacement\n",
        "                          n_samples=len(target), # match number in majority class\n",
        "                          ) # reproducible results\n",
        "\n",
        "# combine majority and upsampled minority\n",
        "upsampled = pd.concat([not_target_downsampled, target])\n",
        "\n",
        "# check new class counts\n",
        "upsampled['thirtyplus'].value_counts()"
      ],
      "metadata": {
        "id": "1Dwc-NQFQzoc"
      },
      "id": "1Dwc-NQFQzoc",
      "execution_count": null,
      "outputs": []
    },
    {
      "cell_type": "code",
      "source": [
        "y = upsampled.thirtyplus\n",
        "X = upsampled.drop('thirtyplus', axis=1)\n",
        "X_train, X_test, y_train, y_test = train_test_split(X, y, test_size=0.25, random_state=42)\n"
      ],
      "metadata": {
        "id": "UonEdusSRD4r"
      },
      "id": "UonEdusSRD4r",
      "execution_count": null,
      "outputs": []
    },
    {
      "cell_type": "code",
      "source": [
        "upsampled = RandomForestClassifier(n_estimators=50, max_depth=2, class_weight=\"balanced\", criterion='gini').fit(X_train, y_train)\n",
        "upsampled_pred = upsampled.predict(X_test)"
      ],
      "metadata": {
        "id": "6EdYQrCpRKMn"
      },
      "id": "6EdYQrCpRKMn",
      "execution_count": null,
      "outputs": []
    },
    {
      "cell_type": "code",
      "source": [
        "# f1 score\n",
        "f1_score(y_test, upsampled_pred)"
      ],
      "metadata": {
        "id": "OTOfFkBTRVaW"
      },
      "id": "OTOfFkBTRVaW",
      "execution_count": null,
      "outputs": []
    },
    {
      "cell_type": "markdown",
      "source": [
        "##K Nearest Neighbors"
      ],
      "metadata": {
        "id": "SKvD90KsozxY"
      },
      "id": "SKvD90KsozxY"
    },
    {
      "cell_type": "markdown",
      "source": [
        " ### On resampled data"
      ],
      "metadata": {
        "id": "BCT0LSUk7SGx"
      },
      "id": "BCT0LSUk7SGx"
    },
    {
      "cell_type": "code",
      "source": [
        "from sklearn.cluster import KMeans\n",
        "from sklearn.metrics import silhouette_score"
      ],
      "metadata": {
        "id": "7WAMJL3zpBdT"
      },
      "execution_count": null,
      "outputs": [],
      "id": "7WAMJL3zpBdT"
    },
    {
      "cell_type": "code",
      "source": [
        "#scaling them\n",
        "from sklearn.preprocessing import MinMaxScaler\n",
        "scaler = MinMaxScaler(feature_range=(0, 1))\n",
        "\n",
        "x_train_scaled = scaler.fit_transform(X_train)\n",
        "x_train = pd.DataFrame(x_train_scaled)\n",
        "\n",
        "x_test_scaled = scaler.fit_transform(X_test)\n",
        "x_test = pd.DataFrame(x_test_scaled)"
      ],
      "metadata": {
        "id": "ZyjJdUWzPpWh"
      },
      "execution_count": null,
      "outputs": [],
      "id": "ZyjJdUWzPpWh"
    },
    {
      "cell_type": "code",
      "source": [
        "from sklearn import neighbors\n",
        "from sklearn.metrics import mean_squared_error\n",
        "from math import sqrt\n",
        "import matplotlib.pyplot as plt\n",
        "%matplotlib inline"
      ],
      "metadata": {
        "id": "H_o3GtR3v0CM"
      },
      "id": "H_o3GtR3v0CM",
      "execution_count": null,
      "outputs": []
    },
    {
      "cell_type": "code",
      "source": [
        "rmse_val = [] #to store rmse values for different k\n",
        "for K in range(20):\n",
        "    K = K+1\n",
        "    model = neighbors.KNeighborsRegressor(n_neighbors = K)\n",
        "\n",
        "    model.fit(x_train, y_train)  #fit the model\n",
        "    pred=model.predict(x_test) #make prediction on test set\n",
        "    error = sqrt(mean_squared_error(y_test,pred)) #calculate rmse\n",
        "    rmse_val.append(error) #store rmse values\n",
        "    print('RMSE value for k= ' , K , 'is:', error)"
      ],
      "metadata": {
        "id": "3hMo_TDywKzV"
      },
      "id": "3hMo_TDywKzV",
      "execution_count": null,
      "outputs": []
    },
    {
      "cell_type": "code",
      "source": [
        "#plotting the rmse values against k values\n",
        "curve = pd.DataFrame(rmse_val) #elbow curve\n",
        "curve.plot()"
      ],
      "metadata": {
        "id": "3qxiIKgFwQms"
      },
      "id": "3qxiIKgFwQms",
      "execution_count": null,
      "outputs": []
    },
    {
      "cell_type": "markdown",
      "source": [
        "We notice using the elbow method with rmse that using k = 5 would be a the best k value to use."
      ],
      "metadata": {
        "id": "UyLX5L5uw9CX"
      },
      "id": "UyLX5L5uw9CX"
    },
    {
      "cell_type": "code",
      "source": [
        "model = neighbors.KNeighborsRegressor(n_neighbors = 5)\n",
        "\n",
        "model.fit(x_train, y_train)  #fit the model\n",
        "y_pred_raw=model.predict(x_test) #make prediction on test set\n",
        "threshold = 0.6\n",
        "y_pred = y_pred_raw >= threshold"
      ],
      "metadata": {
        "id": "dLbppKrrwUrl"
      },
      "id": "dLbppKrrwUrl",
      "execution_count": null,
      "outputs": []
    },
    {
      "cell_type": "code",
      "source": [
        "print(\"Accuracy:\",metrics.accuracy_score(y_test, y_pred))"
      ],
      "metadata": {
        "id": "8HWSYnK51DTA"
      },
      "id": "8HWSYnK51DTA",
      "execution_count": null,
      "outputs": []
    },
    {
      "cell_type": "code",
      "source": [
        "f1_score(y_test, y_pred)"
      ],
      "metadata": {
        "id": "vjklvKzQ4Gmj"
      },
      "id": "vjklvKzQ4Gmj",
      "execution_count": null,
      "outputs": []
    },
    {
      "cell_type": "code",
      "source": [
        "recall_score(y_test, y_pred)"
      ],
      "metadata": {
        "id": "iw_Mzmab4Xoo"
      },
      "id": "iw_Mzmab4Xoo",
      "execution_count": null,
      "outputs": []
    },
    {
      "cell_type": "code",
      "source": [
        "cm = confusion_matrix(y_test, y_pred)\n",
        "disp = ConfusionMatrixDisplay(confusion_matrix=cm)\n",
        "disp.plot(cmap='magma')\n",
        "plt.show()"
      ],
      "metadata": {
        "id": "9kGToDpfyLUZ"
      },
      "id": "9kGToDpfyLUZ",
      "execution_count": null,
      "outputs": []
    },
    {
      "cell_type": "markdown",
      "source": [
        "###On original data"
      ],
      "metadata": {
        "id": "vuUmAYxq5kJj"
      },
      "id": "vuUmAYxq5kJj"
    },
    {
      "cell_type": "code",
      "source": [
        "# x_train_org, x_test_org, y_train_org, y_test_org = train_test_split(useful_data.drop('thirtyplus',axis = 1), useful_data['thirtyplus'])\n",
        "x_org_scaled = scaler.fit_transform(useful_data.drop('thirtyplus',axis = 1))\n",
        "x_org_scaled = pd.DataFrame(x_org_scaled)\n",
        "\n",
        "upsampled_pred_org = model.predict(x_org_scaled)\n",
        "upsampled_pred_org = upsampled_pred_org >= threshold\n",
        "f1_score(useful_data['thirtyplus'], upsampled_pred_org)"
      ],
      "metadata": {
        "id": "fXGDavJY4VGk"
      },
      "id": "fXGDavJY4VGk",
      "execution_count": null,
      "outputs": []
    },
    {
      "cell_type": "code",
      "source": [
        "recall_score(useful_data['thirtyplus'], upsampled_pred_org)"
      ],
      "metadata": {
        "id": "N2I4RacS5waF"
      },
      "id": "N2I4RacS5waF",
      "execution_count": null,
      "outputs": []
    },
    {
      "cell_type": "code",
      "source": [
        "cm = confusion_matrix(useful_data['thirtyplus'], upsampled_pred_org)\n",
        "disp = ConfusionMatrixDisplay(confusion_matrix=cm)\n",
        "disp.plot(cmap='magma')\n",
        "plt.show()"
      ],
      "metadata": {
        "id": "BmqVSCWA6CvF"
      },
      "id": "BmqVSCWA6CvF",
      "execution_count": null,
      "outputs": []
    },
    {
      "cell_type": "markdown",
      "source": [
        "## Cross Validated CART"
      ],
      "metadata": {
        "id": "o-LGjHrNgDST"
      },
      "id": "o-LGjHrNgDST"
    },
    {
      "cell_type": "markdown",
      "source": [
        "### CART and Cross Validation"
      ],
      "metadata": {
        "id": "cnCXwdQggN9H"
      },
      "id": "cnCXwdQggN9H"
    },
    {
      "cell_type": "code",
      "source": [
        "from sklearn.tree import DecisionTreeClassifier\n",
        "from sklearn.metrics import f1_score, accuracy_score, recall_score\n",
        "\n",
        "x_train, x_test, y_train, y_test = train_test_split(useful_data.drop('thirtyplus',axis = 1), useful_data['thirtyplus'])\n",
        "\n",
        "grid_values = {'ccp_alpha': np.linspace(0, 0.10, 201),\n",
        "               'random_state': [88]}\n",
        "dtc = DecisionTreeClassifier(random_state=42)\n",
        "dtc.fit(x_train, y_train)\n",
        "y_pred = dtc.predict(x_test)\n",
        "\n",
        "print('Recall: ', recall_score(y_test, y_pred))\n",
        "print('F1 Score: ', f1_score(y_test, y_pred))\n",
        "print('Accuracy: ', accuracy_score(y_test, y_pred))"
      ],
      "metadata": {
        "id": "iW26M1zegJj_"
      },
      "id": "iW26M1zegJj_",
      "execution_count": null,
      "outputs": []
    },
    {
      "cell_type": "code",
      "source": [
        "dtc_cv = GridSearchCV(dtc, param_grid = grid_values, cv=5, scoring = 'f1', verbose=1).fit(x_train, y_train)\n",
        "y_pred = dtc_cv.best_estimator_.predict(x_test)\n",
        "\n",
        "print('Recall: ', recall_score(y_test, y_pred))\n",
        "print('F1 Score: ', f1_score(y_test, y_pred))\n",
        "print('Accuracy: ', accuracy_score(y_test, y_pred))"
      ],
      "metadata": {
        "id": "KMXlVxn7gQ7X"
      },
      "id": "KMXlVxn7gQ7X",
      "execution_count": null,
      "outputs": []
    },
    {
      "cell_type": "code",
      "source": [
        "cm = confusion_matrix(y_test, y_pred)\n",
        "disp = ConfusionMatrixDisplay(confusion_matrix=cm, display_labels=dtc_cv.classes_)\n",
        "disp.plot(cmap='magma')\n",
        "plt.show()"
      ],
      "metadata": {
        "id": "zZQi9rzCgVyZ"
      },
      "id": "zZQi9rzCgVyZ",
      "execution_count": null,
      "outputs": []
    },
    {
      "cell_type": "markdown",
      "source": [
        "### CART Resampled"
      ],
      "metadata": {
        "id": "ZXwNLfHagar8"
      },
      "id": "ZXwNLfHagar8"
    },
    {
      "cell_type": "code",
      "source": [
        "count_class_0, count_class_1 = useful_data['thirtyplus'].value_counts()\n",
        "\n",
        "df_class_0 = useful_data[useful_data['thirtyplus'] == False]\n",
        "df_class_1 = useful_data[useful_data['thirtyplus'] == True]"
      ],
      "metadata": {
        "id": "A7t-gRlSgXaN"
      },
      "id": "A7t-gRlSgXaN",
      "execution_count": null,
      "outputs": []
    },
    {
      "cell_type": "markdown",
      "source": [
        "#### Undersampled"
      ],
      "metadata": {
        "id": "bxkVtzXEhIbj"
      },
      "id": "bxkVtzXEhIbj"
    },
    {
      "cell_type": "code",
      "source": [
        "df_class_0_under = df_class_0.sample(count_class_1)\n",
        "useful_data_under = pd.concat([df_class_0_under, df_class_1], axis=0)\n",
        "\n",
        "x_train2, x_test2, y_train2, y_test2 = train_test_split(useful_data_under.drop('thirtyplus',axis = 1), useful_data_under['thirtyplus'])\n",
        "\n",
        "dtc2 = DecisionTreeClassifier( random_state=42)\n",
        "dtc2_cv = GridSearchCV(dtc2, param_grid = grid_values, cv=5, scoring = 'f1', verbose=1)\n",
        "dtc2_cv.fit(x_train2, y_train2)\n",
        "y_pred2 = dtc2_cv.best_estimator_.predict(x_test2)\n",
        "\n",
        "print('Recall: ', recall_score(y_test2, y_pred2))\n",
        "print('F1 Score: ', f1_score(y_test2, y_pred2))\n",
        "print('Accuracy: ', accuracy_score(y_test2, y_pred2))"
      ],
      "metadata": {
        "id": "5bmzlgZGgeRB"
      },
      "id": "5bmzlgZGgeRB",
      "execution_count": null,
      "outputs": []
    },
    {
      "cell_type": "code",
      "source": [
        "cm = confusion_matrix(y_test2, y_pred2)\n",
        "disp = ConfusionMatrixDisplay(confusion_matrix=cm, display_labels=dtc2_cv.classes_)\n",
        "disp.plot(cmap='magma')\n",
        "plt.show()"
      ],
      "metadata": {
        "id": "6yqIsVPpgg2g"
      },
      "id": "6yqIsVPpgg2g",
      "execution_count": null,
      "outputs": []
    },
    {
      "cell_type": "markdown",
      "source": [
        "#### Upsampled"
      ],
      "metadata": {
        "id": "Czc9Pc_VhDir"
      },
      "id": "Czc9Pc_VhDir"
    },
    {
      "cell_type": "code",
      "source": [
        "df_class_1_over = df_class_1.sample(count_class_0, replace=True)\n",
        "useful_data_over = pd.concat([df_class_0, df_class_1_over], axis=0)\n",
        "\n",
        "x_train3, x_test3, y_train3, y_test3 = train_test_split(useful_data_over.drop('thirtyplus',axis = 1), useful_data_over['thirtyplus'])\n",
        "\n",
        "dtc3 = DecisionTreeClassifier( random_state=42)\n",
        "dtc3_cv = GridSearchCV(dtc3, param_grid = grid_values, cv=5, scoring = 'f1', verbose=1)\n",
        "dtc3_cv.fit(x_train3, y_train3)\n",
        "y_pred3 = dtc3_cv.best_estimator_.predict(x_test3)\n",
        "\n",
        "print('Recall: ', recall_score(y_test3, y_pred3))\n",
        "print('F1 Score: ', f1_score(y_test3, y_pred3))\n",
        "print('Accuracy: ', accuracy_score(y_test3, y_pred3))"
      ],
      "metadata": {
        "id": "9ssmchQMgjuE"
      },
      "id": "9ssmchQMgjuE",
      "execution_count": null,
      "outputs": []
    },
    {
      "cell_type": "code",
      "source": [
        "cm = confusion_matrix(y_test3, y_pred3)\n",
        "disp = ConfusionMatrixDisplay(confusion_matrix=cm, display_labels=dtc3_cv.classes_)\n",
        "disp.plot(cmap='magma')\n",
        "plt.show()"
      ],
      "metadata": {
        "id": "DO-BTzEFgmZ9"
      },
      "id": "DO-BTzEFgmZ9",
      "execution_count": null,
      "outputs": []
    },
    {
      "cell_type": "markdown",
      "source": [
        "##### Testing on original dataset"
      ],
      "metadata": {
        "id": "mJzOE6B5g7Lp"
      },
      "id": "mJzOE6B5g7Lp"
    },
    {
      "cell_type": "code",
      "source": [
        "original_over = dtc3_cv.predict(useful_data.drop('thirtyplus',axis = 1))\n",
        "y = useful_data['thirtyplus']\n",
        "print('Recall: ', recall_score(y, original_over))\n",
        "print('F1 Score: ', f1_score(y, original_over))\n",
        "print('Accuracy: ', accuracy_score(y, original_over))"
      ],
      "metadata": {
        "id": "kzSaoUE_gqkj"
      },
      "id": "kzSaoUE_gqkj",
      "execution_count": null,
      "outputs": []
    },
    {
      "cell_type": "code",
      "source": [
        "cm = confusion_matrix(y, original_over)\n",
        "disp = ConfusionMatrixDisplay(confusion_matrix=cm, display_labels=dtc3_cv.classes_)\n",
        "disp.plot(cmap='magma')\n",
        "plt.show()"
      ],
      "metadata": {
        "id": "fPVmsw_HhMMk"
      },
      "id": "fPVmsw_HhMMk",
      "execution_count": null,
      "outputs": []
    },
    {
      "cell_type": "markdown",
      "source": [
        "## XGBoost (Extreme Gradient Boosting)"
      ],
      "metadata": {
        "id": "mSZLrPtlh5E9"
      },
      "id": "mSZLrPtlh5E9"
    },
    {
      "cell_type": "code",
      "source": [
        "params = {\n",
        " \"learning_rate\" : [0.05,0.10,0.15,0.20,0.25,0.30],\n",
        " \"max_depth\" : [ 3, 4, 5, 6, 8, 10, 12, 15],\n",
        " \"min_child_weight\" : [ 1, 3, 5, 7 ],\n",
        " \"gamma\": [ 0.0, 0.1, 0.2 , 0.3, 0.4 ],\n",
        " \"colsample_bytree\" : [ 0.3, 0.4, 0.5 , 0.7 ]\n",
        "}"
      ],
      "metadata": {
        "id": "0T5p63phh-Qp"
      },
      "id": "0T5p63phh-Qp",
      "execution_count": null,
      "outputs": []
    },
    {
      "cell_type": "code",
      "source": [
        "from sklearn.model_selection import RandomizedSearchCV\n",
        "from xgboost import XGBClassifier\n",
        "xgb = XGBClassifier(\n",
        "    objective= 'binary:logistic',\n",
        "    nthread=4,\n",
        "    seed=42\n",
        ")\n",
        "cv = RandomizedSearchCV(xgb, params, n_jobs=-1,\n",
        "                   cv=5,\n",
        "                   scoring='recall',\n",
        "                   verbose=3, refit=True)\n",
        "cv.fit(X_train,y_train.values.ravel())"
      ],
      "metadata": {
        "colab": {
          "base_uri": "https://localhost:8080/"
        },
        "id": "ND48Z57iiYVF",
        "outputId": "c1666cf2-a20e-4ea9-8829-863fc510fcfc"
      },
      "id": "ND48Z57iiYVF",
      "execution_count": null,
      "outputs": [
        {
          "output_type": "stream",
          "name": "stdout",
          "text": [
            "Fitting 5 folds for each of 10 candidates, totalling 50 fits\n"
          ]
        },
        {
          "output_type": "execute_result",
          "data": {
            "text/plain": [
              "RandomizedSearchCV(cv=5, estimator=XGBClassifier(nthread=4, seed=42), n_jobs=-1,\n",
              "                   param_distributions={'colsample_bytree': [0.3, 0.4, 0.5,\n",
              "                                                             0.7],\n",
              "                                        'gamma': [0.0, 0.1, 0.2, 0.3, 0.4],\n",
              "                                        'learning_rate': [0.05, 0.1, 0.15, 0.2,\n",
              "                                                          0.25, 0.3],\n",
              "                                        'max_depth': [3, 4, 5, 6, 8, 10, 12,\n",
              "                                                      15],\n",
              "                                        'min_child_weight': [1, 3, 5, 7]},\n",
              "                   scoring='recall', verbose=3)"
            ]
          },
          "metadata": {},
          "execution_count": 63
        }
      ]
    },
    {
      "cell_type": "code",
      "source": [
        "upsampled_xgb = cv.best_estimator_.fit(X_train, y_train)\n",
        "upsampled_xgb_pred = upsampled_xgb.predict(X_test)"
      ],
      "metadata": {
        "id": "xXHuzyBAieqb"
      },
      "id": "xXHuzyBAieqb",
      "execution_count": null,
      "outputs": []
    },
    {
      "cell_type": "code",
      "source": [
        "f1_score(y_test, upsampled_xgb_pred)"
      ],
      "metadata": {
        "colab": {
          "base_uri": "https://localhost:8080/"
        },
        "id": "q7f-WK1EizuD",
        "outputId": "3b1558b3-322c-4c9a-d06c-88916b4c314b"
      },
      "id": "q7f-WK1EizuD",
      "execution_count": null,
      "outputs": [
        {
          "output_type": "execute_result",
          "data": {
            "text/plain": [
              "0.8553137003841228"
            ]
          },
          "metadata": {},
          "execution_count": 74
        }
      ]
    },
    {
      "cell_type": "code",
      "source": [
        "recall_score(y_test, upsampled_xgb_pred)"
      ],
      "metadata": {
        "colab": {
          "base_uri": "https://localhost:8080/"
        },
        "id": "hLL-epufjBx5",
        "outputId": "52194fac-9e00-4804-d13f-9ee59b64b0e4"
      },
      "id": "hLL-epufjBx5",
      "execution_count": null,
      "outputs": [
        {
          "output_type": "execute_result",
          "data": {
            "text/plain": [
              "0.9051490514905149"
            ]
          },
          "metadata": {},
          "execution_count": 75
        }
      ]
    },
    {
      "cell_type": "code",
      "source": [
        "cm = confusion_matrix(y_test, upsampled_xgb_pred)\n",
        "disp = ConfusionMatrixDisplay(confusion_matrix=cm, display_labels=cv.best_estimator_.classes_)\n",
        "disp.plot()\n",
        "plt.show()"
      ],
      "metadata": {
        "colab": {
          "base_uri": "https://localhost:8080/",
          "height": 279
        },
        "id": "cbV3NbAai3L1",
        "outputId": "b5cd6577-7d6f-4846-8008-c98482559982"
      },
      "id": "cbV3NbAai3L1",
      "execution_count": null,
      "outputs": [
        {
          "output_type": "display_data",
          "data": {
            "text/plain": [
              "<Figure size 432x288 with 2 Axes>"
            ],
            "image/png": "[encoded data removed]"
          },
          "metadata": {
            "needs_background": "light"
          }
        }
      ]
    },
    {
      "cell_type": "code",
      "source": [
        "original_over_xgb = cv.best_estimator_.predict(useful_data.drop('thirtyplus',axis = 1))\n",
        "y = useful_data['thirtyplus']\n",
        "print('Recall: ', recall_score(y, original_over))\n",
        "print('F1 Score: ', f1_score(y, original_over))\n",
        "print('Accuracy: ', metrics.accuracy_score(y, original_over))"
      ],
      "metadata": {
        "colab": {
          "base_uri": "https://localhost:8080/"
        },
        "id": "QjHtr878jPH6",
        "outputId": "93249871-2bcb-4ffc-deb8-27db3c4f7804"
      },
      "id": "QjHtr878jPH6",
      "execution_count": null,
      "outputs": [
        {
          "output_type": "stream",
          "name": "stdout",
          "text": [
            "Recall:  0.8781512605042017\n",
            "F1 Score:  0.4739229024943311\n",
            "Accuracy:  0.7970253718285214\n"
          ]
        }
      ]
    },
    {
      "cell_type": "code",
      "source": [
        "cm = confusion_matrix(y, original_over_xgb)\n",
        "disp = ConfusionMatrixDisplay(confusion_matrix=cm, display_labels=cv.best_estimator_.classes_)\n",
        "disp.plot(cmap='magma')\n",
        "plt.show()"
      ],
      "metadata": {
        "colab": {
          "base_uri": "https://localhost:8080/",
          "height": 282
        },
        "id": "4XX-6mD4koow",
        "outputId": "cf414169-7e92-409b-bd0b-c8d40b2a984d"
      },
      "id": "4XX-6mD4koow",
      "execution_count": null,
      "outputs": [
        {
          "output_type": "display_data",
          "data": {
            "text/plain": [
              "<Figure size 432x288 with 2 Axes>"
            ],
            "image/png": "[encoded data removed]"
          },
          "metadata": {
            "needs_background": "light"
          }
        }
      ]
    }
  ],
  "metadata": {
    "kernelspec": {
      "display_name": "Python 3 (ipykernel)",
      "language": "python",
      "name": "python3"
    },
    "language_info": {
      "codemirror_mode": {
        "name": "ipython",
        "version": 3
      },
      "file_extension": ".py",
      "mimetype": "text/x-python",
      "name": "python",
      "nbconvert_exporter": "python",
      "pygments_lexer": "ipython3",
      "version": "3.9.13"
    },
    "colab": {
      "provenance": [],
      "collapsed_sections": [
        "ZUDfWFJcTPIh",
        "8dlZg7Uf3cPt",
        "GFtryERFNuw_",
        "FFi1Sb3UbZyi",
        "oIXEPZkHDibz",
        "yiwcS9HRe6sm",
        "8-_pi_pTQW6m",
        "ZOU8hIkxSo-W",
        "3lRiRTNUuV0b",
        "dywk77v7cJd1",
        "YXT440eVsM-l",
        "bJFjmrDPT9H2",
        "iWFFgrDyRMoP",
        "SKvD90KsozxY",
        "BCT0LSUk7SGx",
        "vuUmAYxq5kJj"
      ]
    }
  },
  "nbformat": 4,
  "nbformat_minor": 5
}